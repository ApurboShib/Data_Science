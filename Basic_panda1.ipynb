{
 "cells": [
  {
   "cell_type": "code",
   "id": "initial_id",
   "metadata": {
    "collapsed": true,
    "ExecuteTime": {
     "end_time": "2024-11-28T04:47:12.878609Z",
     "start_time": "2024-11-28T04:47:10.922627Z"
    }
   },
   "source": [
    "\"\"\"\" Pandas \n",
    "- Pandas is a Python library for working with tabular data.\n",
    "- Pandas is used to analyze, clean, explore, and manipulate tabular data.\n",
    "- Pandas allows us to analyze big data and make conclusions based on statistical theories.\n",
    "- Installation: pip install pandas\n",
    "\n",
    "Objectives\n",
    "==========\n",
    "- Pandas dataframe\n",
    "- Create, read, write pandas dataframe\n",
    "- Dataframe methods and attributes: head, tail,  shape, info, describe,  values, columns\n",
    "- Sorting\n",
    "- Selecting columns\n",
    "- Selecting rows\n",
    "- Creating new columns\n",
    "- Data frame Query\n",
    "\"\"\"\n",
    "\n",
    "import pandas as pd\n",
    "\n",
    "pd.__version__"
   ],
   "outputs": [
    {
     "data": {
      "text/plain": [
       "'2.2.2'"
      ]
     },
     "execution_count": 1,
     "metadata": {},
     "output_type": "execute_result"
    }
   ],
   "execution_count": 1
  },
  {
   "metadata": {},
   "cell_type": "code",
   "outputs": [],
   "execution_count": null,
   "source": [
    "\"\"\" Types of data \n",
    "- tabular data (*)\n",
    "- image \n",
    "- video => a set of frames\n",
    "- audio => 1D array of numbers\n",
    "- text => 1D array of numbers\n",
    "\n",
    "ML Steps:\n",
    "1. Data preparation: raw data --> processed for statistical model\n",
    "2. Statistical Algorithm\n",
    "3. Experimentation\n",
    "\"\"\""
   ],
   "id": "41d69c08753f2ad5"
  },
  {
   "metadata": {
    "ExecuteTime": {
     "end_time": "2024-11-28T04:51:28.591317Z",
     "start_time": "2024-11-28T04:51:28.578799Z"
    }
   },
   "cell_type": "code",
   "source": [
    "\"\"\" Pandas dataframe \n",
    "- A data structure for tabular data\n",
    "\"\"\"\n",
    "\n",
    "employee_data_table = {\n",
    "    \"EmployeeId\": [1, 2, 3, 4, 5],\n",
    "    \"Name\": [\"John\", \"Doe\", \"Jane\", \"Smith\", \"Jack\"],\n",
    "    \"Salary\": [20000, 30000, 40000, 50000, 60000],\n",
    "}\n",
    "\n",
    "employee_df = pd.DataFrame(\n",
    "    employee_data_table\n",
    ")\n",
    "\n",
    "employee_df.head(3)"
   ],
   "id": "b8e6f1a81b77c500",
   "outputs": [
    {
     "data": {
      "text/plain": [
       "   EmployeeId  Name  Salary\n",
       "0           1  John   20000\n",
       "1           2   Doe   30000\n",
       "2           3  Jane   40000"
      ],
      "text/html": [
       "<div>\n",
       "<style scoped>\n",
       "    .dataframe tbody tr th:only-of-type {\n",
       "        vertical-align: middle;\n",
       "    }\n",
       "\n",
       "    .dataframe tbody tr th {\n",
       "        vertical-align: top;\n",
       "    }\n",
       "\n",
       "    .dataframe thead th {\n",
       "        text-align: right;\n",
       "    }\n",
       "</style>\n",
       "<table border=\"1\" class=\"dataframe\">\n",
       "  <thead>\n",
       "    <tr style=\"text-align: right;\">\n",
       "      <th></th>\n",
       "      <th>EmployeeId</th>\n",
       "      <th>Name</th>\n",
       "      <th>Salary</th>\n",
       "    </tr>\n",
       "  </thead>\n",
       "  <tbody>\n",
       "    <tr>\n",
       "      <th>0</th>\n",
       "      <td>1</td>\n",
       "      <td>John</td>\n",
       "      <td>20000</td>\n",
       "    </tr>\n",
       "    <tr>\n",
       "      <th>1</th>\n",
       "      <td>2</td>\n",
       "      <td>Doe</td>\n",
       "      <td>30000</td>\n",
       "    </tr>\n",
       "    <tr>\n",
       "      <th>2</th>\n",
       "      <td>3</td>\n",
       "      <td>Jane</td>\n",
       "      <td>40000</td>\n",
       "    </tr>\n",
       "  </tbody>\n",
       "</table>\n",
       "</div>"
      ]
     },
     "execution_count": 2,
     "metadata": {},
     "output_type": "execute_result"
    }
   ],
   "execution_count": 2
  },
  {
   "metadata": {
    "ExecuteTime": {
     "end_time": "2024-11-28T04:51:40.820626Z",
     "start_time": "2024-11-28T04:51:40.814107Z"
    }
   },
   "cell_type": "code",
   "source": "employee_df.tail()",
   "id": "e08c0e320a63fd4f",
   "outputs": [
    {
     "data": {
      "text/plain": [
       "   EmployeeId   Name  Salary\n",
       "0           1   John   20000\n",
       "1           2    Doe   30000\n",
       "2           3   Jane   40000\n",
       "3           4  Smith   50000\n",
       "4           5   Jack   60000"
      ],
      "text/html": [
       "<div>\n",
       "<style scoped>\n",
       "    .dataframe tbody tr th:only-of-type {\n",
       "        vertical-align: middle;\n",
       "    }\n",
       "\n",
       "    .dataframe tbody tr th {\n",
       "        vertical-align: top;\n",
       "    }\n",
       "\n",
       "    .dataframe thead th {\n",
       "        text-align: right;\n",
       "    }\n",
       "</style>\n",
       "<table border=\"1\" class=\"dataframe\">\n",
       "  <thead>\n",
       "    <tr style=\"text-align: right;\">\n",
       "      <th></th>\n",
       "      <th>EmployeeId</th>\n",
       "      <th>Name</th>\n",
       "      <th>Salary</th>\n",
       "    </tr>\n",
       "  </thead>\n",
       "  <tbody>\n",
       "    <tr>\n",
       "      <th>0</th>\n",
       "      <td>1</td>\n",
       "      <td>John</td>\n",
       "      <td>20000</td>\n",
       "    </tr>\n",
       "    <tr>\n",
       "      <th>1</th>\n",
       "      <td>2</td>\n",
       "      <td>Doe</td>\n",
       "      <td>30000</td>\n",
       "    </tr>\n",
       "    <tr>\n",
       "      <th>2</th>\n",
       "      <td>3</td>\n",
       "      <td>Jane</td>\n",
       "      <td>40000</td>\n",
       "    </tr>\n",
       "    <tr>\n",
       "      <th>3</th>\n",
       "      <td>4</td>\n",
       "      <td>Smith</td>\n",
       "      <td>50000</td>\n",
       "    </tr>\n",
       "    <tr>\n",
       "      <th>4</th>\n",
       "      <td>5</td>\n",
       "      <td>Jack</td>\n",
       "      <td>60000</td>\n",
       "    </tr>\n",
       "  </tbody>\n",
       "</table>\n",
       "</div>"
      ]
     },
     "execution_count": 3,
     "metadata": {},
     "output_type": "execute_result"
    }
   ],
   "execution_count": 3
  },
  {
   "metadata": {
    "ExecuteTime": {
     "end_time": "2024-11-28T04:52:16.272597Z",
     "start_time": "2024-11-28T04:52:16.267145Z"
    }
   },
   "cell_type": "code",
   "source": "employee_df.shape",
   "id": "d2d4dfc654b87d68",
   "outputs": [
    {
     "data": {
      "text/plain": [
       "(5, 3)"
      ]
     },
     "execution_count": 4,
     "metadata": {},
     "output_type": "execute_result"
    }
   ],
   "execution_count": 4
  },
  {
   "metadata": {
    "ExecuteTime": {
     "end_time": "2024-08-20T14:26:44.805191Z",
     "start_time": "2024-08-20T14:26:44.799842Z"
    }
   },
   "cell_type": "code",
   "source": "employee_df.info()",
   "id": "31c0408679765694",
   "outputs": [
    {
     "name": "stdout",
     "output_type": "stream",
     "text": [
      "<class 'pandas.core.frame.DataFrame'>\n",
      "RangeIndex: 5 entries, 0 to 4\n",
      "Data columns (total 3 columns):\n",
      " #   Column      Non-Null Count  Dtype \n",
      "---  ------      --------------  ----- \n",
      " 0   EmployeeId  5 non-null      int64 \n",
      " 1   Name        5 non-null      object\n",
      " 2   Salary      5 non-null      int64 \n",
      "dtypes: int64(2), object(1)\n",
      "memory usage: 252.0+ bytes\n"
     ]
    }
   ],
   "execution_count": 28
  },
  {
   "metadata": {
    "ExecuteTime": {
     "end_time": "2024-08-20T14:28:13.355413Z",
     "start_time": "2024-08-20T14:28:13.349009Z"
    }
   },
   "cell_type": "code",
   "source": "employee_df.describe()",
   "id": "854866657a6b3224",
   "outputs": [
    {
     "data": {
      "text/plain": [
       "       EmployeeId        Salary\n",
       "count    5.000000      5.000000\n",
       "mean     3.000000  40000.000000\n",
       "std      1.581139  15811.388301\n",
       "min      1.000000  20000.000000\n",
       "25%      2.000000  30000.000000\n",
       "50%      3.000000  40000.000000\n",
       "75%      4.000000  50000.000000\n",
       "max      5.000000  60000.000000"
      ],
      "text/html": [
       "<div>\n",
       "<style scoped>\n",
       "    .dataframe tbody tr th:only-of-type {\n",
       "        vertical-align: middle;\n",
       "    }\n",
       "\n",
       "    .dataframe tbody tr th {\n",
       "        vertical-align: top;\n",
       "    }\n",
       "\n",
       "    .dataframe thead th {\n",
       "        text-align: right;\n",
       "    }\n",
       "</style>\n",
       "<table border=\"1\" class=\"dataframe\">\n",
       "  <thead>\n",
       "    <tr style=\"text-align: right;\">\n",
       "      <th></th>\n",
       "      <th>EmployeeId</th>\n",
       "      <th>Salary</th>\n",
       "    </tr>\n",
       "  </thead>\n",
       "  <tbody>\n",
       "    <tr>\n",
       "      <th>count</th>\n",
       "      <td>5.000000</td>\n",
       "      <td>5.000000</td>\n",
       "    </tr>\n",
       "    <tr>\n",
       "      <th>mean</th>\n",
       "      <td>3.000000</td>\n",
       "      <td>40000.000000</td>\n",
       "    </tr>\n",
       "    <tr>\n",
       "      <th>std</th>\n",
       "      <td>1.581139</td>\n",
       "      <td>15811.388301</td>\n",
       "    </tr>\n",
       "    <tr>\n",
       "      <th>min</th>\n",
       "      <td>1.000000</td>\n",
       "      <td>20000.000000</td>\n",
       "    </tr>\n",
       "    <tr>\n",
       "      <th>25%</th>\n",
       "      <td>2.000000</td>\n",
       "      <td>30000.000000</td>\n",
       "    </tr>\n",
       "    <tr>\n",
       "      <th>50%</th>\n",
       "      <td>3.000000</td>\n",
       "      <td>40000.000000</td>\n",
       "    </tr>\n",
       "    <tr>\n",
       "      <th>75%</th>\n",
       "      <td>4.000000</td>\n",
       "      <td>50000.000000</td>\n",
       "    </tr>\n",
       "    <tr>\n",
       "      <th>max</th>\n",
       "      <td>5.000000</td>\n",
       "      <td>60000.000000</td>\n",
       "    </tr>\n",
       "  </tbody>\n",
       "</table>\n",
       "</div>"
      ]
     },
     "execution_count": 30,
     "metadata": {},
     "output_type": "execute_result"
    }
   ],
   "execution_count": 30
  },
  {
   "metadata": {
    "ExecuteTime": {
     "end_time": "2024-11-28T04:56:34.558079Z",
     "start_time": "2024-11-28T04:56:34.554324Z"
    }
   },
   "cell_type": "code",
   "source": [
    "print(employee_df.values)\n",
    "print(type(employee_df.values))"
   ],
   "id": "1ed87ec1629676ad",
   "outputs": [
    {
     "name": "stdout",
     "output_type": "stream",
     "text": [
      "[[1 'John' 20000]\n",
      " [2 'Doe' 30000]\n",
      " [3 'Jane' 40000]\n",
      " [4 'Smith' 50000]\n",
      " [5 'Jack' 60000]]\n",
      "<class 'numpy.ndarray'>\n"
     ]
    }
   ],
   "execution_count": 5
  },
  {
   "metadata": {
    "ExecuteTime": {
     "end_time": "2024-08-20T14:30:43.064314Z",
     "start_time": "2024-08-20T14:30:43.061962Z"
    }
   },
   "cell_type": "code",
   "source": "print(type(employee_df.values))",
   "id": "6ae9794e478a35b9",
   "outputs": [
    {
     "name": "stdout",
     "output_type": "stream",
     "text": [
      "<class 'numpy.ndarray'>\n"
     ]
    }
   ],
   "execution_count": 33
  },
  {
   "metadata": {
    "ExecuteTime": {
     "end_time": "2024-08-20T14:32:19.381560Z",
     "start_time": "2024-08-20T14:32:19.378963Z"
    }
   },
   "cell_type": "code",
   "source": "employee_df.columns = [\"Id\", \"Name\", \"Salary\"]",
   "id": "adbc15cbb5f3525",
   "outputs": [],
   "execution_count": 35
  },
  {
   "metadata": {
    "ExecuteTime": {
     "end_time": "2024-08-20T14:32:25.712005Z",
     "start_time": "2024-08-20T14:32:25.708378Z"
    }
   },
   "cell_type": "code",
   "source": "employee_df.head()",
   "id": "9febc03d8fb0f13e",
   "outputs": [
    {
     "data": {
      "text/plain": [
       "   Id   Name  Salary\n",
       "0   1   John   20000\n",
       "1   2    Doe   30000\n",
       "2   3   Jane   40000\n",
       "3   4  Smith   50000\n",
       "4   5   Jack   60000"
      ],
      "text/html": [
       "<div>\n",
       "<style scoped>\n",
       "    .dataframe tbody tr th:only-of-type {\n",
       "        vertical-align: middle;\n",
       "    }\n",
       "\n",
       "    .dataframe tbody tr th {\n",
       "        vertical-align: top;\n",
       "    }\n",
       "\n",
       "    .dataframe thead th {\n",
       "        text-align: right;\n",
       "    }\n",
       "</style>\n",
       "<table border=\"1\" class=\"dataframe\">\n",
       "  <thead>\n",
       "    <tr style=\"text-align: right;\">\n",
       "      <th></th>\n",
       "      <th>Id</th>\n",
       "      <th>Name</th>\n",
       "      <th>Salary</th>\n",
       "    </tr>\n",
       "  </thead>\n",
       "  <tbody>\n",
       "    <tr>\n",
       "      <th>0</th>\n",
       "      <td>1</td>\n",
       "      <td>John</td>\n",
       "      <td>20000</td>\n",
       "    </tr>\n",
       "    <tr>\n",
       "      <th>1</th>\n",
       "      <td>2</td>\n",
       "      <td>Doe</td>\n",
       "      <td>30000</td>\n",
       "    </tr>\n",
       "    <tr>\n",
       "      <th>2</th>\n",
       "      <td>3</td>\n",
       "      <td>Jane</td>\n",
       "      <td>40000</td>\n",
       "    </tr>\n",
       "    <tr>\n",
       "      <th>3</th>\n",
       "      <td>4</td>\n",
       "      <td>Smith</td>\n",
       "      <td>50000</td>\n",
       "    </tr>\n",
       "    <tr>\n",
       "      <th>4</th>\n",
       "      <td>5</td>\n",
       "      <td>Jack</td>\n",
       "      <td>60000</td>\n",
       "    </tr>\n",
       "  </tbody>\n",
       "</table>\n",
       "</div>"
      ]
     },
     "execution_count": 36,
     "metadata": {},
     "output_type": "execute_result"
    }
   ],
   "execution_count": 36
  },
  {
   "metadata": {
    "ExecuteTime": {
     "end_time": "2024-08-20T14:43:13.844878Z",
     "start_time": "2024-08-20T14:43:13.838174Z"
    }
   },
   "cell_type": "code",
   "source": [
    "\"\"\" Read data from file \"\"\"\n",
    "\n",
    "import os\n",
    "\n",
    "root_dir = os.path.dirname(os.getcwd())\n",
    "data_dir = os.path.join(root_dir, \"data\")\n",
    "dataset_path = os.path.join(data_dir, \"homelessness.csv\")\n",
    "\n",
    "print(\"root_dir\", root_dir)\n",
    "print(\"data_dir\", data_dir)\n",
    "print(\"dataset_path\", dataset_path)\n",
    "\n",
    "df = pd.read_csv(dataset_path)\n",
    "df.head()"
   ],
   "id": "f126898845803137",
   "outputs": [
    {
     "name": "stdout",
     "output_type": "stream",
     "text": [
      "root_dir E:\\PyCharmProjects\\pythonProject\n",
      "data_dir E:\\PyCharmProjects\\pythonProject\\data\n",
      "dataset_path E:\\PyCharmProjects\\pythonProject\\data\\homelessness.csv\n"
     ]
    },
    {
     "data": {
      "text/plain": [
       "   Unnamed: 0              region       state  individuals  family_members  \\\n",
       "0           0  East South Central     Alabama       2570.0           864.0   \n",
       "1           1             Pacific      Alaska       1434.0           582.0   \n",
       "2           2            Mountain     Arizona       7259.0          2606.0   \n",
       "3           3  West South Central    Arkansas       2280.0           432.0   \n",
       "4           4             Pacific  California     109008.0         20964.0   \n",
       "\n",
       "   state_pop  \n",
       "0    4887681  \n",
       "1     735139  \n",
       "2    7158024  \n",
       "3    3009733  \n",
       "4   39461588  "
      ],
      "text/html": [
       "<div>\n",
       "<style scoped>\n",
       "    .dataframe tbody tr th:only-of-type {\n",
       "        vertical-align: middle;\n",
       "    }\n",
       "\n",
       "    .dataframe tbody tr th {\n",
       "        vertical-align: top;\n",
       "    }\n",
       "\n",
       "    .dataframe thead th {\n",
       "        text-align: right;\n",
       "    }\n",
       "</style>\n",
       "<table border=\"1\" class=\"dataframe\">\n",
       "  <thead>\n",
       "    <tr style=\"text-align: right;\">\n",
       "      <th></th>\n",
       "      <th>Unnamed: 0</th>\n",
       "      <th>region</th>\n",
       "      <th>state</th>\n",
       "      <th>individuals</th>\n",
       "      <th>family_members</th>\n",
       "      <th>state_pop</th>\n",
       "    </tr>\n",
       "  </thead>\n",
       "  <tbody>\n",
       "    <tr>\n",
       "      <th>0</th>\n",
       "      <td>0</td>\n",
       "      <td>East South Central</td>\n",
       "      <td>Alabama</td>\n",
       "      <td>2570.0</td>\n",
       "      <td>864.0</td>\n",
       "      <td>4887681</td>\n",
       "    </tr>\n",
       "    <tr>\n",
       "      <th>1</th>\n",
       "      <td>1</td>\n",
       "      <td>Pacific</td>\n",
       "      <td>Alaska</td>\n",
       "      <td>1434.0</td>\n",
       "      <td>582.0</td>\n",
       "      <td>735139</td>\n",
       "    </tr>\n",
       "    <tr>\n",
       "      <th>2</th>\n",
       "      <td>2</td>\n",
       "      <td>Mountain</td>\n",
       "      <td>Arizona</td>\n",
       "      <td>7259.0</td>\n",
       "      <td>2606.0</td>\n",
       "      <td>7158024</td>\n",
       "    </tr>\n",
       "    <tr>\n",
       "      <th>3</th>\n",
       "      <td>3</td>\n",
       "      <td>West South Central</td>\n",
       "      <td>Arkansas</td>\n",
       "      <td>2280.0</td>\n",
       "      <td>432.0</td>\n",
       "      <td>3009733</td>\n",
       "    </tr>\n",
       "    <tr>\n",
       "      <th>4</th>\n",
       "      <td>4</td>\n",
       "      <td>Pacific</td>\n",
       "      <td>California</td>\n",
       "      <td>109008.0</td>\n",
       "      <td>20964.0</td>\n",
       "      <td>39461588</td>\n",
       "    </tr>\n",
       "  </tbody>\n",
       "</table>\n",
       "</div>"
      ]
     },
     "execution_count": 41,
     "metadata": {},
     "output_type": "execute_result"
    }
   ],
   "execution_count": 41
  },
  {
   "metadata": {
    "ExecuteTime": {
     "end_time": "2024-08-20T14:41:17.751332Z",
     "start_time": "2024-08-20T14:41:17.748500Z"
    }
   },
   "cell_type": "code",
   "source": "os.path.dirname(os.getcwd())",
   "id": "ea65b61914ff562d",
   "outputs": [
    {
     "data": {
      "text/plain": [
       "'E:\\\\PyCharmProjects\\\\pythonProject'"
      ]
     },
     "execution_count": 40,
     "metadata": {},
     "output_type": "execute_result"
    }
   ],
   "execution_count": 40
  },
  {
   "metadata": {
    "ExecuteTime": {
     "end_time": "2024-08-20T14:46:23.863946Z",
     "start_time": "2024-08-20T14:46:23.858532Z"
    }
   },
   "cell_type": "code",
   "source": [
    "\"\"\" Sorting data \"\"\"\n",
    "\n",
    "sorted_df_by_individuals = df.sort_values(by=\"individuals\", ascending=False)\n",
    "sorted_df_by_individuals.head()"
   ],
   "id": "31e4aec175cad3f6",
   "outputs": [
    {
     "data": {
      "text/plain": [
       "    Unnamed: 0              region       state  individuals  family_members  \\\n",
       "4            4             Pacific  California     109008.0         20964.0   \n",
       "32          32        Mid-Atlantic    New York      39827.0         52070.0   \n",
       "9            9      South Atlantic     Florida      21443.0          9587.0   \n",
       "43          43  West South Central       Texas      19199.0          6111.0   \n",
       "47          47             Pacific  Washington      16424.0          5880.0   \n",
       "\n",
       "    state_pop  \n",
       "4    39461588  \n",
       "32   19530351  \n",
       "9    21244317  \n",
       "43   28628666  \n",
       "47    7523869  "
      ],
      "text/html": [
       "<div>\n",
       "<style scoped>\n",
       "    .dataframe tbody tr th:only-of-type {\n",
       "        vertical-align: middle;\n",
       "    }\n",
       "\n",
       "    .dataframe tbody tr th {\n",
       "        vertical-align: top;\n",
       "    }\n",
       "\n",
       "    .dataframe thead th {\n",
       "        text-align: right;\n",
       "    }\n",
       "</style>\n",
       "<table border=\"1\" class=\"dataframe\">\n",
       "  <thead>\n",
       "    <tr style=\"text-align: right;\">\n",
       "      <th></th>\n",
       "      <th>Unnamed: 0</th>\n",
       "      <th>region</th>\n",
       "      <th>state</th>\n",
       "      <th>individuals</th>\n",
       "      <th>family_members</th>\n",
       "      <th>state_pop</th>\n",
       "    </tr>\n",
       "  </thead>\n",
       "  <tbody>\n",
       "    <tr>\n",
       "      <th>4</th>\n",
       "      <td>4</td>\n",
       "      <td>Pacific</td>\n",
       "      <td>California</td>\n",
       "      <td>109008.0</td>\n",
       "      <td>20964.0</td>\n",
       "      <td>39461588</td>\n",
       "    </tr>\n",
       "    <tr>\n",
       "      <th>32</th>\n",
       "      <td>32</td>\n",
       "      <td>Mid-Atlantic</td>\n",
       "      <td>New York</td>\n",
       "      <td>39827.0</td>\n",
       "      <td>52070.0</td>\n",
       "      <td>19530351</td>\n",
       "    </tr>\n",
       "    <tr>\n",
       "      <th>9</th>\n",
       "      <td>9</td>\n",
       "      <td>South Atlantic</td>\n",
       "      <td>Florida</td>\n",
       "      <td>21443.0</td>\n",
       "      <td>9587.0</td>\n",
       "      <td>21244317</td>\n",
       "    </tr>\n",
       "    <tr>\n",
       "      <th>43</th>\n",
       "      <td>43</td>\n",
       "      <td>West South Central</td>\n",
       "      <td>Texas</td>\n",
       "      <td>19199.0</td>\n",
       "      <td>6111.0</td>\n",
       "      <td>28628666</td>\n",
       "    </tr>\n",
       "    <tr>\n",
       "      <th>47</th>\n",
       "      <td>47</td>\n",
       "      <td>Pacific</td>\n",
       "      <td>Washington</td>\n",
       "      <td>16424.0</td>\n",
       "      <td>5880.0</td>\n",
       "      <td>7523869</td>\n",
       "    </tr>\n",
       "  </tbody>\n",
       "</table>\n",
       "</div>"
      ]
     },
     "execution_count": 43,
     "metadata": {},
     "output_type": "execute_result"
    }
   ],
   "execution_count": 43
  },
  {
   "metadata": {
    "ExecuteTime": {
     "end_time": "2024-08-20T14:56:21.023562Z",
     "start_time": "2024-08-20T14:56:21.017582Z"
    }
   },
   "cell_type": "code",
   "source": [
    "sorted_df_by_multi_cols = df.sort_values(by=[\"region\", \"family_members\"], ascending=[True, False])\n",
    "sorted_df_by_multi_cols.head(10)"
   ],
   "id": "669e10a83b914016",
   "outputs": [
    {
     "data": {
      "text/plain": [
       "    Unnamed: 0              region        state  individuals  family_members  \\\n",
       "13          13  East North Central     Illinois       6752.0          3891.0   \n",
       "35          35  East North Central         Ohio       6929.0          3320.0   \n",
       "22          22  East North Central     Michigan       5209.0          3142.0   \n",
       "49          49  East North Central    Wisconsin       2740.0          2167.0   \n",
       "14          14  East North Central      Indiana       3776.0          1482.0   \n",
       "42          42  East South Central    Tennessee       6139.0          1744.0   \n",
       "17          17  East South Central     Kentucky       2735.0           953.0   \n",
       "0            0  East South Central      Alabama       2570.0           864.0   \n",
       "24          24  East South Central  Mississippi       1024.0           328.0   \n",
       "32          32        Mid-Atlantic     New York      39827.0         52070.0   \n",
       "\n",
       "    state_pop  \n",
       "13   12723071  \n",
       "35   11676341  \n",
       "22    9984072  \n",
       "49    5807406  \n",
       "14    6695497  \n",
       "42    6771631  \n",
       "17    4461153  \n",
       "0     4887681  \n",
       "24    2981020  \n",
       "32   19530351  "
      ],
      "text/html": [
       "<div>\n",
       "<style scoped>\n",
       "    .dataframe tbody tr th:only-of-type {\n",
       "        vertical-align: middle;\n",
       "    }\n",
       "\n",
       "    .dataframe tbody tr th {\n",
       "        vertical-align: top;\n",
       "    }\n",
       "\n",
       "    .dataframe thead th {\n",
       "        text-align: right;\n",
       "    }\n",
       "</style>\n",
       "<table border=\"1\" class=\"dataframe\">\n",
       "  <thead>\n",
       "    <tr style=\"text-align: right;\">\n",
       "      <th></th>\n",
       "      <th>Unnamed: 0</th>\n",
       "      <th>region</th>\n",
       "      <th>state</th>\n",
       "      <th>individuals</th>\n",
       "      <th>family_members</th>\n",
       "      <th>state_pop</th>\n",
       "    </tr>\n",
       "  </thead>\n",
       "  <tbody>\n",
       "    <tr>\n",
       "      <th>13</th>\n",
       "      <td>13</td>\n",
       "      <td>East North Central</td>\n",
       "      <td>Illinois</td>\n",
       "      <td>6752.0</td>\n",
       "      <td>3891.0</td>\n",
       "      <td>12723071</td>\n",
       "    </tr>\n",
       "    <tr>\n",
       "      <th>35</th>\n",
       "      <td>35</td>\n",
       "      <td>East North Central</td>\n",
       "      <td>Ohio</td>\n",
       "      <td>6929.0</td>\n",
       "      <td>3320.0</td>\n",
       "      <td>11676341</td>\n",
       "    </tr>\n",
       "    <tr>\n",
       "      <th>22</th>\n",
       "      <td>22</td>\n",
       "      <td>East North Central</td>\n",
       "      <td>Michigan</td>\n",
       "      <td>5209.0</td>\n",
       "      <td>3142.0</td>\n",
       "      <td>9984072</td>\n",
       "    </tr>\n",
       "    <tr>\n",
       "      <th>49</th>\n",
       "      <td>49</td>\n",
       "      <td>East North Central</td>\n",
       "      <td>Wisconsin</td>\n",
       "      <td>2740.0</td>\n",
       "      <td>2167.0</td>\n",
       "      <td>5807406</td>\n",
       "    </tr>\n",
       "    <tr>\n",
       "      <th>14</th>\n",
       "      <td>14</td>\n",
       "      <td>East North Central</td>\n",
       "      <td>Indiana</td>\n",
       "      <td>3776.0</td>\n",
       "      <td>1482.0</td>\n",
       "      <td>6695497</td>\n",
       "    </tr>\n",
       "    <tr>\n",
       "      <th>42</th>\n",
       "      <td>42</td>\n",
       "      <td>East South Central</td>\n",
       "      <td>Tennessee</td>\n",
       "      <td>6139.0</td>\n",
       "      <td>1744.0</td>\n",
       "      <td>6771631</td>\n",
       "    </tr>\n",
       "    <tr>\n",
       "      <th>17</th>\n",
       "      <td>17</td>\n",
       "      <td>East South Central</td>\n",
       "      <td>Kentucky</td>\n",
       "      <td>2735.0</td>\n",
       "      <td>953.0</td>\n",
       "      <td>4461153</td>\n",
       "    </tr>\n",
       "    <tr>\n",
       "      <th>0</th>\n",
       "      <td>0</td>\n",
       "      <td>East South Central</td>\n",
       "      <td>Alabama</td>\n",
       "      <td>2570.0</td>\n",
       "      <td>864.0</td>\n",
       "      <td>4887681</td>\n",
       "    </tr>\n",
       "    <tr>\n",
       "      <th>24</th>\n",
       "      <td>24</td>\n",
       "      <td>East South Central</td>\n",
       "      <td>Mississippi</td>\n",
       "      <td>1024.0</td>\n",
       "      <td>328.0</td>\n",
       "      <td>2981020</td>\n",
       "    </tr>\n",
       "    <tr>\n",
       "      <th>32</th>\n",
       "      <td>32</td>\n",
       "      <td>Mid-Atlantic</td>\n",
       "      <td>New York</td>\n",
       "      <td>39827.0</td>\n",
       "      <td>52070.0</td>\n",
       "      <td>19530351</td>\n",
       "    </tr>\n",
       "  </tbody>\n",
       "</table>\n",
       "</div>"
      ]
     },
     "execution_count": 53,
     "metadata": {},
     "output_type": "execute_result"
    }
   ],
   "execution_count": 53
  },
  {
   "metadata": {
    "ExecuteTime": {
     "end_time": "2024-08-20T14:53:38.999994Z",
     "start_time": "2024-08-20T14:53:38.995720Z"
    }
   },
   "cell_type": "code",
   "source": [
    "\"\"\" Select a columns \n",
    "- Feature engineering: selecting features \n",
    "- Every column is a feature in ML\n",
    "- Every row is a example / sample\n",
    "\"\"\"\n",
    "\n",
    "individuals = df['individuals']\n",
    "print(individuals)"
   ],
   "id": "cc70405a74f7549d",
   "outputs": [
    {
     "name": "stdout",
     "output_type": "stream",
     "text": [
      "0       2570.0\n",
      "1       1434.0\n",
      "2       7259.0\n",
      "3       2280.0\n",
      "4     109008.0\n",
      "5       7607.0\n",
      "6       2280.0\n",
      "7        708.0\n",
      "8       3770.0\n",
      "9      21443.0\n",
      "10      6943.0\n",
      "11      4131.0\n",
      "12      1297.0\n",
      "13      6752.0\n",
      "14      3776.0\n",
      "15      1711.0\n",
      "16      1443.0\n",
      "17      2735.0\n",
      "18      2540.0\n",
      "19      1450.0\n",
      "20      4914.0\n",
      "21      6811.0\n",
      "22      5209.0\n",
      "23      3993.0\n",
      "24      1024.0\n",
      "25      3776.0\n",
      "26       983.0\n",
      "27      1745.0\n",
      "28      7058.0\n",
      "29       835.0\n",
      "30      6048.0\n",
      "31      1949.0\n",
      "32     39827.0\n",
      "33      6451.0\n",
      "34       467.0\n",
      "35      6929.0\n",
      "36      2823.0\n",
      "37     11139.0\n",
      "38      8163.0\n",
      "39       747.0\n",
      "40      3082.0\n",
      "41       836.0\n",
      "42      6139.0\n",
      "43     19199.0\n",
      "44      1904.0\n",
      "45       780.0\n",
      "46      3928.0\n",
      "47     16424.0\n",
      "48      1021.0\n",
      "49      2740.0\n",
      "50       434.0\n",
      "Name: individuals, dtype: float64\n"
     ]
    }
   ],
   "execution_count": 47
  },
  {
   "metadata": {
    "ExecuteTime": {
     "end_time": "2024-08-20T14:55:18.620817Z",
     "start_time": "2024-08-20T14:55:18.616582Z"
    }
   },
   "cell_type": "code",
   "source": [
    "new_df = df[ ['region', 'family_members'] ]\n",
    "new_df.head()"
   ],
   "id": "9ce5f78555eac38b",
   "outputs": [
    {
     "data": {
      "text/plain": [
       "               region  family_members\n",
       "0  East South Central           864.0\n",
       "1             Pacific           582.0\n",
       "2            Mountain          2606.0\n",
       "3  West South Central           432.0\n",
       "4             Pacific         20964.0"
      ],
      "text/html": [
       "<div>\n",
       "<style scoped>\n",
       "    .dataframe tbody tr th:only-of-type {\n",
       "        vertical-align: middle;\n",
       "    }\n",
       "\n",
       "    .dataframe tbody tr th {\n",
       "        vertical-align: top;\n",
       "    }\n",
       "\n",
       "    .dataframe thead th {\n",
       "        text-align: right;\n",
       "    }\n",
       "</style>\n",
       "<table border=\"1\" class=\"dataframe\">\n",
       "  <thead>\n",
       "    <tr style=\"text-align: right;\">\n",
       "      <th></th>\n",
       "      <th>region</th>\n",
       "      <th>family_members</th>\n",
       "    </tr>\n",
       "  </thead>\n",
       "  <tbody>\n",
       "    <tr>\n",
       "      <th>0</th>\n",
       "      <td>East South Central</td>\n",
       "      <td>864.0</td>\n",
       "    </tr>\n",
       "    <tr>\n",
       "      <th>1</th>\n",
       "      <td>Pacific</td>\n",
       "      <td>582.0</td>\n",
       "    </tr>\n",
       "    <tr>\n",
       "      <th>2</th>\n",
       "      <td>Mountain</td>\n",
       "      <td>2606.0</td>\n",
       "    </tr>\n",
       "    <tr>\n",
       "      <th>3</th>\n",
       "      <td>West South Central</td>\n",
       "      <td>432.0</td>\n",
       "    </tr>\n",
       "    <tr>\n",
       "      <th>4</th>\n",
       "      <td>Pacific</td>\n",
       "      <td>20964.0</td>\n",
       "    </tr>\n",
       "  </tbody>\n",
       "</table>\n",
       "</div>"
      ]
     },
     "execution_count": 50,
     "metadata": {},
     "output_type": "execute_result"
    }
   ],
   "execution_count": 50
  },
  {
   "metadata": {
    "ExecuteTime": {
     "end_time": "2024-08-20T14:55:19.269207Z",
     "start_time": "2024-08-20T14:55:19.263817Z"
    }
   },
   "cell_type": "code",
   "source": [
    "new_df = df[ ['region', 'family_members'] ]\n",
    "new_df.head()"
   ],
   "id": "3d5f347739f6dc79",
   "outputs": [
    {
     "data": {
      "text/plain": [
       "               region  family_members\n",
       "0  East South Central           864.0\n",
       "1             Pacific           582.0\n",
       "2            Mountain          2606.0\n",
       "3  West South Central           432.0\n",
       "4             Pacific         20964.0"
      ],
      "text/html": [
       "<div>\n",
       "<style scoped>\n",
       "    .dataframe tbody tr th:only-of-type {\n",
       "        vertical-align: middle;\n",
       "    }\n",
       "\n",
       "    .dataframe tbody tr th {\n",
       "        vertical-align: top;\n",
       "    }\n",
       "\n",
       "    .dataframe thead th {\n",
       "        text-align: right;\n",
       "    }\n",
       "</style>\n",
       "<table border=\"1\" class=\"dataframe\">\n",
       "  <thead>\n",
       "    <tr style=\"text-align: right;\">\n",
       "      <th></th>\n",
       "      <th>region</th>\n",
       "      <th>family_members</th>\n",
       "    </tr>\n",
       "  </thead>\n",
       "  <tbody>\n",
       "    <tr>\n",
       "      <th>0</th>\n",
       "      <td>East South Central</td>\n",
       "      <td>864.0</td>\n",
       "    </tr>\n",
       "    <tr>\n",
       "      <th>1</th>\n",
       "      <td>Pacific</td>\n",
       "      <td>582.0</td>\n",
       "    </tr>\n",
       "    <tr>\n",
       "      <th>2</th>\n",
       "      <td>Mountain</td>\n",
       "      <td>2606.0</td>\n",
       "    </tr>\n",
       "    <tr>\n",
       "      <th>3</th>\n",
       "      <td>West South Central</td>\n",
       "      <td>432.0</td>\n",
       "    </tr>\n",
       "    <tr>\n",
       "      <th>4</th>\n",
       "      <td>Pacific</td>\n",
       "      <td>20964.0</td>\n",
       "    </tr>\n",
       "  </tbody>\n",
       "</table>\n",
       "</div>"
      ]
     },
     "execution_count": 51,
     "metadata": {},
     "output_type": "execute_result"
    }
   ],
   "execution_count": 51
  },
  {
   "metadata": {
    "ExecuteTime": {
     "end_time": "2024-08-20T14:57:51.645914Z",
     "start_time": "2024-08-20T14:57:51.640265Z"
    }
   },
   "cell_type": "code",
   "source": [
    "df_mountain = df[ df['region'] == \"Mountain\" ]\n",
    "df_mountain.head()"
   ],
   "id": "f3cf66c0a32ab801",
   "outputs": [
    {
     "data": {
      "text/plain": [
       "    Unnamed: 0    region     state  individuals  family_members  state_pop\n",
       "2            2  Mountain   Arizona       7259.0          2606.0    7158024\n",
       "5            5  Mountain  Colorado       7607.0          3250.0    5691287\n",
       "12          12  Mountain     Idaho       1297.0           715.0    1750536\n",
       "26          26  Mountain   Montana        983.0           422.0    1060665\n",
       "28          28  Mountain    Nevada       7058.0           486.0    3027341"
      ],
      "text/html": [
       "<div>\n",
       "<style scoped>\n",
       "    .dataframe tbody tr th:only-of-type {\n",
       "        vertical-align: middle;\n",
       "    }\n",
       "\n",
       "    .dataframe tbody tr th {\n",
       "        vertical-align: top;\n",
       "    }\n",
       "\n",
       "    .dataframe thead th {\n",
       "        text-align: right;\n",
       "    }\n",
       "</style>\n",
       "<table border=\"1\" class=\"dataframe\">\n",
       "  <thead>\n",
       "    <tr style=\"text-align: right;\">\n",
       "      <th></th>\n",
       "      <th>Unnamed: 0</th>\n",
       "      <th>region</th>\n",
       "      <th>state</th>\n",
       "      <th>individuals</th>\n",
       "      <th>family_members</th>\n",
       "      <th>state_pop</th>\n",
       "    </tr>\n",
       "  </thead>\n",
       "  <tbody>\n",
       "    <tr>\n",
       "      <th>2</th>\n",
       "      <td>2</td>\n",
       "      <td>Mountain</td>\n",
       "      <td>Arizona</td>\n",
       "      <td>7259.0</td>\n",
       "      <td>2606.0</td>\n",
       "      <td>7158024</td>\n",
       "    </tr>\n",
       "    <tr>\n",
       "      <th>5</th>\n",
       "      <td>5</td>\n",
       "      <td>Mountain</td>\n",
       "      <td>Colorado</td>\n",
       "      <td>7607.0</td>\n",
       "      <td>3250.0</td>\n",
       "      <td>5691287</td>\n",
       "    </tr>\n",
       "    <tr>\n",
       "      <th>12</th>\n",
       "      <td>12</td>\n",
       "      <td>Mountain</td>\n",
       "      <td>Idaho</td>\n",
       "      <td>1297.0</td>\n",
       "      <td>715.0</td>\n",
       "      <td>1750536</td>\n",
       "    </tr>\n",
       "    <tr>\n",
       "      <th>26</th>\n",
       "      <td>26</td>\n",
       "      <td>Mountain</td>\n",
       "      <td>Montana</td>\n",
       "      <td>983.0</td>\n",
       "      <td>422.0</td>\n",
       "      <td>1060665</td>\n",
       "    </tr>\n",
       "    <tr>\n",
       "      <th>28</th>\n",
       "      <td>28</td>\n",
       "      <td>Mountain</td>\n",
       "      <td>Nevada</td>\n",
       "      <td>7058.0</td>\n",
       "      <td>486.0</td>\n",
       "      <td>3027341</td>\n",
       "    </tr>\n",
       "  </tbody>\n",
       "</table>\n",
       "</div>"
      ]
     },
     "execution_count": 55,
     "metadata": {},
     "output_type": "execute_result"
    }
   ],
   "execution_count": 55
  },
  {
   "metadata": {
    "ExecuteTime": {
     "end_time": "2024-08-20T14:58:04.028112Z",
     "start_time": "2024-08-20T14:58:04.016705Z"
    }
   },
   "cell_type": "code",
   "source": "df.describe()",
   "id": "3b6f78b085cfa7c2",
   "outputs": [
    {
     "data": {
      "text/plain": [
       "       Unnamed: 0    individuals  family_members     state_pop\n",
       "count   51.000000      51.000000       51.000000  5.100000e+01\n",
       "mean    25.000000    7225.784314     3504.882353  6.405637e+06\n",
       "std     14.866069   15991.025083     7805.411811  7.327258e+06\n",
       "min      0.000000     434.000000       75.000000  5.776010e+05\n",
       "25%     12.500000    1446.500000      592.000000  1.777414e+06\n",
       "50%     25.000000    3082.000000     1482.000000  4.461153e+06\n",
       "75%     37.500000    6781.500000     3196.000000  7.340946e+06\n",
       "max     50.000000  109008.000000    52070.000000  3.946159e+07"
      ],
      "text/html": [
       "<div>\n",
       "<style scoped>\n",
       "    .dataframe tbody tr th:only-of-type {\n",
       "        vertical-align: middle;\n",
       "    }\n",
       "\n",
       "    .dataframe tbody tr th {\n",
       "        vertical-align: top;\n",
       "    }\n",
       "\n",
       "    .dataframe thead th {\n",
       "        text-align: right;\n",
       "    }\n",
       "</style>\n",
       "<table border=\"1\" class=\"dataframe\">\n",
       "  <thead>\n",
       "    <tr style=\"text-align: right;\">\n",
       "      <th></th>\n",
       "      <th>Unnamed: 0</th>\n",
       "      <th>individuals</th>\n",
       "      <th>family_members</th>\n",
       "      <th>state_pop</th>\n",
       "    </tr>\n",
       "  </thead>\n",
       "  <tbody>\n",
       "    <tr>\n",
       "      <th>count</th>\n",
       "      <td>51.000000</td>\n",
       "      <td>51.000000</td>\n",
       "      <td>51.000000</td>\n",
       "      <td>5.100000e+01</td>\n",
       "    </tr>\n",
       "    <tr>\n",
       "      <th>mean</th>\n",
       "      <td>25.000000</td>\n",
       "      <td>7225.784314</td>\n",
       "      <td>3504.882353</td>\n",
       "      <td>6.405637e+06</td>\n",
       "    </tr>\n",
       "    <tr>\n",
       "      <th>std</th>\n",
       "      <td>14.866069</td>\n",
       "      <td>15991.025083</td>\n",
       "      <td>7805.411811</td>\n",
       "      <td>7.327258e+06</td>\n",
       "    </tr>\n",
       "    <tr>\n",
       "      <th>min</th>\n",
       "      <td>0.000000</td>\n",
       "      <td>434.000000</td>\n",
       "      <td>75.000000</td>\n",
       "      <td>5.776010e+05</td>\n",
       "    </tr>\n",
       "    <tr>\n",
       "      <th>25%</th>\n",
       "      <td>12.500000</td>\n",
       "      <td>1446.500000</td>\n",
       "      <td>592.000000</td>\n",
       "      <td>1.777414e+06</td>\n",
       "    </tr>\n",
       "    <tr>\n",
       "      <th>50%</th>\n",
       "      <td>25.000000</td>\n",
       "      <td>3082.000000</td>\n",
       "      <td>1482.000000</td>\n",
       "      <td>4.461153e+06</td>\n",
       "    </tr>\n",
       "    <tr>\n",
       "      <th>75%</th>\n",
       "      <td>37.500000</td>\n",
       "      <td>6781.500000</td>\n",
       "      <td>3196.000000</td>\n",
       "      <td>7.340946e+06</td>\n",
       "    </tr>\n",
       "    <tr>\n",
       "      <th>max</th>\n",
       "      <td>50.000000</td>\n",
       "      <td>109008.000000</td>\n",
       "      <td>52070.000000</td>\n",
       "      <td>3.946159e+07</td>\n",
       "    </tr>\n",
       "  </tbody>\n",
       "</table>\n",
       "</div>"
      ]
     },
     "execution_count": 56,
     "metadata": {},
     "output_type": "execute_result"
    }
   ],
   "execution_count": 56
  },
  {
   "metadata": {
    "ExecuteTime": {
     "end_time": "2024-08-20T14:58:28.144116Z",
     "start_time": "2024-08-20T14:58:28.138128Z"
    }
   },
   "cell_type": "code",
   "source": [
    "df_gt_10k = df[ df['individuals'] > 10000]\n",
    "df_gt_10k.head()"
   ],
   "id": "13abdba29835ebfd",
   "outputs": [
    {
     "data": {
      "text/plain": [
       "    Unnamed: 0              region       state  individuals  family_members  \\\n",
       "4            4             Pacific  California     109008.0         20964.0   \n",
       "9            9      South Atlantic     Florida      21443.0          9587.0   \n",
       "32          32        Mid-Atlantic    New York      39827.0         52070.0   \n",
       "37          37             Pacific      Oregon      11139.0          3337.0   \n",
       "43          43  West South Central       Texas      19199.0          6111.0   \n",
       "\n",
       "    state_pop  \n",
       "4    39461588  \n",
       "9    21244317  \n",
       "32   19530351  \n",
       "37    4181886  \n",
       "43   28628666  "
      ],
      "text/html": [
       "<div>\n",
       "<style scoped>\n",
       "    .dataframe tbody tr th:only-of-type {\n",
       "        vertical-align: middle;\n",
       "    }\n",
       "\n",
       "    .dataframe tbody tr th {\n",
       "        vertical-align: top;\n",
       "    }\n",
       "\n",
       "    .dataframe thead th {\n",
       "        text-align: right;\n",
       "    }\n",
       "</style>\n",
       "<table border=\"1\" class=\"dataframe\">\n",
       "  <thead>\n",
       "    <tr style=\"text-align: right;\">\n",
       "      <th></th>\n",
       "      <th>Unnamed: 0</th>\n",
       "      <th>region</th>\n",
       "      <th>state</th>\n",
       "      <th>individuals</th>\n",
       "      <th>family_members</th>\n",
       "      <th>state_pop</th>\n",
       "    </tr>\n",
       "  </thead>\n",
       "  <tbody>\n",
       "    <tr>\n",
       "      <th>4</th>\n",
       "      <td>4</td>\n",
       "      <td>Pacific</td>\n",
       "      <td>California</td>\n",
       "      <td>109008.0</td>\n",
       "      <td>20964.0</td>\n",
       "      <td>39461588</td>\n",
       "    </tr>\n",
       "    <tr>\n",
       "      <th>9</th>\n",
       "      <td>9</td>\n",
       "      <td>South Atlantic</td>\n",
       "      <td>Florida</td>\n",
       "      <td>21443.0</td>\n",
       "      <td>9587.0</td>\n",
       "      <td>21244317</td>\n",
       "    </tr>\n",
       "    <tr>\n",
       "      <th>32</th>\n",
       "      <td>32</td>\n",
       "      <td>Mid-Atlantic</td>\n",
       "      <td>New York</td>\n",
       "      <td>39827.0</td>\n",
       "      <td>52070.0</td>\n",
       "      <td>19530351</td>\n",
       "    </tr>\n",
       "    <tr>\n",
       "      <th>37</th>\n",
       "      <td>37</td>\n",
       "      <td>Pacific</td>\n",
       "      <td>Oregon</td>\n",
       "      <td>11139.0</td>\n",
       "      <td>3337.0</td>\n",
       "      <td>4181886</td>\n",
       "    </tr>\n",
       "    <tr>\n",
       "      <th>43</th>\n",
       "      <td>43</td>\n",
       "      <td>West South Central</td>\n",
       "      <td>Texas</td>\n",
       "      <td>19199.0</td>\n",
       "      <td>6111.0</td>\n",
       "      <td>28628666</td>\n",
       "    </tr>\n",
       "  </tbody>\n",
       "</table>\n",
       "</div>"
      ]
     },
     "execution_count": 57,
     "metadata": {},
     "output_type": "execute_result"
    }
   ],
   "execution_count": 57
  },
  {
   "metadata": {
    "ExecuteTime": {
     "end_time": "2024-08-20T14:59:34.008545Z",
     "start_time": "2024-08-20T14:59:34.003054Z"
    }
   },
   "cell_type": "code",
   "source": [
    "is_family_lt_1k_mask = df['family_members'] < 10000\n",
    "is_region_pacific_mask = df['region'] == 'Pacific'\n",
    "\n",
    "new_df = df[ is_family_lt_1k_mask & is_region_pacific_mask ]\n",
    "new_df.head()"
   ],
   "id": "2a05e36ba900fbe8",
   "outputs": [
    {
     "data": {
      "text/plain": [
       "    Unnamed: 0   region       state  individuals  family_members  state_pop\n",
       "1            1  Pacific      Alaska       1434.0           582.0     735139\n",
       "11          11  Pacific      Hawaii       4131.0          2399.0    1420593\n",
       "37          37  Pacific      Oregon      11139.0          3337.0    4181886\n",
       "47          47  Pacific  Washington      16424.0          5880.0    7523869"
      ],
      "text/html": [
       "<div>\n",
       "<style scoped>\n",
       "    .dataframe tbody tr th:only-of-type {\n",
       "        vertical-align: middle;\n",
       "    }\n",
       "\n",
       "    .dataframe tbody tr th {\n",
       "        vertical-align: top;\n",
       "    }\n",
       "\n",
       "    .dataframe thead th {\n",
       "        text-align: right;\n",
       "    }\n",
       "</style>\n",
       "<table border=\"1\" class=\"dataframe\">\n",
       "  <thead>\n",
       "    <tr style=\"text-align: right;\">\n",
       "      <th></th>\n",
       "      <th>Unnamed: 0</th>\n",
       "      <th>region</th>\n",
       "      <th>state</th>\n",
       "      <th>individuals</th>\n",
       "      <th>family_members</th>\n",
       "      <th>state_pop</th>\n",
       "    </tr>\n",
       "  </thead>\n",
       "  <tbody>\n",
       "    <tr>\n",
       "      <th>1</th>\n",
       "      <td>1</td>\n",
       "      <td>Pacific</td>\n",
       "      <td>Alaska</td>\n",
       "      <td>1434.0</td>\n",
       "      <td>582.0</td>\n",
       "      <td>735139</td>\n",
       "    </tr>\n",
       "    <tr>\n",
       "      <th>11</th>\n",
       "      <td>11</td>\n",
       "      <td>Pacific</td>\n",
       "      <td>Hawaii</td>\n",
       "      <td>4131.0</td>\n",
       "      <td>2399.0</td>\n",
       "      <td>1420593</td>\n",
       "    </tr>\n",
       "    <tr>\n",
       "      <th>37</th>\n",
       "      <td>37</td>\n",
       "      <td>Pacific</td>\n",
       "      <td>Oregon</td>\n",
       "      <td>11139.0</td>\n",
       "      <td>3337.0</td>\n",
       "      <td>4181886</td>\n",
       "    </tr>\n",
       "    <tr>\n",
       "      <th>47</th>\n",
       "      <td>47</td>\n",
       "      <td>Pacific</td>\n",
       "      <td>Washington</td>\n",
       "      <td>16424.0</td>\n",
       "      <td>5880.0</td>\n",
       "      <td>7523869</td>\n",
       "    </tr>\n",
       "  </tbody>\n",
       "</table>\n",
       "</div>"
      ]
     },
     "execution_count": 58,
     "metadata": {},
     "output_type": "execute_result"
    }
   ],
   "execution_count": 58
  },
  {
   "metadata": {
    "ExecuteTime": {
     "end_time": "2024-08-20T15:03:34.034001Z",
     "start_time": "2024-08-20T15:03:34.030762Z"
    }
   },
   "cell_type": "code",
   "source": [
    "\"\"\" Creating new columns \n",
    "- H, W, is_Healthy\n",
    "- BMI can be calculated from H, W\n",
    "- You can add a new feature / column\n",
    "\"\"\"\n",
    "\n",
    "df[\"total_pop\"] = df[\"individuals\"] + df[\"state_pop\"]"
   ],
   "id": "33c81772b7398a65",
   "outputs": [],
   "execution_count": 59
  },
  {
   "metadata": {
    "ExecuteTime": {
     "end_time": "2024-08-20T15:03:38.066760Z",
     "start_time": "2024-08-20T15:03:38.060219Z"
    }
   },
   "cell_type": "code",
   "source": "df.head()",
   "id": "b4fc0f28f17a1e81",
   "outputs": [
    {
     "data": {
      "text/plain": [
       "   Unnamed: 0              region       state  individuals  family_members  \\\n",
       "0           0  East South Central     Alabama       2570.0           864.0   \n",
       "1           1             Pacific      Alaska       1434.0           582.0   \n",
       "2           2            Mountain     Arizona       7259.0          2606.0   \n",
       "3           3  West South Central    Arkansas       2280.0           432.0   \n",
       "4           4             Pacific  California     109008.0         20964.0   \n",
       "\n",
       "   state_pop   total_pop  \n",
       "0    4887681   4890251.0  \n",
       "1     735139    736573.0  \n",
       "2    7158024   7165283.0  \n",
       "3    3009733   3012013.0  \n",
       "4   39461588  39570596.0  "
      ],
      "text/html": [
       "<div>\n",
       "<style scoped>\n",
       "    .dataframe tbody tr th:only-of-type {\n",
       "        vertical-align: middle;\n",
       "    }\n",
       "\n",
       "    .dataframe tbody tr th {\n",
       "        vertical-align: top;\n",
       "    }\n",
       "\n",
       "    .dataframe thead th {\n",
       "        text-align: right;\n",
       "    }\n",
       "</style>\n",
       "<table border=\"1\" class=\"dataframe\">\n",
       "  <thead>\n",
       "    <tr style=\"text-align: right;\">\n",
       "      <th></th>\n",
       "      <th>Unnamed: 0</th>\n",
       "      <th>region</th>\n",
       "      <th>state</th>\n",
       "      <th>individuals</th>\n",
       "      <th>family_members</th>\n",
       "      <th>state_pop</th>\n",
       "      <th>total_pop</th>\n",
       "    </tr>\n",
       "  </thead>\n",
       "  <tbody>\n",
       "    <tr>\n",
       "      <th>0</th>\n",
       "      <td>0</td>\n",
       "      <td>East South Central</td>\n",
       "      <td>Alabama</td>\n",
       "      <td>2570.0</td>\n",
       "      <td>864.0</td>\n",
       "      <td>4887681</td>\n",
       "      <td>4890251.0</td>\n",
       "    </tr>\n",
       "    <tr>\n",
       "      <th>1</th>\n",
       "      <td>1</td>\n",
       "      <td>Pacific</td>\n",
       "      <td>Alaska</td>\n",
       "      <td>1434.0</td>\n",
       "      <td>582.0</td>\n",
       "      <td>735139</td>\n",
       "      <td>736573.0</td>\n",
       "    </tr>\n",
       "    <tr>\n",
       "      <th>2</th>\n",
       "      <td>2</td>\n",
       "      <td>Mountain</td>\n",
       "      <td>Arizona</td>\n",
       "      <td>7259.0</td>\n",
       "      <td>2606.0</td>\n",
       "      <td>7158024</td>\n",
       "      <td>7165283.0</td>\n",
       "    </tr>\n",
       "    <tr>\n",
       "      <th>3</th>\n",
       "      <td>3</td>\n",
       "      <td>West South Central</td>\n",
       "      <td>Arkansas</td>\n",
       "      <td>2280.0</td>\n",
       "      <td>432.0</td>\n",
       "      <td>3009733</td>\n",
       "      <td>3012013.0</td>\n",
       "    </tr>\n",
       "    <tr>\n",
       "      <th>4</th>\n",
       "      <td>4</td>\n",
       "      <td>Pacific</td>\n",
       "      <td>California</td>\n",
       "      <td>109008.0</td>\n",
       "      <td>20964.0</td>\n",
       "      <td>39461588</td>\n",
       "      <td>39570596.0</td>\n",
       "    </tr>\n",
       "  </tbody>\n",
       "</table>\n",
       "</div>"
      ]
     },
     "execution_count": 60,
     "metadata": {},
     "output_type": "execute_result"
    }
   ],
   "execution_count": 60
  },
  {
   "metadata": {
    "ExecuteTime": {
     "end_time": "2024-08-20T15:06:52.106837Z",
     "start_time": "2024-08-20T15:06:52.100967Z"
    }
   },
   "cell_type": "code",
   "source": [
    "\"\"\" Query \"\"\"\n",
    "\n",
    "new_df = df.query(\n",
    "    \"region == 'Pacific' and family_members >= 10000\"\n",
    ")\n",
    "\n",
    "new_df.head()"
   ],
   "id": "c6769f27118befd4",
   "outputs": [
    {
     "data": {
      "text/plain": [
       "   Unnamed: 0   region       state  individuals  family_members  state_pop  \\\n",
       "4           4  Pacific  California     109008.0         20964.0   39461588   \n",
       "\n",
       "    total_pop  \n",
       "4  39570596.0  "
      ],
      "text/html": [
       "<div>\n",
       "<style scoped>\n",
       "    .dataframe tbody tr th:only-of-type {\n",
       "        vertical-align: middle;\n",
       "    }\n",
       "\n",
       "    .dataframe tbody tr th {\n",
       "        vertical-align: top;\n",
       "    }\n",
       "\n",
       "    .dataframe thead th {\n",
       "        text-align: right;\n",
       "    }\n",
       "</style>\n",
       "<table border=\"1\" class=\"dataframe\">\n",
       "  <thead>\n",
       "    <tr style=\"text-align: right;\">\n",
       "      <th></th>\n",
       "      <th>Unnamed: 0</th>\n",
       "      <th>region</th>\n",
       "      <th>state</th>\n",
       "      <th>individuals</th>\n",
       "      <th>family_members</th>\n",
       "      <th>state_pop</th>\n",
       "      <th>total_pop</th>\n",
       "    </tr>\n",
       "  </thead>\n",
       "  <tbody>\n",
       "    <tr>\n",
       "      <th>4</th>\n",
       "      <td>4</td>\n",
       "      <td>Pacific</td>\n",
       "      <td>California</td>\n",
       "      <td>109008.0</td>\n",
       "      <td>20964.0</td>\n",
       "      <td>39461588</td>\n",
       "      <td>39570596.0</td>\n",
       "    </tr>\n",
       "  </tbody>\n",
       "</table>\n",
       "</div>"
      ]
     },
     "execution_count": 64,
     "metadata": {},
     "output_type": "execute_result"
    }
   ],
   "execution_count": 64
  }
 ],
 "metadata": {
  "kernelspec": {
   "display_name": "Python 3",
   "language": "python",
   "name": "python3"
  },
  "language_info": {
   "codemirror_mode": {
    "name": "ipython",
    "version": 2
   },
   "file_extension": ".py",
   "mimetype": "text/x-python",
   "name": "python",
   "nbconvert_exporter": "python",
   "pygments_lexer": "ipython2",
   "version": "2.7.6"
  }
 },
 "nbformat": 4,
 "nbformat_minor": 5
}
