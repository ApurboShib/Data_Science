{
  "nbformat": 4,
  "nbformat_minor": 0,
  "metadata": {
    "colab": {
      "provenance": []
    },
    "kernelspec": {
      "name": "python3",
      "display_name": "Python 3"
    },
    "language_info": {
      "name": "python"
    }
  },
  "cells": [
    {
      "cell_type": "markdown",
      "source": [
        "# Numpy Basic-02.\n",
        "## Joy Shib."
      ],
      "metadata": {
        "id": "9SFTAyOBdvOl"
      }
    },
    {
      "cell_type": "code",
      "source": [
        "\"\"\" Numpy - Useful Methods\n",
        "\n",
        "Objectives:\n",
        "\n",
        "1. We will filter elements from a numpy array\n",
        "3. We will reshape, sort, iterate over a numpy array\n",
        "4. We will learn important numpy functions\n",
        "   4.1. argmax, argmin => finds the index of an max element in a numpy array\n",
        "   4.2. split => splits a numpy array into different arrays\n",
        "   4.3. dot, transpose (T)\n",
        "   4.4. mean, median, std => generate statistical values\n",
        "6. We will understand vectorization\n",
        "7. We will understand Broadcasting\n",
        "\"\"\"\n",
        "\n",
        "import numpy as np\n",
        "\n",
        "np.__version__"
      ],
      "metadata": {
        "colab": {
          "base_uri": "https://localhost:8080/",
          "height": 35
        },
        "id": "E7TpuKRjd03Q",
        "outputId": "bf89942e-8a04-4202-9bed-8c8cd60cbd3d"
      },
      "execution_count": 1,
      "outputs": [
        {
          "output_type": "execute_result",
          "data": {
            "text/plain": [
              "'1.26.4'"
            ],
            "application/vnd.google.colaboratory.intrinsic+json": {
              "type": "string"
            }
          },
          "metadata": {},
          "execution_count": 1
        }
      ]
    },
    {
      "cell_type": "code",
      "source": [
        "\"\"\"numpy filter\n",
        "- using boolean mask\n",
        "- using conditionals\n",
        "- using indices\n",
        "- using custom filter method\n",
        "\"\"\"\n",
        "\n",
        "my_1d_array = np.array(\n",
        "    [1, 2, 3, 4, 5, 6]\n",
        ")\n",
        "\n"
      ],
      "metadata": {
        "id": "_x4QQ6Y9eNiK"
      },
      "execution_count": 3,
      "outputs": []
    },
    {
      "cell_type": "code",
      "source": [
        "# using boolean.\n",
        "# look the output, 'true' values are considered here.\n",
        "\n",
        "filter_mask = [True, False, True, False, True, False]\n",
        "my_1d_array[filter_mask]"
      ],
      "metadata": {
        "colab": {
          "base_uri": "https://localhost:8080/"
        },
        "id": "KHg8QDsweaD3",
        "outputId": "c2da702e-4197-45d3-a959-e1be739d88fc"
      },
      "execution_count": 5,
      "outputs": [
        {
          "output_type": "execute_result",
          "data": {
            "text/plain": [
              "array([1, 3, 5])"
            ]
          },
          "metadata": {},
          "execution_count": 5
        }
      ]
    },
    {
      "cell_type": "code",
      "source": [
        "# using conditionals.\n",
        "filter_mask = my_1d_array >= 3\n",
        "my_1d_array[filter_mask]"
      ],
      "metadata": {
        "colab": {
          "base_uri": "https://localhost:8080/"
        },
        "id": "4s3EyfP-e1dc",
        "outputId": "071334a0-f99c-4f55-ff17-a9767986c20f"
      },
      "execution_count": 7,
      "outputs": [
        {
          "output_type": "execute_result",
          "data": {
            "text/plain": [
              "array([3, 4, 5, 6])"
            ]
          },
          "metadata": {},
          "execution_count": 7
        }
      ]
    },
    {
      "cell_type": "code",
      "source": [
        "# we can create a new array and make this changes.\n",
        "new_array = my_1d_array[filter_mask]\n",
        "print(new_array)"
      ],
      "metadata": {
        "colab": {
          "base_uri": "https://localhost:8080/"
        },
        "id": "22xLRoJDkWZa",
        "outputId": "6a58332b-31a0-403d-830d-e04b237cd353"
      },
      "execution_count": 9,
      "outputs": [
        {
          "output_type": "stream",
          "name": "stdout",
          "text": [
            "[3 4 5 6]\n"
          ]
        }
      ]
    },
    {
      "cell_type": "code",
      "source": [
        "# indicies..\n",
        "# it's shows that where my condition become true and then print this index.\n",
        "indices = np.where(my_1d_array % 2 == 0)\n",
        "print(indices)"
      ],
      "metadata": {
        "colab": {
          "base_uri": "https://localhost:8080/"
        },
        "id": "TqWdYnpDrxLT",
        "outputId": "8a6b7954-7b27-48ab-ee32-32fe8dc99a4a"
      },
      "execution_count": 12,
      "outputs": [
        {
          "output_type": "stream",
          "name": "stdout",
          "text": [
            "(array([1, 3, 5]),)\n"
          ]
        }
      ]
    },
    {
      "cell_type": "code",
      "source": [
        "# show this values where my index is belong to. like, -> a[ind].\n",
        "new_idicies = my_1d_array[indices]\n",
        "print(new_idicies)"
      ],
      "metadata": {
        "colab": {
          "base_uri": "https://localhost:8080/"
        },
        "id": "7MBlz_KJse02",
        "outputId": "ce13521c-4554-4314-c4c3-601b75ad19af"
      },
      "execution_count": 14,
      "outputs": [
        {
          "output_type": "stream",
          "name": "stdout",
          "text": [
            "[2 4 6]\n"
          ]
        }
      ]
    },
    {
      "cell_type": "code",
      "source": [
        "\n",
        "# 1-dimensional NumPy array.\n",
        "my_1d_array = np.array([1, 2, 3, 4, 5, 6])\n",
        "\n",
        "# Custom filter method to filter even numbers.\n",
        "def my_filter_method(x):\n",
        "    # Logic: Return True for even numbers, False otherwise\n",
        "    return x % 2 == 0\n",
        "\n",
        "# Using the filter function with the custom filter method\n",
        "filters_iterable = filter(my_filter_method, my_1d_array)\n",
        "\n",
        "# Converting the filtered result (an iterable) to a NumPy array\n",
        "my_filt_array = np.array(list(filters_iterable))\n",
        "\n",
        "# Display the filtered array\n",
        "print(\"Filtered array using custom filter method:\", my_filt_array) # Output: [2, 4, 6]\n",
        "\n"
      ],
      "metadata": {
        "colab": {
          "base_uri": "https://localhost:8080/"
        },
        "id": "PtmkJOOHs049",
        "outputId": "5ed4d0d4-cdb7-432c-d5c1-7fd1ae23c0f7"
      },
      "execution_count": 18,
      "outputs": [
        {
          "output_type": "stream",
          "name": "stdout",
          "text": [
            "Filtered array using custom filter method: [2 4 6]\n"
          ]
        }
      ]
    },
    {
      "cell_type": "code",
      "source": [
        "\n",
        "# Creating a 2-dimensional NumPy array filled with the value 5\n",
        "my_2d_array = np.full(\n",
        "    shape=(5, 3),  # Original shape: 5 rows and 3 columns\n",
        "    dtype='int',   # Data type: integer\n",
        "    fill_value=5   # Fill value: 5\n",
        ")\n",
        "\n",
        "# Reshaping the array to a new shape (3 rows and 5 columns)\n",
        "# Condition: Total elements before and after reshaping must remain the same (5*3 = 15)\n",
        "my_np_array_reshaped = my_2d_array.reshape(3, 5)\n",
        "\n",
        "# Printing the original array and its shape.\n",
        "print(\"Original 2D array:\")\n",
        "print(my_2d_array)\n",
        "print(\"Shape of original array:\", my_2d_array.shape)\n",
        "\n",
        "# Printing the reshaped array and its new shape\n",
        "print(\"\\nReshaped 2D array:\")\n",
        "print(my_np_array_reshaped)\n",
        "print(\"Shape of reshaped array:\", my_np_array_reshaped.shape)\n"
      ],
      "metadata": {
        "colab": {
          "base_uri": "https://localhost:8080/"
        },
        "id": "HCbLz0GuuAGU",
        "outputId": "da252775-b369-49d4-9b37-27f436cfce0d"
      },
      "execution_count": 20,
      "outputs": [
        {
          "output_type": "stream",
          "name": "stdout",
          "text": [
            "Original 2D array:\n",
            "[[5 5 5]\n",
            " [5 5 5]\n",
            " [5 5 5]\n",
            " [5 5 5]\n",
            " [5 5 5]]\n",
            "Shape of original array: (5, 3)\n",
            "\n",
            "Reshaped 2D array:\n",
            "[[5 5 5 5 5]\n",
            " [5 5 5 5 5]\n",
            " [5 5 5 5 5]]\n",
            "Shape of reshaped array: (3, 5)\n"
          ]
        }
      ]
    },
    {
      "cell_type": "code",
      "source": [
        "# Numpy reshape\n",
        "# Step 1. flattening -> 1D\n",
        "# Step 2. reshaping.\n",
        "\n",
        "print(my_2d_array)\n",
        "print(my_2d_array.flatten())\n",
        "print(my_2d_array.reshape(3, 5, 1))"
      ],
      "metadata": {
        "colab": {
          "base_uri": "https://localhost:8080/"
        },
        "id": "AzTFPdkAupYE",
        "outputId": "770b1602-5c8d-416a-8b38-b41054466d1b"
      },
      "execution_count": 21,
      "outputs": [
        {
          "output_type": "stream",
          "name": "stdout",
          "text": [
            "[[5 5 5]\n",
            " [5 5 5]\n",
            " [5 5 5]\n",
            " [5 5 5]\n",
            " [5 5 5]]\n",
            "[5 5 5 5 5 5 5 5 5 5 5 5 5 5 5]\n",
            "[[[5]\n",
            "  [5]\n",
            "  [5]\n",
            "  [5]\n",
            "  [5]]\n",
            "\n",
            " [[5]\n",
            "  [5]\n",
            "  [5]\n",
            "  [5]\n",
            "  [5]]\n",
            "\n",
            " [[5]\n",
            "  [5]\n",
            "  [5]\n",
            "  [5]\n",
            "  [5]]]\n"
          ]
        }
      ]
    },
    {
      "cell_type": "code",
      "source": [
        "# Reshaping with -1.\n",
        "\n",
        "np.ones((3, 4, 2, 2)).reshape(2, -1, 2).shape"
      ],
      "metadata": {
        "colab": {
          "base_uri": "https://localhost:8080/"
        },
        "id": "N_E6PkKcu1hj",
        "outputId": "75b81758-fdf3-4879-de00-75a4d2fb37fe"
      },
      "execution_count": 22,
      "outputs": [
        {
          "output_type": "execute_result",
          "data": {
            "text/plain": [
              "(2, 12, 2)"
            ]
          },
          "metadata": {},
          "execution_count": 22
        }
      ]
    },
    {
      "cell_type": "code",
      "source": [
        "# Sort..\n",
        "prediction = [0.3, 0.1, 0.4]\n",
        "print(np.sort(prediction)) # sort in accending order.\n",
        "print(np.sort(prediction)[::-1]) # sort in decending order."
      ],
      "metadata": {
        "colab": {
          "base_uri": "https://localhost:8080/"
        },
        "id": "wt01mmaau9Pl",
        "outputId": "1b8a733d-33a5-4ec3-eac9-69600f6537db"
      },
      "execution_count": 24,
      "outputs": [
        {
          "output_type": "stream",
          "name": "stdout",
          "text": [
            "[0.1 0.3 0.4]\n",
            "[0.4 0.3 0.1]\n"
          ]
        }
      ]
    },
    {
      "cell_type": "code",
      "source": [
        "\n",
        "my_1d_array = np.array([1.5, 2, 3.3, 4.7, 5.1, 6])\n",
        "\n",
        "# Print the original array before starting iterations\n",
        "print('Original array for iteration:', my_1d_array)\n",
        "\n",
        "# Iterate by value\n",
        "print('\\nIterating by value:')\n",
        "for x in my_1d_array:\n",
        "    print(x, end=', ')\n",
        "print()  # Move to the next line after printing all values\n",
        "\n",
        "# Iterate by index\n",
        "print('\\nIterating by index:')\n",
        "for i in range(len(my_1d_array)):\n",
        "    print(my_1d_array[i], end=', ')\n",
        "print()  # Move to the next line after printing all values\n",
        "\n",
        "# Enumerate: Iterate by both index and value\n",
        "print('\\nIterating with enumerate (index and value):')\n",
        "for i, x in enumerate(my_1d_array):\n",
        "    print(i, x)\n"
      ],
      "metadata": {
        "colab": {
          "base_uri": "https://localhost:8080/"
        },
        "id": "F7GZKMnwvOtT",
        "outputId": "bee7f88a-899f-452f-e598-f849a680aec0"
      },
      "execution_count": 35,
      "outputs": [
        {
          "output_type": "stream",
          "name": "stdout",
          "text": [
            "Original array for iteration: [1.5 2.  3.3 4.7 5.1 6. ]\n",
            "\n",
            "Iterating by value:\n",
            "1.5, 2.0, 3.3, 4.7, 5.1, 6.0, \n",
            "\n",
            "Iterating by index:\n",
            "1.5, 2.0, 3.3, 4.7, 5.1, 6.0, \n",
            "\n",
            "Iterating with enumerate (index and value):\n",
            "0 1.5\n",
            "1 2.0\n",
            "2 3.3\n",
            "3 4.7\n",
            "4 5.1\n",
            "5 6.0\n"
          ]
        }
      ]
    },
    {
      "cell_type": "code",
      "source": [
        "my_1d_array = np.array([1.5, 2, 3.3, 4.7, 5.1, 6])\n",
        "\n",
        "# Finding the index of the maximum value in the array\n",
        "index_max = np.argmax(my_1d_array)\n",
        "# Finding the index of the minimum value in the array\n",
        "index_min = np.argmin(my_1d_array)\n",
        "\n",
        "print(f\"Index of maximum value: {index_max}, Index of minimum value: {index_min}\")\n"
      ],
      "metadata": {
        "colab": {
          "base_uri": "https://localhost:8080/"
        },
        "id": "ki0mTjqfwdDy",
        "outputId": "f4cf4b1a-fe60-461c-a232-67f9c31fb4c6"
      },
      "execution_count": 37,
      "outputs": [
        {
          "output_type": "stream",
          "name": "stdout",
          "text": [
            "Index of maximum value: 5, Index of minimum value: 0\n"
          ]
        }
      ]
    },
    {
      "cell_type": "code",
      "source": [
        "my_np_array = np.array([1, 5, 1, 1, 5, 7])\n",
        "\n",
        "# Splitting the array into two parts using np.split().\n",
        "# indices_or_sections=2 means splitting the array into 2 equal parts (if possible).\n",
        "new_np_array = np.split(\n",
        "    my_np_array,\n",
        "    indices_or_sections=2  # Splitting into 2 parts\n",
        ")\n",
        "\n",
        "print(\"Array after splitting into 2 parts:\", new_np_array)\n"
      ],
      "metadata": {
        "colab": {
          "base_uri": "https://localhost:8080/"
        },
        "id": "Wt2_PeXTw7F6",
        "outputId": "3207b338-e674-4c75-b656-8bd55685b86f"
      },
      "execution_count": 38,
      "outputs": [
        {
          "output_type": "stream",
          "name": "stdout",
          "text": [
            "Array after splitting into 2 parts: [array([1, 5, 1]), array([1, 5, 7])]\n"
          ]
        }
      ]
    },
    {
      "cell_type": "code",
      "source": [
        "# perform (.) calculations.\n",
        "my_np_array_1 = np.array([1, 2, 3])\n",
        "my_np_array_2 = np.array([3, 4, 5])\n",
        "\n",
        "# Printing the original arrays\n",
        "print(\"Array 1:\", my_np_array_1)\n",
        "print(\"Array 2:\", my_np_array_2)\n",
        "\n",
        "# Calculating the dot product of the two arrays\n",
        "# The dot product is calculated as: (1*3) + (2*4) + (3*5)\n",
        "dot_product = np.dot(my_np_array_1, my_np_array_2)\n",
        "\n",
        "print(\"Dot product of Array 1 and Array 2:\", dot_product)\n"
      ],
      "metadata": {
        "colab": {
          "base_uri": "https://localhost:8080/"
        },
        "id": "OYG4tva_xWQv",
        "outputId": "a4b65103-bcc0-4b97-d179-61ca0d563519"
      },
      "execution_count": 39,
      "outputs": [
        {
          "output_type": "stream",
          "name": "stdout",
          "text": [
            "Array 1: [1 2 3]\n",
            "Array 2: [3 4 5]\n",
            "Dot product of Array 1 and Array 2: 26\n"
          ]
        }
      ]
    },
    {
      "cell_type": "code",
      "source": [
        "my_2d_array_1 = np.array(\n",
        "    [[2, 1, 3],\n",
        "     [7, 5, 6]]\n",
        ")\n",
        "\n",
        "# Printing the shape of the original 2D array\n",
        "# This will show (2, 3) because the array has 2 rows and 3 columns\n",
        "print(\"Shape of the original array:\", my_2d_array_1.shape)\n",
        "\n",
        "# Transposing the matrix (swapping rows and columns)\n",
        "# The result will have 3 rows and 2 columns, so the shape will be (3, 2)\n",
        "print(\"Shape of the transposed array:\", my_2d_array_1.T.shape)\n"
      ],
      "metadata": {
        "colab": {
          "base_uri": "https://localhost:8080/"
        },
        "id": "p2n4I2Mpxy9L",
        "outputId": "d38fa0bf-469e-45a5-e76e-313eceda928e"
      },
      "execution_count": 41,
      "outputs": [
        {
          "output_type": "stream",
          "name": "stdout",
          "text": [
            "Shape of the original array: (2, 3)\n",
            "Shape of the transposed array: (3, 2)\n"
          ]
        }
      ]
    },
    {
      "cell_type": "code",
      "source": [
        "print(np.mean(my_np_array_1))\n",
        "print(np.median(my_np_array_1))\n",
        "print(np.std(my_np_array_1))"
      ],
      "metadata": {
        "colab": {
          "base_uri": "https://localhost:8080/"
        },
        "id": "ZmnYARaKyMo7",
        "outputId": "246d25df-2523-4893-b5b3-6ce138777c8f"
      },
      "execution_count": 42,
      "outputs": [
        {
          "output_type": "stream",
          "name": "stdout",
          "text": [
            "2.0\n",
            "2.0\n",
            "0.816496580927726\n"
          ]
        }
      ]
    },
    {
      "cell_type": "code",
      "source": [
        "# Vectorization\n",
        "\n",
        "my_1d_array = np.array(\n",
        "    [1, 2, 3, 4, 5]\n",
        ")\n",
        "\n",
        "print(my_1d_array)\n",
        "\n",
        "my_1d_array % 2 == 1"
      ],
      "metadata": {
        "colab": {
          "base_uri": "https://localhost:8080/"
        },
        "id": "2rxa4zLDyRb0",
        "outputId": "7a272f93-3dde-47e7-de51-b5d798a9e9c3"
      },
      "execution_count": 43,
      "outputs": [
        {
          "output_type": "stream",
          "name": "stdout",
          "text": [
            "[1 2 3 4 5]\n"
          ]
        },
        {
          "output_type": "execute_result",
          "data": {
            "text/plain": [
              "array([ True, False,  True, False,  True])"
            ]
          },
          "metadata": {},
          "execution_count": 43
        }
      ]
    },
    {
      "cell_type": "code",
      "source": [
        "for x in my_1d_array:\n",
        "    x = x + 5\n",
        "\n",
        "my_1d_array = my_1d_array + 5\n",
        "print(my_1d_array)"
      ],
      "metadata": {
        "colab": {
          "base_uri": "https://localhost:8080/"
        },
        "id": "DnItJqS4yY-g",
        "outputId": "1983045c-aba9-40a7-e483-a152ace4a243"
      },
      "execution_count": 44,
      "outputs": [
        {
          "output_type": "stream",
          "name": "stdout",
          "text": [
            "[ 6  7  8  9 10]\n"
          ]
        }
      ]
    },
    {
      "cell_type": "code",
      "source": [
        "w = np.array([1, 2])  # Shape: (2,)\n",
        "\n",
        "# Creating a 2-dimensional array with shape (4, 2)\n",
        "x = np.array([\n",
        "    [3, 4],  # First row\n",
        "    [5, 6],  # Second row\n",
        "    [7, -8], # Third row\n",
        "    [-5, -3] # Fourth row\n",
        "])  # Shape: (4, 2)\n",
        "\n",
        "# Broadcasting operation: The smaller array `w` (shape (2,)) will be broadcast across\n",
        "# the larger array `x` (shape (4, 2)) for element-wise multiplication.\n",
        "# The result is a new array where each row in `x` is multiplied by `w`.\n",
        "result = w * x\n",
        "\n",
        "print(\"Result of broadcasting multiplication:\")\n",
        "print(result)\n"
      ],
      "metadata": {
        "colab": {
          "base_uri": "https://localhost:8080/"
        },
        "id": "3sbE7Etwydlk",
        "outputId": "ba48bd3b-e8d0-47ec-ac25-e512ec456bbb"
      },
      "execution_count": 47,
      "outputs": [
        {
          "output_type": "stream",
          "name": "stdout",
          "text": [
            "Result of broadcasting multiplication:\n",
            "[[  3   8]\n",
            " [  5  12]\n",
            " [  7 -16]\n",
            " [ -5  -6]]\n"
          ]
        }
      ]
    },
    {
      "cell_type": "code",
      "source": [
        "array1 = np.array([1, 2])\n",
        "array2 = np.array([3, 4])\n",
        "\n",
        "# Performing element-wise multiplication\n",
        "result = array1 * array2\n",
        "print(result)\n"
      ],
      "metadata": {
        "colab": {
          "base_uri": "https://localhost:8080/"
        },
        "id": "b1DH0_0MynnE",
        "outputId": "cb43a599-ba08-4be2-c656-1b4b50ef72e9"
      },
      "execution_count": 48,
      "outputs": [
        {
          "output_type": "stream",
          "name": "stdout",
          "text": [
            "[3 8]\n"
          ]
        }
      ]
    }
  ]
}