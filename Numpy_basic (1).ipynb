{
  "cells": [
    {
      "cell_type": "markdown",
      "metadata": {
        "id": "clFFPLMKpGgZ"
      },
      "source": [
        "# Basic Numpy.\n",
        "## Joy Shib."
      ]
    },
    {
      "cell_type": "markdown",
      "metadata": {
        "id": "nLYa95E9pSSZ"
      },
      "source": [
        "\"\"\"\n",
        "NumPy: The Basics\n",
        "=================\n",
        "\n",
        "NumPy stands for Numerical Python and is a powerful library in Python designed for numerical computations.\n",
        "It provides high-performance multidimensional array objects and tools for working with these arrays efficiently.\n",
        "\n",
        "Key Features:\n",
        "-------------\n",
        "- **High Performance**: Up to 50 times faster than Python lists.\n",
        "- **Memory Efficiency**: Uses contiguous blocks of memory for storage.\n",
        "- **Support for Vectorization**: Eliminates the need for explicit loops.\n",
        "- **Wide Usage**: Ideal for numerical and scientific computations.\n",
        "\n",
        "Prerequisites:\n",
        "--------------\n",
        "- Familiarity with Jupyter Notebook.\n",
        "- Basic understanding of Python.\n",
        "\n",
        "Objectives:\n",
        "-----------\n",
        "By the end of this session, you will be able to:\n",
        "1. Use Jupyter Notebook for running NumPy operations.\n",
        "2. Create and manipulate NumPy arrays.\n",
        "3. Understand and apply NumPy indexing.\n",
        "4. Slice and work with subsets of a NumPy array.\n",
        "there are so many significant features are available in Numpy.\n",
        "\n",
        "Let's get started with exploring NumPy!\n",
        "\"\"\"\n"
      ]
    },
    {
      "cell_type": "code",
      "execution_count": 2,
      "metadata": {
        "colab": {
          "base_uri": "https://localhost:8080/",
          "height": 35
        },
        "id": "EEZyjpaEqDav",
        "outputId": "f65fe788-abb2-4f0e-94ce-152e87d21764"
      },
      "outputs": [
        {
          "data": {
            "application/vnd.google.colaboratory.intrinsic+json": {
              "type": "string"
            },
            "text/plain": [
              "'1.26.4'"
            ]
          },
          "execution_count": 2,
          "metadata": {},
          "output_type": "execute_result"
        }
      ],
      "source": [
        "import numpy as np\n",
        "\n",
        "np.__version__"
      ]
    },
    {
      "cell_type": "markdown",
      "metadata": {
        "id": "Snh2AvtZSY9v"
      },
      "source": [
        "# Array Creation."
      ]
    },
    {
      "cell_type": "code",
      "execution_count": 3,
      "metadata": {
        "colab": {
          "base_uri": "https://localhost:8080/"
        },
        "id": "CKKOG7VYqABB",
        "outputId": "213a2bbd-8ce1-4ecc-8ade-0076672a03b6"
      },
      "outputs": [
        {
          "name": "stdout",
          "output_type": "stream",
          "text": [
            "[ 1  2  3  4  5  6  7  8  9 10]\n"
          ]
        }
      ],
      "source": [
        "# Numpy array decleartion.\n",
        "import numpy as np\n",
        "A = np.array([1,2,3,4,5,6,7,8,9,10])\n",
        "print(A)"
      ]
    },
    {
      "cell_type": "code",
      "execution_count": 7,
      "metadata": {
        "colab": {
          "base_uri": "https://localhost:8080/"
        },
        "id": "0iT1nYLCOPgt",
        "outputId": "a14cd801-26da-4fb6-8736-c4119de2aa74"
      },
      "outputs": [
        {
          "name": "stdout",
          "output_type": "stream",
          "text": [
            "The third element of the array is :\n"
          ]
        },
        {
          "data": {
            "text/plain": [
              "3"
            ]
          },
          "execution_count": 7,
          "metadata": {},
          "output_type": "execute_result"
        }
      ],
      "source": [
        "# want to print the 2nd value of this array.\n",
        "\n",
        "print('The third element of the array is :');\n",
        "A[2]"
      ]
    },
    {
      "cell_type": "code",
      "execution_count": 8,
      "metadata": {
        "colab": {
          "base_uri": "https://localhost:8080/"
        },
        "id": "yyCzdP3zPFEW",
        "outputId": "aead8080-9c61-4c4e-b8e3-065cd270ab50"
      },
      "outputs": [
        {
          "name": "stdout",
          "output_type": "stream",
          "text": [
            "The fourth element of the array is :\n"
          ]
        },
        {
          "data": {
            "text/plain": [
              "4"
            ]
          },
          "execution_count": 8,
          "metadata": {},
          "output_type": "execute_result"
        }
      ],
      "source": [
        "print('The fourth element of the array is :');\n",
        "A[3]"
      ]
    },
    {
      "cell_type": "code",
      "execution_count": null,
      "metadata": {
        "colab": {
          "base_uri": "https://localhost:8080/"
        },
        "id": "b83qL4_DrJhO",
        "outputId": "5265e3d8-117f-4ae2-bd24-5812baa99e63"
      },
      "outputs": [
        {
          "name": "stdout",
          "output_type": "stream",
          "text": [
            "<class 'numpy.ndarray'>\n"
          ]
        }
      ],
      "source": [
        "# print the data-type of array.\n",
        "print(type(A))"
      ]
    },
    {
      "cell_type": "code",
      "execution_count": 13,
      "metadata": {
        "colab": {
          "base_uri": "https://localhost:8080/"
        },
        "id": "WsCzglp9rS9P",
        "outputId": "53ed40cf-8cc1-4223-da37-a6e1fc874fb9"
      },
      "outputs": [
        {
          "name": "stdout",
          "output_type": "stream",
          "text": [
            "The type of array is :  int64\n"
          ]
        }
      ],
      "source": [
        "print('The type of array is : ', A.dtype)"
      ]
    },
    {
      "cell_type": "code",
      "execution_count": 11,
      "metadata": {
        "colab": {
          "base_uri": "https://localhost:8080/"
        },
        "id": "6C9gKn-Hrb4P",
        "outputId": "38d0b852-285a-49be-ecbe-ff29a0366554"
      },
      "outputs": [
        {
          "name": "stdout",
          "output_type": "stream",
          "text": [
            "The shape of array is :  (10,)\n"
          ]
        }
      ],
      "source": [
        "# print the shape..\n",
        "\n",
        "print('The shape of array is : ', A.shape)"
      ]
    },
    {
      "cell_type": "code",
      "execution_count": 12,
      "metadata": {
        "colab": {
          "base_uri": "https://localhost:8080/"
        },
        "id": "sBACovqKrjNO",
        "outputId": "b8f6736e-65d3-4bb3-ba2d-32ad0a0748f5"
      },
      "outputs": [
        {
          "name": "stdout",
          "output_type": "stream",
          "text": [
            "The dimention of array is :  1\n"
          ]
        }
      ],
      "source": [
        "# print the ndim.\n",
        "# ndim -> number of dimentions.\n",
        "print('The dimention of array is : ',A.ndim)"
      ]
    },
    {
      "cell_type": "markdown",
      "metadata": {
        "id": "Ivy3UafKSpo6"
      },
      "source": [
        "# Create an array with all Zeros."
      ]
    },
    {
      "cell_type": "code",
      "execution_count": null,
      "metadata": {
        "colab": {
          "base_uri": "https://localhost:8080/"
        },
        "id": "bdNWQRicr3hw",
        "outputId": "0dbaf783-4365-4727-f70d-e43357b236cc"
      },
      "outputs": [
        {
          "data": {
            "text/plain": [
              "array([0., 0., 0., 0., 0.])"
            ]
          },
          "execution_count": 7,
          "metadata": {},
          "output_type": "execute_result"
        }
      ],
      "source": [
        "zeros_np = np.zeros(\n",
        "    shape=(5,)\n",
        ")\n",
        "\n",
        "zeros_np"
      ]
    },
    {
      "cell_type": "markdown",
      "metadata": {
        "id": "IDCwhsbTShsO"
      },
      "source": [
        "# Create an array with all Ones."
      ]
    },
    {
      "cell_type": "code",
      "execution_count": null,
      "metadata": {
        "colab": {
          "base_uri": "https://localhost:8080/"
        },
        "id": "Ynilha7ZtOne",
        "outputId": "203bfd11-146e-40e5-8c2d-54a963e6076d"
      },
      "outputs": [
        {
          "data": {
            "text/plain": [
              "array([1., 1., 1., 1., 1.])"
            ]
          },
          "execution_count": 8,
          "metadata": {},
          "output_type": "execute_result"
        }
      ],
      "source": [
        "ones_np = np.ones (\n",
        "    shape = (5,)\n",
        ")\n",
        "ones_np"
      ]
    },
    {
      "cell_type": "code",
      "execution_count": null,
      "metadata": {
        "colab": {
          "base_uri": "https://localhost:8080/"
        },
        "id": "aOEpOH9ltZqm",
        "outputId": "a46dd9b2-1c51-4bd9-db61-0eee34125981"
      },
      "outputs": [
        {
          "name": "stdout",
          "output_type": "stream",
          "text": [
            "[[1 1 1]\n",
            " [1 1 1]\n",
            " [1 1 1]\n",
            " [1 1 1]\n",
            " [1 1 1]\n",
            " [1 1 1]\n",
            " [1 1 1]\n",
            " [1 1 1]\n",
            " [1 1 1]\n",
            " [1 1 1]]\n",
            "int64\n"
          ]
        }
      ],
      "source": [
        "# another approch.\n",
        "ones_np_array = np.ones (\n",
        "    shape = (10,3),\n",
        "    dtype = 'int'\n",
        ")\n",
        "print(ones_np_array)\n",
        "print(ones_np_array.dtype)\n"
      ]
    },
    {
      "cell_type": "markdown",
      "metadata": {
        "id": "xrLhtfKmSxQF"
      },
      "source": [
        "# # Create an array with specific values."
      ]
    },
    {
      "cell_type": "code",
      "execution_count": null,
      "metadata": {
        "colab": {
          "base_uri": "https://localhost:8080/"
        },
        "id": "PcIM-KQlWTiV",
        "outputId": "32387a82-fdf8-4073-cff3-a756e57a4d33"
      },
      "outputs": [
        {
          "data": {
            "text/plain": [
              "array([[100, 100, 100, 100],\n",
              "       [100, 100, 100, 100],\n",
              "       [100, 100, 100, 100],\n",
              "       [100, 100, 100, 100],\n",
              "       [100, 100, 100, 100],\n",
              "       [100, 100, 100, 100],\n",
              "       [100, 100, 100, 100],\n",
              "       [100, 100, 100, 100],\n",
              "       [100, 100, 100, 100],\n",
              "       [100, 100, 100, 100]])"
            ]
          },
          "execution_count": 17,
          "metadata": {},
          "output_type": "execute_result"
        }
      ],
      "source": [
        "# user value define korte caile 'fill_value' use korte hbe.\n",
        "\n",
        "specifiac_np_array = np.full (\n",
        "    shape = (10,4),\n",
        "   # dtype='int'\n",
        "    fill_value = 100,\n",
        "\n",
        ")\n",
        "specifiac_np_array\n"
      ]
    },
    {
      "cell_type": "markdown",
      "metadata": {
        "id": "6VO12dARVvR3"
      },
      "source": [
        "# Range Functions in Python."
      ]
    },
    {
      "cell_type": "code",
      "execution_count": 42,
      "metadata": {
        "id": "Ap789dw7VzJl"
      },
      "outputs": [],
      "source": [
        "# it give's output from (0 , n - 1)\n",
        "rng = np.arange(15)\n"
      ]
    },
    {
      "cell_type": "code",
      "execution_count": 43,
      "metadata": {
        "colab": {
          "base_uri": "https://localhost:8080/"
        },
        "id": "2fLjSC2SV5kl",
        "outputId": "01b5a662-0cba-4d90-b204-a1d52be461b8"
      },
      "outputs": [
        {
          "data": {
            "text/plain": [
              "array([ 0,  1,  2,  3,  4,  5,  6,  7,  8,  9, 10, 11, 12, 13, 14])"
            ]
          },
          "execution_count": 43,
          "metadata": {},
          "output_type": "execute_result"
        }
      ],
      "source": [
        "rng"
      ]
    },
    {
      "cell_type": "markdown",
      "metadata": {
        "id": "7q5rZO6hS7K9"
      },
      "source": [
        "# Create an identity Matrix."
      ]
    },
    {
      "cell_type": "code",
      "execution_count": 45,
      "metadata": {
        "colab": {
          "base_uri": "https://localhost:8080/"
        },
        "id": "y6ZEspX8XgXc",
        "outputId": "4893ff7f-dea2-4aef-c575-957b4b9a0bab"
      },
      "outputs": [
        {
          "name": "stdout",
          "output_type": "stream",
          "text": [
            "[[1. 0. 0. 0. 0. 0. 0. 0. 0. 0.]\n",
            " [0. 1. 0. 0. 0. 0. 0. 0. 0. 0.]\n",
            " [0. 0. 1. 0. 0. 0. 0. 0. 0. 0.]\n",
            " [0. 0. 0. 1. 0. 0. 0. 0. 0. 0.]\n",
            " [0. 0. 0. 0. 1. 0. 0. 0. 0. 0.]\n",
            " [0. 0. 0. 0. 0. 1. 0. 0. 0. 0.]\n",
            " [0. 0. 0. 0. 0. 0. 1. 0. 0. 0.]\n",
            " [0. 0. 0. 0. 0. 0. 0. 1. 0. 0.]\n",
            " [0. 0. 0. 0. 0. 0. 0. 0. 1. 0.]\n",
            " [0. 0. 0. 0. 0. 0. 0. 0. 0. 1.]]\n"
          ]
        }
      ],
      "source": [
        "identity_matrix = np.eye(\n",
        "    10\n",
        "\n",
        ")\n",
        "print(identity_matrix)"
      ]
    },
    {
      "cell_type": "code",
      "execution_count": 46,
      "metadata": {
        "colab": {
          "base_uri": "https://localhost:8080/"
        },
        "id": "Gr2O9_0gWp_d",
        "outputId": "1bd21b3e-7cc0-41d7-c7c2-575200995c6d"
      },
      "outputs": [
        {
          "data": {
            "text/plain": [
              "(10, 10)"
            ]
          },
          "execution_count": 46,
          "metadata": {},
          "output_type": "execute_result"
        }
      ],
      "source": [
        "# see the shape of the matrix.\n",
        "identity_matrix.shape"
      ]
    },
    {
      "cell_type": "markdown",
      "metadata": {
        "id": "w_EZ959ETCol"
      },
      "source": [
        "# Create an empty array."
      ]
    },
    {
      "cell_type": "code",
      "execution_count": null,
      "metadata": {
        "colab": {
          "base_uri": "https://localhost:8080/"
        },
        "id": "PUUoVgfNXz18",
        "outputId": "e2de1b23-bc1c-49df-b9be-97f498d6f3cc"
      },
      "outputs": [
        {
          "data": {
            "text/plain": [
              "array([[3.14820295e-316, 0.00000000e+000, 3.86598877e+233],\n",
              "       [2.31634000e-152, 2.31596508e+251, 2.46175026e+198],\n",
              "       [2.31261087e-152, 5.98736697e+247, 6.01334637e-154],\n",
              "       [3.04284970e+169, 6.89806196e+212, 1.54381037e+256],\n",
              "       [8.90385429e+252, 6.01334515e-154, 6.55490914e-260],\n",
              "       [6.01347002e-154, 4.19321854e+228, 1.14490518e+243],\n",
              "       [6.03425842e-154, 1.27826910e-152, 1.06098610e-153],\n",
              "       [1.10638927e+200, 3.65591182e+233, 3.06295040e+262],\n",
              "       [1.39539405e-258, 6.01347002e-154, 1.35616577e+248],\n",
              "       [5.72631091e+188, 1.39620200e-308, 6.85384601e-310]])"
            ]
          },
          "execution_count": 22,
          "metadata": {},
          "output_type": "execute_result"
        }
      ],
      "source": [
        "empty_array = np.empty(\n",
        "    shape = (10,3),\n",
        ")\n",
        "empty_array"
      ]
    },
    {
      "cell_type": "code",
      "execution_count": null,
      "metadata": {
        "colab": {
          "base_uri": "https://localhost:8080/"
        },
        "id": "TiMYombYYT13",
        "outputId": "603ea52c-9ff9-43ea-fc36-ad86139f9106"
      },
      "outputs": [
        {
          "data": {
            "text/plain": [
              "array([1., 1., 1., 1., 1.])"
            ]
          },
          "execution_count": 23,
          "metadata": {},
          "output_type": "execute_result"
        }
      ],
      "source": [
        "my_empty_np_array = np.empty(\n",
        "    shape=(5,)\n",
        ")\n",
        "my_empty_np_array"
      ]
    },
    {
      "cell_type": "markdown",
      "metadata": {
        "id": "Ut_oEN9oTI8M"
      },
      "source": [
        "# Create a sequential array\n",
        "## arange\n",
        "## linspace"
      ]
    },
    {
      "cell_type": "code",
      "execution_count": null,
      "metadata": {
        "colab": {
          "base_uri": "https://localhost:8080/"
        },
        "id": "QTHtQi4WYlke",
        "outputId": "ce986e8c-d3dd-46fd-c283-2d9ed8f280f2"
      },
      "outputs": [
        {
          "name": "stdout",
          "output_type": "stream",
          "text": [
            "[1 2 3 4 5 6 7 8 9]\n",
            "[ 0.   2.5  5.   7.5 10. ]\n"
          ]
        }
      ],
      "source": [
        "my_array = np.arange(1, 10)\n",
        "print(my_array)\n",
        "\n",
        "my_np_array = np.linspace(\n",
        "    start=0,\n",
        "    stop=10,\n",
        "    num=5\n",
        ")\n",
        "print(my_np_array)"
      ]
    },
    {
      "cell_type": "code",
      "execution_count": null,
      "metadata": {
        "colab": {
          "base_uri": "https://localhost:8080/"
        },
        "id": "gMUxUp71Ywf_",
        "outputId": "03e88479-9eb4-44fe-c362-09f2429121a1"
      },
      "outputs": [
        {
          "name": "stdout",
          "output_type": "stream",
          "text": [
            "[1 1 1 1 1]\n"
          ]
        }
      ],
      "source": [
        "\"\"\"Type cast\n",
        "\"\"\"\n",
        "\n",
        "my_empty_np_array_int = my_empty_np_array.astype('int')\n",
        "print(my_empty_np_array_int)"
      ]
    },
    {
      "cell_type": "code",
      "execution_count": null,
      "metadata": {
        "colab": {
          "base_uri": "https://localhost:8080/"
        },
        "id": "YxyqTdAKZLp9",
        "outputId": "f99fc4a2-4d5c-40ca-f573-1482426eac40"
      },
      "outputs": [
        {
          "name": "stdout",
          "output_type": "stream",
          "text": [
            "0-dimensional array: 42 ndim: 0\n",
            "1-dimensional array: [1.5 2.  3.3 4.7 5.1 6. ] ndim: 1\n",
            "2-dimensional array ndim: 2\n",
            "[[1 2 3 4]\n",
            " [5 8 9 5]\n",
            " [7 1 2 7]]\n"
          ]
        }
      ],
      "source": [
        "# A 0-dimensional array (scalar) containing a single value.\n",
        "my_0d_array = np.array(42)\n",
        "print('0-dimensional array:', my_0d_array, 'ndim:', my_0d_array.ndim)\n",
        "\n",
        "# A 1-dimensional array (vector) containing a sequence of numbers.\n",
        "my_1d_array = np.array(\n",
        "    [1.5, 2, 3.3, 4.7, 5.1, 6]\n",
        ")\n",
        "print('1-dimensional array:', my_1d_array, 'ndim:', my_1d_array.ndim)\n",
        "\n",
        "# A 2-dimensional array (matrix) containing rows and columns of numbers.\n",
        "my_2d_array = np.array(\n",
        "    [[1, 2, 3, 4],\n",
        "     [5, 8, 9, 5],\n",
        "     [7, 1, 2, 7]]\n",
        ")\n",
        "print('2-dimensional array', 'ndim:', my_2d_array.ndim)\n",
        "print(my_2d_array)"
      ]
    },
    {
      "cell_type": "code",
      "execution_count": null,
      "metadata": {
        "colab": {
          "base_uri": "https://localhost:8080/"
        },
        "id": "x7JgupmrZ6bz",
        "outputId": "b0377b5b-6625-47f2-df28-a5b20bb7b9b3"
      },
      "outputs": [
        {
          "name": "stdout",
          "output_type": "stream",
          "text": [
            "3\n",
            "3\n"
          ]
        }
      ],
      "source": [
        "\n",
        "# Creating an 1-dimensional NumPy array.\n",
        "my_np_array = np.array(\n",
        "    [1, 2, 3, 4, 5]\n",
        ")\n",
        "\n",
        "# Accessing the 3rd element (index 2) using non-negative indexing.\n",
        "print(my_np_array[2])  # Expected Output: 3\n",
        "\n",
        "# Accessing the 3rd element from the end (index -3) using negative indexing.\n",
        "print(my_np_array[-3])  # Expected Output: 3\n"
      ]
    },
    {
      "cell_type": "code",
      "execution_count": null,
      "metadata": {
        "colab": {
          "base_uri": "https://localhost:8080/"
        },
        "id": "AiIHs5aTaSD7",
        "outputId": "7d0b2755-2b3c-42a0-8310-4860d1bc6e25"
      },
      "outputs": [
        {
          "name": "stdout",
          "output_type": "stream",
          "text": [
            "8\n",
            "8\n"
          ]
        }
      ],
      "source": [
        "\n",
        "# Creating a 2-dimensional NumPy array (matrix)\n",
        "my_2d_array = np.array(\n",
        "    [[1, 2, 3, 4],\n",
        "     [5, 8, 9, 5],\n",
        "     [7, 1, 2, 7]]\n",
        ")\n",
        "\n",
        "# Accessing the element at row 1, column 1 (0-based indexing)\n",
        "print(my_2d_array[1, 1])  # Expected output: 8\n",
        "\n",
        "# Accessing the element at row 1, 2nd column from the start (negative indexing for columns)\n",
        "print(my_2d_array[1, -3])  # Expected output: 8\n"
      ]
    },
    {
      "cell_type": "code",
      "execution_count": null,
      "metadata": {
        "colab": {
          "base_uri": "https://localhost:8080/"
        },
        "id": "upD7n1D7bIQ9",
        "outputId": "96d8a7c4-3d79-4a24-91fd-8cf78a22e103"
      },
      "outputs": [
        {
          "name": "stdout",
          "output_type": "stream",
          "text": [
            "Entire 1D array: [1.5 2.  3.3 4.7 5.1 6. ]\n",
            "Elements from index 2 to 4 (exclusive): [3.3 4.7 5.1]\n",
            "Elements from index 1 to 4 with a step of 2: [2.  4.7]\n",
            "Sub-matrix with rows 0 to 1 and columns 1 to 2:\n",
            "[[2 3]\n",
            " [8 9]]\n"
          ]
        }
      ],
      "source": [
        "\n",
        "# 1-dimensional array for slicing examples\n",
        "my_1d_array = np.array([1.5, 2, 3.3, 4.7, 5.1, 6])\n",
        "\n",
        "# 2-dimensional array for slicing examples\n",
        "my_2d_array = np.array(\n",
        "    [[1, 2, 3, 4],\n",
        "     [5, 8, 9, 5],\n",
        "     [7, 1, 2, 7]]\n",
        ")\n",
        "\n",
        "# Slicing the entire array: default start=0, end=n, step=1\n",
        "print(\"Entire 1D array:\", my_1d_array[::])  # Output: [1.5, 2, 3.3, 4.7, 5.1, 6]\n",
        "\n",
        "# Slicing elements from index 2 to 4 (end index is excluded)\n",
        "print(\"Elements from index 2 to 4 (exclusive):\", my_1d_array[2:5])  # Output: [3.3, 4.7, 5.1]\n",
        "\n",
        "# Slicing elements from index 1 to 4 with a step of 2\n",
        "print(\"Elements from index 1 to 4 with a step of 2:\", my_1d_array[1:5:2])  # Output: [2, 4.7]\n",
        "\n",
        "# Slicing a sub-matrix: rows 0 to 1 and columns 1 to 2 (end index excluded)\n",
        "print(\"Sub-matrix with rows 0 to 1 and columns 1 to 2:\")\n",
        "print(my_2d_array[0:2, 1:3])\n",
        "\n"
      ]
    },
    {
      "cell_type": "code",
      "execution_count": null,
      "metadata": {
        "colab": {
          "base_uri": "https://localhost:8080/"
        },
        "id": "g_KGlK6Nb9_m",
        "outputId": "407a6d52-dfa8-454e-829b-4f50cf6bbb5d"
      },
      "outputs": [
        {
          "name": "stdout",
          "output_type": "stream",
          "text": [
            "[[1 2 3 4]\n",
            " [5 8 9 5]\n",
            " [7 1 2 7]]\n"
          ]
        }
      ],
      "source": [
        "print(my_2d_array)"
      ]
    },
    {
      "cell_type": "code",
      "execution_count": null,
      "metadata": {
        "colab": {
          "base_uri": "https://localhost:8080/"
        },
        "id": "Pv-Hd8pJcEf4",
        "outputId": "52bbe23e-c933-4e62-d6ee-b521fd80b9c5"
      },
      "outputs": [
        {
          "name": "stdout",
          "output_type": "stream",
          "text": [
            "[[5 8 9 5]\n",
            " [7 1 2 7]]\n"
          ]
        }
      ],
      "source": [
        "print(my_2d_array[1:3,])"
      ]
    },
    {
      "cell_type": "code",
      "execution_count": 14,
      "metadata": {
        "id": "moFk9p6uQbRD"
      },
      "outputs": [],
      "source": [
        "# we initialize the value of 2D array.\n",
        "# Make a new 2D array.\n",
        "\n",
        "myArray = np.array ([[1,2,3,4,5,6,7]])"
      ]
    },
    {
      "cell_type": "code",
      "execution_count": 15,
      "metadata": {
        "colab": {
          "base_uri": "https://localhost:8080/"
        },
        "id": "u5cZU2MAQslN",
        "outputId": "345b077c-f1aa-4155-bf11-0cf599e70aef"
      },
      "outputs": [
        {
          "data": {
            "text/plain": [
              "2"
            ]
          },
          "execution_count": 15,
          "metadata": {},
          "output_type": "execute_result"
        }
      ],
      "source": [
        "# show the [0,1] cell value .\n",
        "myArray[0,1]"
      ]
    },
    {
      "cell_type": "code",
      "execution_count": 22,
      "metadata": {
        "colab": {
          "base_uri": "https://localhost:8080/"
        },
        "id": "JCOIO3VMQ8YJ",
        "outputId": "1c46ef74-1864-40ba-87f4-24e7c5f83c67"
      },
      "outputs": [
        {
          "data": {
            "text/plain": [
              "5"
            ]
          },
          "execution_count": 22,
          "metadata": {},
          "output_type": "execute_result"
        }
      ],
      "source": [
        "# show the [0,4] cell value.\n",
        "\n",
        "myArray[0,4]"
      ]
    },
    {
      "cell_type": "code",
      "execution_count": 28,
      "metadata": {
        "colab": {
          "base_uri": "https://localhost:8080/"
        },
        "id": "9EmF5ZEDRWuh",
        "outputId": "136bb435-7a80-46d2-fc5a-0a4346cadbce"
      },
      "outputs": [
        {
          "data": {
            "text/plain": [
              "100"
            ]
          },
          "execution_count": 28,
          "metadata": {},
          "output_type": "execute_result"
        }
      ],
      "source": [
        "# change the value at [0,3] cell, currently the value is : 4.\n",
        "# now we value is = 100.\n",
        "\n",
        "myArray[0,3] = 100\n",
        "myArray[0,3]"
      ]
    },
    {
      "cell_type": "markdown",
      "metadata": {
        "id": "69JsBln4TWpl"
      },
      "source": [
        "# All 2D Array Functionalities."
      ]
    },
    {
      "cell_type": "code",
      "execution_count": 29,
      "metadata": {
        "id": "XMBwPOp-TcGQ"
      },
      "outputs": [],
      "source": [
        "# create an 2D array.\n",
        "\n",
        "my_2D_array = np.array ([[1,2,3,4,5,6,7],[8,9,10,11,12,13,14]])\n"
      ]
    },
    {
      "cell_type": "code",
      "execution_count": 30,
      "metadata": {
        "colab": {
          "base_uri": "https://localhost:8080/"
        },
        "id": "aqQ501aUToLh",
        "outputId": "c096c3aa-f83a-4a6f-f753-be38381da1a9"
      },
      "outputs": [
        {
          "data": {
            "text/plain": [
              "array([[ 1,  2,  3,  4,  5,  6,  7],\n",
              "       [ 8,  9, 10, 11, 12, 13, 14]])"
            ]
          },
          "execution_count": 30,
          "metadata": {},
          "output_type": "execute_result"
        }
      ],
      "source": [
        "# print the 2D array.\n",
        "\n",
        "my_2D_array"
      ]
    },
    {
      "cell_type": "code",
      "execution_count": 31,
      "metadata": {
        "colab": {
          "base_uri": "https://localhost:8080/"
        },
        "id": "dsfIEbjJTtN1",
        "outputId": "200432a7-6c57-4159-d846-aad654e2631f"
      },
      "outputs": [
        {
          "name": "stdout",
          "output_type": "stream",
          "text": [
            "int64\n"
          ]
        }
      ],
      "source": [
        "# print the array type using (dtype).\n",
        "print(my_2D_array.dtype)"
      ]
    },
    {
      "cell_type": "code",
      "execution_count": 32,
      "metadata": {
        "colab": {
          "base_uri": "https://localhost:8080/"
        },
        "id": "ZQ7DPUeoT2Pf",
        "outputId": "154d54ad-e2d2-400d-d88f-c8e0bc4e0499"
      },
      "outputs": [
        {
          "name": "stdout",
          "output_type": "stream",
          "text": [
            "(2, 7)\n"
          ]
        }
      ],
      "source": [
        "# print the shape of the 2D array.\n",
        "print(my_2D_array.shape)"
      ]
    },
    {
      "cell_type": "code",
      "execution_count": 33,
      "metadata": {
        "colab": {
          "base_uri": "https://localhost:8080/"
        },
        "id": "3cFi3QWeT-rn",
        "outputId": "e8d13835-740e-4211-e2da-30c13cb44b17"
      },
      "outputs": [
        {
          "name": "stdout",
          "output_type": "stream",
          "text": [
            "14\n"
          ]
        }
      ],
      "source": [
        "# print the size of the array.\n",
        "print(my_2D_array.size)"
      ]
    },
    {
      "cell_type": "code",
      "execution_count": 36,
      "metadata": {
        "colab": {
          "base_uri": "https://localhost:8080/"
        },
        "id": "0EJjYeneUHwS",
        "outputId": "a763cc64-f6b6-45c5-b90e-2cf02222174a"
      },
      "outputs": [
        {
          "name": "stdout",
          "output_type": "stream",
          "text": [
            "the change value is : \n"
          ]
        },
        {
          "data": {
            "text/plain": [
              "111"
            ]
          },
          "execution_count": 36,
          "metadata": {},
          "output_type": "execute_result"
        }
      ],
      "source": [
        "# Change the value with help of indeices.\n",
        "\n",
        "my_2D_array[1,5] = 111;\n",
        "print('the change value is : ')\n",
        "my_2D_array[1,5]"
      ]
    },
    {
      "cell_type": "markdown",
      "metadata": {
        "id": "vvxiDjD5Uxng"
      },
      "source": [
        "# We can make Dictionary.\n",
        "## - but it's type will object, which is not always efficient."
      ]
    },
    {
      "cell_type": "code",
      "execution_count": 37,
      "metadata": {
        "colab": {
          "base_uri": "https://localhost:8080/"
        },
        "id": "5FjMbPnAVH6H",
        "outputId": "faa6ec26-5b83-4e95-d258-b2414c5276df"
      },
      "outputs": [
        {
          "data": {
            "text/plain": [
              "array({1, 2, 3, 4}, dtype=object)"
            ]
          },
          "execution_count": 37,
          "metadata": {},
          "output_type": "execute_result"
        }
      ],
      "source": [
        "np.array({1,2,3,4})\n"
      ]
    }
  ],
  "metadata": {
    "colab": {
      "provenance": []
    },
    "kernelspec": {
      "display_name": "Python 3",
      "name": "python3"
    },
    "language_info": {
      "name": "python"
    }
  },
  "nbformat": 4,
  "nbformat_minor": 0
}
