{
  "cells": [
    {
      "cell_type": "markdown",
      "metadata": {
        "id": "clFFPLMKpGgZ"
      },
      "source": [
        "# Basic Numpy.\n",
        "## Joy Shib."
      ]
    },
    {
      "cell_type": "markdown",
      "metadata": {
        "id": "nLYa95E9pSSZ"
      },
      "source": [
        "\"\"\"\n",
        "NumPy: The Basics\n",
        "=================\n",
        "\n",
        "NumPy stands for Numerical Python and is a powerful library in Python designed for numerical computations.\n",
        "It provides high-performance multidimensional array objects and tools for working with these arrays efficiently.\n",
        "\n",
        "Key Features:\n",
        "-------------\n",
        "- **High Performance**: Up to 50 times faster than Python lists.\n",
        "- **Memory Efficiency**: Uses contiguous blocks of memory for storage.\n",
        "- **Support for Vectorization**: Eliminates the need for explicit loops.\n",
        "- **Wide Usage**: Ideal for numerical and scientific computations.\n",
        "\n",
        "Prerequisites:\n",
        "--------------\n",
        "- Familiarity with Jupyter Notebook.\n",
        "- Basic understanding of Python.\n",
        "\n",
        "Objectives:\n",
        "-----------\n",
        "By the end of this session, you will be able to:\n",
        "1. Use Jupyter Notebook for running NumPy operations.\n",
        "2. Create and manipulate NumPy arrays.\n",
        "3. Understand and apply NumPy indexing.\n",
        "4. Slice and work with subsets of a NumPy array.\n",
        "there are so many significant features are available in Numpy.\n",
        "\n",
        "Let's get started with exploring NumPy!\n",
        "\"\"\"\n"
      ]
    },
    {
      "cell_type": "code",
      "execution_count": 1,
      "metadata": {
        "colab": {
          "base_uri": "https://localhost:8080/",
          "height": 35
        },
        "id": "EEZyjpaEqDav",
        "outputId": "596bdc3d-e0a0-43e8-cb85-a87b09db0d25"
      },
      "outputs": [
        {
          "data": {
            "application/vnd.google.colaboratory.intrinsic+json": {
              "type": "string"
            },
            "text/plain": [
              "'1.26.4'"
            ]
          },
          "execution_count": 1,
          "metadata": {},
          "output_type": "execute_result"
        }
      ],
      "source": [
        "import numpy as np\n",
        "\n",
        "np.__version__"
      ]
    },
    {
      "cell_type": "code",
      "execution_count": 2,
      "metadata": {
        "colab": {
          "base_uri": "https://localhost:8080/"
        },
        "id": "CKKOG7VYqABB",
        "outputId": "e6ad8816-6a2f-405a-8733-357bfa5631ca"
      },
      "outputs": [
        {
          "name": "stdout",
          "output_type": "stream",
          "text": [
            "[ 1  2  3  4  5  6  7  8  9 10]\n"
          ]
        }
      ],
      "source": [
        "# Numpy array decleartion.\n",
        "import numpy as np\n",
        "A = np.array([1,2,3,4,5,6,7,8,9,10])\n",
        "print(A)"
      ]
    },
    {
      "cell_type": "code",
      "execution_count": 3,
      "metadata": {
        "colab": {
          "base_uri": "https://localhost:8080/"
        },
        "id": "b83qL4_DrJhO",
        "outputId": "5265e3d8-117f-4ae2-bd24-5812baa99e63"
      },
      "outputs": [
        {
          "name": "stdout",
          "output_type": "stream",
          "text": [
            "<class 'numpy.ndarray'>\n"
          ]
        }
      ],
      "source": [
        "# print the data-type of array.\n",
        "print(type(A))"
      ]
    },
    {
      "cell_type": "code",
      "execution_count": 4,
      "metadata": {
        "colab": {
          "base_uri": "https://localhost:8080/"
        },
        "id": "WsCzglp9rS9P",
        "outputId": "3dc1469d-17c1-4bc9-c567-afd0586860a5"
      },
      "outputs": [
        {
          "name": "stdout",
          "output_type": "stream",
          "text": [
            "int64\n"
          ]
        }
      ],
      "source": [
        "print(A.dtype)"
      ]
    },
    {
      "cell_type": "code",
      "execution_count": 5,
      "metadata": {
        "colab": {
          "base_uri": "https://localhost:8080/"
        },
        "id": "6C9gKn-Hrb4P",
        "outputId": "cf7ba8b3-ba43-4462-f760-5ea3e98cb69c"
      },
      "outputs": [
        {
          "name": "stdout",
          "output_type": "stream",
          "text": [
            "(10,)\n"
          ]
        }
      ],
      "source": [
        "# print the shape..\n",
        "print(A.shape)"
      ]
    },
    {
      "cell_type": "code",
      "execution_count": 27,
      "metadata": {
        "colab": {
          "base_uri": "https://localhost:8080/"
        },
        "id": "sBACovqKrjNO",
        "outputId": "ab071723-d783-4c55-ab1e-3eb671eb9a9a"
      },
      "outputs": [
        {
          "name": "stdout",
          "output_type": "stream",
          "text": [
            "1\n"
          ]
        }
      ],
      "source": [
        "# print the ndim.\n",
        "# ndim -> number of dimentions.\n",
        "print(A.ndim)"
      ]
    },
    {
      "cell_type": "code",
      "execution_count": 7,
      "metadata": {
        "colab": {
          "base_uri": "https://localhost:8080/"
        },
        "id": "bdNWQRicr3hw",
        "outputId": "0dbaf783-4365-4727-f70d-e43357b236cc"
      },
      "outputs": [
        {
          "data": {
            "text/plain": [
              "array([0., 0., 0., 0., 0.])"
            ]
          },
          "execution_count": 7,
          "metadata": {},
          "output_type": "execute_result"
        }
      ],
      "source": [
        "# Create an array with all zeros..\n",
        "\n",
        "\n",
        "zeros_np = np.zeros(\n",
        "    shape=(5,)\n",
        ")\n",
        "\n",
        "zeros_np"
      ]
    },
    {
      "cell_type": "code",
      "execution_count": 8,
      "metadata": {
        "colab": {
          "base_uri": "https://localhost:8080/"
        },
        "id": "Ynilha7ZtOne",
        "outputId": "203bfd11-146e-40e5-8c2d-54a963e6076d"
      },
      "outputs": [
        {
          "data": {
            "text/plain": [
              "array([1., 1., 1., 1., 1.])"
            ]
          },
          "execution_count": 8,
          "metadata": {},
          "output_type": "execute_result"
        }
      ],
      "source": [
        "# Create an array wirh all ones.\n",
        "\n",
        "ones_np = np.ones (\n",
        "    shape = (5,)\n",
        ")\n",
        "ones_np"
      ]
    },
    {
      "cell_type": "code",
      "execution_count": 11,
      "metadata": {
        "colab": {
          "base_uri": "https://localhost:8080/"
        },
        "id": "aOEpOH9ltZqm",
        "outputId": "a46dd9b2-1c51-4bd9-db61-0eee34125981"
      },
      "outputs": [
        {
          "name": "stdout",
          "output_type": "stream",
          "text": [
            "[[1 1 1]\n",
            " [1 1 1]\n",
            " [1 1 1]\n",
            " [1 1 1]\n",
            " [1 1 1]\n",
            " [1 1 1]\n",
            " [1 1 1]\n",
            " [1 1 1]\n",
            " [1 1 1]\n",
            " [1 1 1]]\n",
            "int64\n"
          ]
        }
      ],
      "source": [
        "# another approch.\n",
        "ones_np_array = np.ones (\n",
        "    shape = (10,3),\n",
        "    dtype = 'int'\n",
        ")\n",
        "print(ones_np_array)\n",
        "print(ones_np_array.dtype)\n"
      ]
    },
    {
      "cell_type": "code",
      "execution_count": 17,
      "metadata": {
        "colab": {
          "base_uri": "https://localhost:8080/"
        },
        "id": "PcIM-KQlWTiV",
        "outputId": "32387a82-fdf8-4073-cff3-a756e57a4d33"
      },
      "outputs": [
        {
          "data": {
            "text/plain": [
              "array([[100, 100, 100, 100],\n",
              "       [100, 100, 100, 100],\n",
              "       [100, 100, 100, 100],\n",
              "       [100, 100, 100, 100],\n",
              "       [100, 100, 100, 100],\n",
              "       [100, 100, 100, 100],\n",
              "       [100, 100, 100, 100],\n",
              "       [100, 100, 100, 100],\n",
              "       [100, 100, 100, 100],\n",
              "       [100, 100, 100, 100]])"
            ]
          },
          "execution_count": 17,
          "metadata": {},
          "output_type": "execute_result"
        }
      ],
      "source": [
        "# Create an array with specific values.\n",
        "# user value define korte caile 'fill_value' use korte hbe.\n",
        "\n",
        "\n",
        "specifiac_np_array = np.full (\n",
        "    shape = (10,4),\n",
        "   # dtype='int'\n",
        "    fill_value = 100,\n",
        "\n",
        ")\n",
        "specifiac_np_array"
      ]
    },
    {
      "cell_type": "code",
      "execution_count": 19,
      "metadata": {
        "colab": {
          "base_uri": "https://localhost:8080/"
        },
        "id": "y6ZEspX8XgXc",
        "outputId": "8bd7884d-21f5-4625-8b02-b13700015f6c"
      },
      "outputs": [
        {
          "name": "stdout",
          "output_type": "stream",
          "text": [
            "[[1. 0. 0. 0. 0. 0. 0. 0. 0. 0.]\n",
            " [0. 1. 0. 0. 0. 0. 0. 0. 0. 0.]\n",
            " [0. 0. 1. 0. 0. 0. 0. 0. 0. 0.]\n",
            " [0. 0. 0. 1. 0. 0. 0. 0. 0. 0.]\n",
            " [0. 0. 0. 0. 1. 0. 0. 0. 0. 0.]\n",
            " [0. 0. 0. 0. 0. 1. 0. 0. 0. 0.]\n",
            " [0. 0. 0. 0. 0. 0. 1. 0. 0. 0.]\n",
            " [0. 0. 0. 0. 0. 0. 0. 1. 0. 0.]\n",
            " [0. 0. 0. 0. 0. 0. 0. 0. 1. 0.]\n",
            " [0. 0. 0. 0. 0. 0. 0. 0. 0. 1.]]\n"
          ]
        }
      ],
      "source": [
        "# Create an identity matrix.\n",
        "\n",
        "identity_matrix = np.eye(\n",
        "    10\n",
        "\n",
        ")\n",
        "print(identity_matrix)"
      ]
    },
    {
      "cell_type": "code",
      "execution_count": 22,
      "metadata": {
        "colab": {
          "base_uri": "https://localhost:8080/"
        },
        "id": "PUUoVgfNXz18",
        "outputId": "e2de1b23-bc1c-49df-b9be-97f498d6f3cc"
      },
      "outputs": [
        {
          "data": {
            "text/plain": [
              "array([[3.14820295e-316, 0.00000000e+000, 3.86598877e+233],\n",
              "       [2.31634000e-152, 2.31596508e+251, 2.46175026e+198],\n",
              "       [2.31261087e-152, 5.98736697e+247, 6.01334637e-154],\n",
              "       [3.04284970e+169, 6.89806196e+212, 1.54381037e+256],\n",
              "       [8.90385429e+252, 6.01334515e-154, 6.55490914e-260],\n",
              "       [6.01347002e-154, 4.19321854e+228, 1.14490518e+243],\n",
              "       [6.03425842e-154, 1.27826910e-152, 1.06098610e-153],\n",
              "       [1.10638927e+200, 3.65591182e+233, 3.06295040e+262],\n",
              "       [1.39539405e-258, 6.01347002e-154, 1.35616577e+248],\n",
              "       [5.72631091e+188, 1.39620200e-308, 6.85384601e-310]])"
            ]
          },
          "execution_count": 22,
          "metadata": {},
          "output_type": "execute_result"
        }
      ],
      "source": [
        "# Create an empty array.\n",
        "\n",
        "empty_array = np.empty(\n",
        "    shape = (10,3),\n",
        ")\n",
        "empty_array"
      ]
    },
    {
      "cell_type": "code",
      "execution_count": 23,
      "metadata": {
        "colab": {
          "base_uri": "https://localhost:8080/"
        },
        "id": "TiMYombYYT13",
        "outputId": "603ea52c-9ff9-43ea-fc36-ad86139f9106"
      },
      "outputs": [
        {
          "data": {
            "text/plain": [
              "array([1., 1., 1., 1., 1.])"
            ]
          },
          "execution_count": 23,
          "metadata": {},
          "output_type": "execute_result"
        }
      ],
      "source": [
        "my_empty_np_array = np.empty(\n",
        "    shape=(5,)\n",
        ")\n",
        "my_empty_np_array"
      ]
    },
    {
      "cell_type": "code",
      "execution_count": 24,
      "metadata": {
        "colab": {
          "base_uri": "https://localhost:8080/"
        },
        "id": "QTHtQi4WYlke",
        "outputId": "ce986e8c-d3dd-46fd-c283-2d9ed8f280f2"
      },
      "outputs": [
        {
          "name": "stdout",
          "output_type": "stream",
          "text": [
            "[1 2 3 4 5 6 7 8 9]\n",
            "[ 0.   2.5  5.   7.5 10. ]\n"
          ]
        }
      ],
      "source": [
        "# Create a sequential array\n",
        "# arange\n",
        "# linspace\n",
        "\n",
        "my_array = np.arange(1, 10)\n",
        "print(my_array)\n",
        "\n",
        "my_np_array = np.linspace(\n",
        "    start=0,\n",
        "    stop=10,\n",
        "    num=5\n",
        ")\n",
        "print(my_np_array)"
      ]
    },
    {
      "cell_type": "code",
      "execution_count": 25,
      "metadata": {
        "colab": {
          "base_uri": "https://localhost:8080/"
        },
        "id": "gMUxUp71Ywf_",
        "outputId": "03e88479-9eb4-44fe-c362-09f2429121a1"
      },
      "outputs": [
        {
          "name": "stdout",
          "output_type": "stream",
          "text": [
            "[1 1 1 1 1]\n"
          ]
        }
      ],
      "source": [
        "\"\"\"Type cast\n",
        "\"\"\"\n",
        "\n",
        "my_empty_np_array_int = my_empty_np_array.astype('int')\n",
        "print(my_empty_np_array_int)"
      ]
    },
    {
      "cell_type": "code",
      "execution_count": 26,
      "metadata": {
        "colab": {
          "base_uri": "https://localhost:8080/"
        },
        "id": "YxyqTdAKZLp9",
        "outputId": "f99fc4a2-4d5c-40ca-f573-1482426eac40"
      },
      "outputs": [
        {
          "name": "stdout",
          "output_type": "stream",
          "text": [
            "0-dimensional array: 42 ndim: 0\n",
            "1-dimensional array: [1.5 2.  3.3 4.7 5.1 6. ] ndim: 1\n",
            "2-dimensional array ndim: 2\n",
            "[[1 2 3 4]\n",
            " [5 8 9 5]\n",
            " [7 1 2 7]]\n"
          ]
        }
      ],
      "source": [
        "# A 0-dimensional array (scalar) containing a single value.\n",
        "my_0d_array = np.array(42)\n",
        "print('0-dimensional array:', my_0d_array, 'ndim:', my_0d_array.ndim)\n",
        "\n",
        "# A 1-dimensional array (vector) containing a sequence of numbers.\n",
        "my_1d_array = np.array(\n",
        "    [1.5, 2, 3.3, 4.7, 5.1, 6]\n",
        ")\n",
        "print('1-dimensional array:', my_1d_array, 'ndim:', my_1d_array.ndim)\n",
        "\n",
        "# A 2-dimensional array (matrix) containing rows and columns of numbers.\n",
        "my_2d_array = np.array(\n",
        "    [[1, 2, 3, 4],\n",
        "     [5, 8, 9, 5],\n",
        "     [7, 1, 2, 7]]\n",
        ")\n",
        "print('2-dimensional array', 'ndim:', my_2d_array.ndim)\n",
        "print(my_2d_array)"
      ]
    },
    {
      "cell_type": "code",
      "execution_count": 29,
      "metadata": {
        "colab": {
          "base_uri": "https://localhost:8080/"
        },
        "id": "x7JgupmrZ6bz",
        "outputId": "b0377b5b-6625-47f2-df28-a5b20bb7b9b3"
      },
      "outputs": [
        {
          "name": "stdout",
          "output_type": "stream",
          "text": [
            "3\n",
            "3\n"
          ]
        }
      ],
      "source": [
        "\n",
        "# Creating an 1-dimensional NumPy array.\n",
        "my_np_array = np.array(\n",
        "    [1, 2, 3, 4, 5]\n",
        ")\n",
        "\n",
        "# Accessing the 3rd element (index 2) using non-negative indexing.\n",
        "print(my_np_array[2])  # Expected Output: 3\n",
        "\n",
        "# Accessing the 3rd element from the end (index -3) using negative indexing.\n",
        "print(my_np_array[-3])  # Expected Output: 3\n"
      ]
    },
    {
      "cell_type": "code",
      "execution_count": 30,
      "metadata": {
        "colab": {
          "base_uri": "https://localhost:8080/"
        },
        "id": "AiIHs5aTaSD7",
        "outputId": "7d0b2755-2b3c-42a0-8310-4860d1bc6e25"
      },
      "outputs": [
        {
          "name": "stdout",
          "output_type": "stream",
          "text": [
            "8\n",
            "8\n"
          ]
        }
      ],
      "source": [
        "\n",
        "# Creating a 2-dimensional NumPy array (matrix)\n",
        "my_2d_array = np.array(\n",
        "    [[1, 2, 3, 4],\n",
        "     [5, 8, 9, 5],\n",
        "     [7, 1, 2, 7]]\n",
        ")\n",
        "\n",
        "# Accessing the element at row 1, column 1 (0-based indexing)\n",
        "print(my_2d_array[1, 1])  # Expected output: 8\n",
        "\n",
        "# Accessing the element at row 1, 2nd column from the start (negative indexing for columns)\n",
        "print(my_2d_array[1, -3])  # Expected output: 8\n"
      ]
    },
    {
      "cell_type": "code",
      "execution_count": 33,
      "metadata": {
        "colab": {
          "base_uri": "https://localhost:8080/"
        },
        "id": "upD7n1D7bIQ9",
        "outputId": "96d8a7c4-3d79-4a24-91fd-8cf78a22e103"
      },
      "outputs": [
        {
          "name": "stdout",
          "output_type": "stream",
          "text": [
            "Entire 1D array: [1.5 2.  3.3 4.7 5.1 6. ]\n",
            "Elements from index 2 to 4 (exclusive): [3.3 4.7 5.1]\n",
            "Elements from index 1 to 4 with a step of 2: [2.  4.7]\n",
            "Sub-matrix with rows 0 to 1 and columns 1 to 2:\n",
            "[[2 3]\n",
            " [8 9]]\n"
          ]
        }
      ],
      "source": [
        "\n",
        "# 1-dimensional array for slicing examples\n",
        "my_1d_array = np.array([1.5, 2, 3.3, 4.7, 5.1, 6])\n",
        "\n",
        "# 2-dimensional array for slicing examples\n",
        "my_2d_array = np.array(\n",
        "    [[1, 2, 3, 4],\n",
        "     [5, 8, 9, 5],\n",
        "     [7, 1, 2, 7]]\n",
        ")\n",
        "\n",
        "# Slicing the entire array: default start=0, end=n, step=1\n",
        "print(\"Entire 1D array:\", my_1d_array[::])  # Output: [1.5, 2, 3.3, 4.7, 5.1, 6]\n",
        "\n",
        "# Slicing elements from index 2 to 4 (end index is excluded)\n",
        "print(\"Elements from index 2 to 4 (exclusive):\", my_1d_array[2:5])  # Output: [3.3, 4.7, 5.1]\n",
        "\n",
        "# Slicing elements from index 1 to 4 with a step of 2\n",
        "print(\"Elements from index 1 to 4 with a step of 2:\", my_1d_array[1:5:2])  # Output: [2, 4.7]\n",
        "\n",
        "# Slicing a sub-matrix: rows 0 to 1 and columns 1 to 2 (end index excluded)\n",
        "print(\"Sub-matrix with rows 0 to 1 and columns 1 to 2:\")\n",
        "print(my_2d_array[0:2, 1:3])\n",
        "\n"
      ]
    },
    {
      "cell_type": "code",
      "execution_count": 34,
      "metadata": {
        "colab": {
          "base_uri": "https://localhost:8080/"
        },
        "id": "g_KGlK6Nb9_m",
        "outputId": "407a6d52-dfa8-454e-829b-4f50cf6bbb5d"
      },
      "outputs": [
        {
          "name": "stdout",
          "output_type": "stream",
          "text": [
            "[[1 2 3 4]\n",
            " [5 8 9 5]\n",
            " [7 1 2 7]]\n"
          ]
        }
      ],
      "source": [
        "print(my_2d_array)"
      ]
    },
    {
      "cell_type": "code",
      "execution_count": 35,
      "metadata": {
        "colab": {
          "base_uri": "https://localhost:8080/"
        },
        "id": "Pv-Hd8pJcEf4",
        "outputId": "52bbe23e-c933-4e62-d6ee-b521fd80b9c5"
      },
      "outputs": [
        {
          "name": "stdout",
          "output_type": "stream",
          "text": [
            "[[5 8 9 5]\n",
            " [7 1 2 7]]\n"
          ]
        }
      ],
      "source": [
        "print(my_2d_array[1:3,])"
      ]
    }
  ],
  "metadata": {
    "colab": {
      "provenance": []
    },
    "kernelspec": {
      "display_name": "Python 3",
      "name": "python3"
    },
    "language_info": {
      "name": "python"
    }
  },
  "nbformat": 4,
  "nbformat_minor": 0
}
