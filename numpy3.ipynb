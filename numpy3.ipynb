{
  "nbformat": 4,
  "nbformat_minor": 0,
  "metadata": {
    "colab": {
      "provenance": []
    },
    "kernelspec": {
      "name": "python3",
      "display_name": "Python 3"
    },
    "language_info": {
      "name": "python"
    }
  },
  "cells": [
    {
      "cell_type": "markdown",
      "source": [
        "# Numpy Axis and Random.\n",
        "# Objective.\n",
        "# 1. Concatenate\n",
        "# 2. Sum\n",
        "# See how to use random."
      ],
      "metadata": {
        "id": "LE0XaXCXaBFs"
      }
    },
    {
      "cell_type": "code",
      "source": [
        "import numpy as np\n",
        "np.__version__"
      ],
      "metadata": {
        "colab": {
          "base_uri": "https://localhost:8080/",
          "height": 35
        },
        "id": "wVpAGLP_aCRf",
        "outputId": "d8c6e2ba-8003-4ca3-c70d-3c0f185221ee"
      },
      "execution_count": 2,
      "outputs": [
        {
          "output_type": "execute_result",
          "data": {
            "text/plain": [
              "'1.26.4'"
            ],
            "application/vnd.google.colaboratory.intrinsic+json": {
              "type": "string"
            }
          },
          "metadata": {},
          "execution_count": 2
        }
      ]
    },
    {
      "cell_type": "code",
      "source": [
        "# Matrix Transpose.\n",
        "myArray = np.array([[1,2,3,4], [2,4,6,10]])\n",
        "myArray"
      ],
      "metadata": {
        "colab": {
          "base_uri": "https://localhost:8080/"
        },
        "id": "wyH6A2SRaWsk",
        "outputId": "5abacf8f-d6cf-4c64-ec02-cd46ae6fd385"
      },
      "execution_count": 3,
      "outputs": [
        {
          "output_type": "execute_result",
          "data": {
            "text/plain": [
              "array([[ 1,  2,  3,  4],\n",
              "       [ 2,  4,  6, 10]])"
            ]
          },
          "metadata": {},
          "execution_count": 3
        }
      ]
    },
    {
      "cell_type": "code",
      "source": [
        "# print the transpose matrix.\n",
        "print(myArray.T)"
      ],
      "metadata": {
        "colab": {
          "base_uri": "https://localhost:8080/"
        },
        "id": "ijRoFAhIg8MA",
        "outputId": "30fe339c-1c06-4c41-da00-eaad08bdce69"
      },
      "execution_count": 4,
      "outputs": [
        {
          "output_type": "stream",
          "name": "stdout",
          "text": [
            "[[ 1  2]\n",
            " [ 2  4]\n",
            " [ 3  6]\n",
            " [ 4 10]]\n"
          ]
        }
      ]
    },
    {
      "cell_type": "code",
      "source": [
        "# Reshaping with - 1.\n",
        "\n",
        "myArray = np.array(\n",
        "    [[1, 2, 3, 4],\n",
        "     [2, 4, 6, 10]]\n",
        ")\n",
        "print(myArray.reshape(-1))"
      ],
      "metadata": {
        "colab": {
          "base_uri": "https://localhost:8080/"
        },
        "id": "CtNABvsDhFYg",
        "outputId": "48a13fb9-dd97-47a2-d0a5-fe933c0683db"
      },
      "execution_count": 7,
      "outputs": [
        {
          "output_type": "stream",
          "name": "stdout",
          "text": [
            "[ 1  2  3  4  2  4  6 10]\n"
          ]
        }
      ]
    },
    {
      "cell_type": "code",
      "source": [
        "# Reshape the input array into (3, 80).\n",
        "\n",
        "myArray = np.empty((3, 4, 2, 10))\n",
        "\n",
        "print(myArray.shape)\n",
        "\n",
        "print(myArray.reshape(3, -1).shape)"
      ],
      "metadata": {
        "colab": {
          "base_uri": "https://localhost:8080/"
        },
        "id": "guP-aZ9phhaR",
        "outputId": "fed803ec-fe3c-426c-b5ed-49da2a7a81b5"
      },
      "execution_count": 15,
      "outputs": [
        {
          "output_type": "stream",
          "name": "stdout",
          "text": [
            "(3, 4, 2, 10)\n",
            "(3, 80)\n"
          ]
        }
      ]
    },
    {
      "cell_type": "code",
      "source": [
        "print(np.ones((3, 4, 2, 2)).reshape(2, -1, 2).shape)"
      ],
      "metadata": {
        "colab": {
          "base_uri": "https://localhost:8080/"
        },
        "id": "JXuUbJlojqZc",
        "outputId": "ef576f92-bc72-474e-c8e5-75dba89f2899"
      },
      "execution_count": 16,
      "outputs": [
        {
          "output_type": "stream",
          "name": "stdout",
          "text": [
            "(2, 12, 2)\n"
          ]
        }
      ]
    },
    {
      "cell_type": "code",
      "source": [
        "# Create an empty numpy array with shape (4, 2)\n",
        "my_np_array = np.empty((4, 2))"
      ],
      "metadata": {
        "id": "_nWPON8gjumz"
      },
      "execution_count": 18,
      "outputs": []
    },
    {
      "cell_type": "code",
      "source": [
        "# Print the entire array to check its contents\n",
        "print(\"The entire numpy array:\")\n",
        "print(my_np_array)"
      ],
      "metadata": {
        "colab": {
          "base_uri": "https://localhost:8080/"
        },
        "id": "GnhykQNzkBPh",
        "outputId": "efa07fd4-d1e1-441c-a6b8-4784ae1c0fcb"
      },
      "execution_count": 21,
      "outputs": [
        {
          "output_type": "stream",
          "name": "stdout",
          "text": [
            "The entire numpy array:\n",
            "[[4.9e-324 9.9e-324]\n",
            " [1.5e-323 2.0e-323]\n",
            " [9.9e-324 2.0e-323]\n",
            " [3.0e-323 4.9e-323]]\n"
          ]
        }
      ]
    },
    {
      "cell_type": "code",
      "source": [
        "# Print the first row (row index 0) to extract all its elements\n",
        "print(\"First row of the numpy array:\")\n",
        "print(my_np_array[0, :])"
      ],
      "metadata": {
        "colab": {
          "base_uri": "https://localhost:8080/"
        },
        "id": "MrZftusNkJuW",
        "outputId": "70e936db-371d-4424-c9ca-8d2c1bdbde38"
      },
      "execution_count": 22,
      "outputs": [
        {
          "output_type": "stream",
          "name": "stdout",
          "text": [
            "First row of the numpy array:\n",
            "[5.e-324 1.e-323]\n"
          ]
        }
      ]
    },
    {
      "cell_type": "code",
      "source": [
        "#  Print the first column (column index 0) as a 2D array\n",
        "print(\"First column of the numpy array:\")\n",
        "print(my_np_array[:, [0]])"
      ],
      "metadata": {
        "colab": {
          "base_uri": "https://localhost:8080/"
        },
        "id": "Ty9uwomhkbVK",
        "outputId": "9189f52e-8ebc-4239-fc54-83370d7e40d5"
      },
      "execution_count": 23,
      "outputs": [
        {
          "output_type": "stream",
          "name": "stdout",
          "text": [
            "First column of the numpy array:\n",
            "[[4.9e-324]\n",
            " [1.5e-323]\n",
            " [9.9e-324]\n",
            " [3.0e-323]]\n"
          ]
        }
      ]
    },
    {
      "cell_type": "markdown",
      "source": [
        "# Create an empty numpy array with shape (3, 4, 2)\n",
        "# Print the shape of the subarray by selecting specific slices\n",
        "# Select all elements along the first axis (:), rows with indices 0 and 2 ([0, 2]) along the second axis,\n",
        "# and all elements along the third axis (:)."
      ],
      "metadata": {
        "id": "vrj4BKuQkuYp"
      }
    },
    {
      "cell_type": "code",
      "source": [
        "print(\"The shape of the selected subarray (rows 0 and 2 from the second axis):\")\n",
        "print(my_np_array[:, [0, 2], :].shape)"
      ],
      "metadata": {
        "colab": {
          "base_uri": "https://localhost:8080/"
        },
        "id": "nXOWr8G1k42_",
        "outputId": "6eb7028b-fa52-4880-b422-315eb95734e9"
      },
      "execution_count": 26,
      "outputs": [
        {
          "output_type": "stream",
          "name": "stdout",
          "text": [
            "The shape of the selected subarray (rows 0 and 2 from the second axis):\n",
            "(3, 2, 2)\n"
          ]
        }
      ]
    },
    {
      "cell_type": "code",
      "source": [
        "# Create a 2D array filled with 1s (2 rows, 3 columns)\n",
        "my_2d_array_1 = np.array(\n",
        "    [[1, 1, 1],\n",
        "     [1, 1, 1]]\n",
        ")\n",
        "\n",
        "# Create another 2D array filled with 2s (2 rows, 3 columns)\n",
        "my_2d_array_2 = np.array(\n",
        "    [[2, 2, 2],\n",
        "     [2, 2, 2]]\n",
        ")\n",
        "\n",
        "# Concatenate the two arrays along the second axis (columns) to form a single array\n",
        "# The result will have the same number of rows (2) but more columns (6).\n",
        "my_2d_array_joined = np.concatenate(\n",
        "    (my_2d_array_1, my_2d_array_2),\n",
        "    axis=1\n",
        ")\n",
        "\n",
        "# Print the concatenated array to verify the result\n",
        "print(\"Concatenated array:\")\n",
        "print(my_2d_array_joined)\n",
        "\n",
        "# Print the shape of the first array to confirm its dimensions\n",
        "print(\"Shape of my_2d_array_1 (rows, columns):\", my_2d_array_1.shape)\n",
        "\n",
        "# Print the shape of the second array to confirm its dimensions\n",
        "print(\"Shape of my_2d_array_2 (rows, columns):\", my_2d_array_2.shape)\n",
        "\n",
        "# Print the shape of the concatenated array to confirm the result of concatenation\n",
        "print(\"Shape of my_2d_array_joined (rows, columns):\", my_2d_array_joined.shape)\n"
      ],
      "metadata": {
        "colab": {
          "base_uri": "https://localhost:8080/"
        },
        "id": "bDxLMMhqlc46",
        "outputId": "fb332389-3493-4ba5-c0bd-42e875e51d4a"
      },
      "execution_count": 28,
      "outputs": [
        {
          "output_type": "stream",
          "name": "stdout",
          "text": [
            "Concatenated array:\n",
            "[[1 1 1 2 2 2]\n",
            " [1 1 1 2 2 2]]\n",
            "Shape of my_2d_array_1 (rows, columns): (2, 3)\n",
            "Shape of my_2d_array_2 (rows, columns): (2, 3)\n",
            "Shape of my_2d_array_joined (rows, columns): (2, 6)\n"
          ]
        }
      ]
    },
    {
      "cell_type": "markdown",
      "source": [
        "# 3D Array.."
      ],
      "metadata": {
        "id": "Y_uxXlEPm-Fk"
      }
    },
    {
      "cell_type": "code",
      "source": [
        "# Create a 3D array with shape (4, 2, 10), filled with uninitialized values\n",
        "my_md_array_1 = np.empty((4, 2, 10))"
      ],
      "metadata": {
        "id": "nCMTAXX2nBDb"
      },
      "execution_count": 29,
      "outputs": []
    },
    {
      "cell_type": "code",
      "source": [
        "# Create another 3D array with the same shape (4, 2, 10), filled with uninitialized values\n",
        "my_md_array_2 = np.empty((4, 2, 10))\n"
      ],
      "metadata": {
        "id": "PVsyB7GVnFrP"
      },
      "execution_count": 30,
      "outputs": []
    },
    {
      "cell_type": "code",
      "source": [
        "# Concatenate the two 3D arrays along the first axis (axis=0)\n",
        "# This increases the size of the first axis from 4 to 8 while keeping the other dimensions the same\n",
        "my_md_array_joined = np.concatenate(\n",
        "    (my_md_array_1, my_md_array_2),\n",
        "    axis=0,\n",
        ")"
      ],
      "metadata": {
        "id": "mT2Y48SAnJo-"
      },
      "execution_count": 32,
      "outputs": []
    },
    {
      "cell_type": "code",
      "source": [
        "# Print the shape of the resulting concatenated array to verify the result\n",
        "print(\"Shape of the concatenated 3D array:\")\n",
        "print(my_md_array_joined.shape)"
      ],
      "metadata": {
        "colab": {
          "base_uri": "https://localhost:8080/"
        },
        "id": "QzwFhIwJnZUn",
        "outputId": "c871b2bd-9678-4c3e-e019-9c5f76c55dc7"
      },
      "execution_count": 33,
      "outputs": [
        {
          "output_type": "stream",
          "name": "stdout",
          "text": [
            "Shape of the concatenated 3D array:\n",
            "(8, 2, 10)\n"
          ]
        }
      ]
    },
    {
      "cell_type": "markdown",
      "source": [
        " # Sum => aggregation"
      ],
      "metadata": {
        "id": "WrfLpEABnf9g"
      }
    },
    {
      "cell_type": "code",
      "source": [
        "# Create a 2D numpy array with 2 rows and 3 columns\n",
        "my_np_array = np.array(\n",
        "    [[1, 5, -2],\n",
        "     [0, 1, 9]]\n",
        ")"
      ],
      "metadata": {
        "id": "AjfwPQKVniRM"
      },
      "execution_count": 34,
      "outputs": []
    },
    {
      "cell_type": "code",
      "source": [
        "# Print the shape of the array to confirm its dimensions (rows, columns)\n",
        "print(\"Shape of the array (rows, columns):\")\n",
        "print(my_np_array.shape)"
      ],
      "metadata": {
        "colab": {
          "base_uri": "https://localhost:8080/"
        },
        "id": "pIKi0doXnpvU",
        "outputId": "59fe8e0d-3f45-4f46-8775-ed915fa660cb"
      },
      "execution_count": 35,
      "outputs": [
        {
          "output_type": "stream",
          "name": "stdout",
          "text": [
            "Shape of the array (rows, columns):\n",
            "(2, 3)\n"
          ]
        }
      ]
    },
    {
      "cell_type": "code",
      "source": [
        "# Calculate the sum of the elements along each column (axis=0)\n",
        "# This will produce a 1D array where each value is the sum of a column\n",
        "print(\"Sum of elements along each column:\")\n",
        "print(np.sum(my_np_array, axis=0))"
      ],
      "metadata": {
        "colab": {
          "base_uri": "https://localhost:8080/"
        },
        "id": "dy_IjZiFnvdc",
        "outputId": "09136755-927f-47f1-d1a9-41fe8b5fbd86"
      },
      "execution_count": 36,
      "outputs": [
        {
          "output_type": "stream",
          "name": "stdout",
          "text": [
            "Sum of elements along each column:\n",
            "[1 6 7]\n"
          ]
        }
      ]
    },
    {
      "cell_type": "code",
      "source": [
        "# Print the shape of the resulting array after summing along columns\n",
        "# Since it sums over rows, the result will be a 1D array with 3 elements (one for each column)\n",
        "print(\"Shape of the summed array:\")\n",
        "print(np.sum(my_np_array, axis=0).shape)"
      ],
      "metadata": {
        "colab": {
          "base_uri": "https://localhost:8080/"
        },
        "id": "cMDxvu4cn8tG",
        "outputId": "2622d8d2-65b3-46ab-8502-5b7e076fe4a4"
      },
      "execution_count": 37,
      "outputs": [
        {
          "output_type": "stream",
          "name": "stdout",
          "text": [
            "Shape of the summed array:\n",
            "(3,)\n"
          ]
        }
      ]
    },
    {
      "cell_type": "code",
      "source": [
        "# Create a 4D numpy array with shape (2, 4, 12, 10), filled with uninitialized values\n",
        "my_np_array = np.empty((2, 4, 12, 10))"
      ],
      "metadata": {
        "id": "sWEPKXXMoLZN"
      },
      "execution_count": 38,
      "outputs": []
    },
    {
      "cell_type": "code",
      "source": [
        "# Calculate the sum of the elements along the third axis (axis=2)\n",
        "# This reduces the third dimension (size 12) by summing its elements, resulting in a new shape\n",
        "print(\"Shape of the array after summing along the third axis (axis=2):\")\n",
        "print(np.sum(my_np_array, axis=2).shape)\n"
      ],
      "metadata": {
        "colab": {
          "base_uri": "https://localhost:8080/"
        },
        "id": "A3lLYdqVoRKV",
        "outputId": "4d4f255f-e310-4ef7-d3d8-a0784bdf2bdf"
      },
      "execution_count": 39,
      "outputs": [
        {
          "output_type": "stream",
          "name": "stdout",
          "text": [
            "Shape of the array after summing along the third axis (axis=2):\n",
            "(2, 4, 10)\n"
          ]
        }
      ]
    },
    {
      "cell_type": "markdown",
      "source": [
        "\"\"\" Random\n",
        "- rand()\n",
        "- randint()\n",
        "\"\"\""
      ],
      "metadata": {
        "id": "U7ofQZkaoWag"
      }
    },
    {
      "cell_type": "code",
      "source": [
        "print(\"A single random float between 0 and 1:\")\n",
        "print(np.random.rand())\n",
        "print(\"A 4x2 array of random floats between 0 and 1:\")\n",
        "print(np.random.rand(4,2))\n",
        "print(\"A single random integer between 0 and 99:\")\n",
        "print(np.random.randint(100))\n",
        "print(\"A 5x3 array of random integers between 0 and 99:\")\n",
        "print(np.random.randint(100, size=(5,3)))"
      ],
      "metadata": {
        "colab": {
          "base_uri": "https://localhost:8080/"
        },
        "id": "5RveU3KVoY1X",
        "outputId": "f60f92b8-8ab8-484e-d6ea-4b0ac920defb"
      },
      "execution_count": 42,
      "outputs": [
        {
          "output_type": "stream",
          "name": "stdout",
          "text": [
            "A single random float between 0 and 1:\n",
            "0.9264638690498818\n",
            "A 4x2 array of random floats between 0 and 1:\n",
            "[[0.73875156 0.59003121]\n",
            " [0.09824504 0.96215077]\n",
            " [0.7355102  0.22324309]\n",
            " [0.61827967 0.77945728]]\n",
            "A single random integer between 0 and 99:\n",
            "64\n",
            "A 5x3 array of random integers between 0 and 99:\n",
            "[[16 61 72]\n",
            " [22 42 19]\n",
            " [75 91 16]\n",
            " [77 57 52]\n",
            " [23 16 53]]\n"
          ]
        }
      ]
    },
    {
      "cell_type": "code",
      "source": [
        "# Random shuffle\n",
        "\n",
        "np.random.seed(42)\n",
        "\n",
        "my_array = np.random.randint(5, size=(5,))\n",
        "print(my_array)\n",
        "np.random.shuffle(my_array)\n",
        "print(my_array)"
      ],
      "metadata": {
        "colab": {
          "base_uri": "https://localhost:8080/"
        },
        "id": "THGOlUOcpHyT",
        "outputId": "3f1a9d06-8a67-481e-d292-ec3a3fc06527"
      },
      "execution_count": 43,
      "outputs": [
        {
          "output_type": "stream",
          "name": "stdout",
          "text": [
            "[3 4 2 4 4]\n",
            "[4 3 4 2 4]\n"
          ]
        }
      ]
    },
    {
      "cell_type": "code",
      "source": [
        "\"\"\" Use case: Split Dataset into Train, Test and Validation\n",
        "\"\"\"\n",
        "\n",
        "dataset = np.random.rand(1000, 5)\n",
        "print(\"Dataset:\\n\", dataset[:5])\n"
      ],
      "metadata": {
        "colab": {
          "base_uri": "https://localhost:8080/"
        },
        "id": "nQA_c6FEpOEZ",
        "outputId": "8c962a77-23c8-4de4-bcd5-51aea2f00492"
      },
      "execution_count": 44,
      "outputs": [
        {
          "output_type": "stream",
          "name": "stdout",
          "text": [
            "Dataset:\n",
            " [[4.59248892e-01 3.33708611e-01 1.42866818e-01 6.50888473e-01\n",
            "  5.64115790e-02]\n",
            " [7.21998772e-01 9.38552709e-01 7.78765841e-04 9.92211559e-01\n",
            "  6.17481510e-01]\n",
            " [6.11653160e-01 7.06630522e-03 2.30624250e-02 5.24774660e-01\n",
            "  3.99860972e-01]\n",
            " [4.66656632e-02 9.73755519e-01 2.32771340e-01 9.06064345e-02\n",
            "  6.18386009e-01]\n",
            " [3.82461991e-01 9.83230886e-01 4.66762893e-01 8.59940407e-01\n",
            "  6.80307539e-01]]\n"
          ]
        }
      ]
    },
    {
      "cell_type": "code",
      "source": [
        "np.random.shuffle(dataset)"
      ],
      "metadata": {
        "id": "3yBQRBUTpRXA"
      },
      "execution_count": 45,
      "outputs": []
    },
    {
      "cell_type": "code",
      "source": [
        "dataset[:5]"
      ],
      "metadata": {
        "colab": {
          "base_uri": "https://localhost:8080/"
        },
        "id": "fYZi_UaPpTkN",
        "outputId": "eee48a50-ba21-4a09-b2bd-4f499dbac001"
      },
      "execution_count": 46,
      "outputs": [
        {
          "output_type": "execute_result",
          "data": {
            "text/plain": [
              "array([[0.27561234, 0.7871266 , 0.97483465, 0.37120709, 0.42888688],\n",
              "       [0.01363402, 0.32272657, 0.55435668, 0.14821746, 0.09209875],\n",
              "       [0.87426247, 0.51010971, 0.72340477, 0.10413736, 0.22543876],\n",
              "       [0.32350039, 0.83430337, 0.62929881, 0.19885628, 0.06461668],\n",
              "       [0.55835232, 0.86993783, 0.37154651, 0.61440001, 0.52366342]])"
            ]
          },
          "metadata": {},
          "execution_count": 46
        }
      ]
    },
    {
      "cell_type": "code",
      "source": [
        "\"\"\" Step 2. Split \"\"\"\n",
        "\n",
        "index_1 = int(0.8 * len(dataset))\n",
        "index_2 = int(0.9 * len(dataset))\n",
        "\n",
        "trainset, valset, testset = np.split(\n",
        "    dataset,\n",
        "    [index_1, index_2],\n",
        ")\n",
        "print(len(trainset), len(valset), len(testset))"
      ],
      "metadata": {
        "colab": {
          "base_uri": "https://localhost:8080/"
        },
        "id": "xwVXbSjrpXAQ",
        "outputId": "3e6d7db3-1207-408f-9da0-1af2396ca82e"
      },
      "execution_count": 47,
      "outputs": [
        {
          "output_type": "stream",
          "name": "stdout",
          "text": [
            "800 100 100\n"
          ]
        }
      ]
    },
    {
      "cell_type": "code",
      "source": [
        "# argmax().\n",
        "# return the index where the value is maximum.\n",
        "\n",
        "one = np.array([1,2,44,22,3,2,3222])"
      ],
      "metadata": {
        "id": "CQrwvxQ-iJ55"
      },
      "execution_count": 8,
      "outputs": []
    },
    {
      "cell_type": "code",
      "source": [
        "one.argmax()"
      ],
      "metadata": {
        "colab": {
          "base_uri": "https://localhost:8080/"
        },
        "id": "6Hks96oVieNG",
        "outputId": "e4b2c71e-7acc-479e-b960-d19815aa7040"
      },
      "execution_count": 10,
      "outputs": [
        {
          "output_type": "execute_result",
          "data": {
            "text/plain": [
              "6"
            ]
          },
          "metadata": {},
          "execution_count": 10
        }
      ]
    },
    {
      "cell_type": "code",
      "source": [
        "one.argmin()"
      ],
      "metadata": {
        "colab": {
          "base_uri": "https://localhost:8080/"
        },
        "id": "Ub5dXNImipOC",
        "outputId": "a1544e68-576c-417e-b279-1cdf3772ea37"
      },
      "execution_count": 11,
      "outputs": [
        {
          "output_type": "execute_result",
          "data": {
            "text/plain": [
              "0"
            ]
          },
          "metadata": {},
          "execution_count": 11
        }
      ]
    },
    {
      "cell_type": "code",
      "source": [
        "# argsort() - return the index array in sorted oder.\n",
        "\n",
        "one.argsort()"
      ],
      "metadata": {
        "colab": {
          "base_uri": "https://localhost:8080/"
        },
        "id": "UQ56cj4Iiv4m",
        "outputId": "98235fb1-8cb5-4721-8740-d67e9c4e7a29"
      },
      "execution_count": 12,
      "outputs": [
        {
          "output_type": "execute_result",
          "data": {
            "text/plain": [
              "array([0, 1, 5, 4, 3, 2, 6])"
            ]
          },
          "metadata": {},
          "execution_count": 12
        }
      ]
    },
    {
      "cell_type": "code",
      "source": [
        "# argsort().\n",
        "one.argsort()"
      ],
      "metadata": {
        "colab": {
          "base_uri": "https://localhost:8080/"
        },
        "id": "BOm2a58RjGGi",
        "outputId": "fcd588ff-05da-428e-decc-074543f8e264"
      },
      "execution_count": 14,
      "outputs": [
        {
          "output_type": "execute_result",
          "data": {
            "text/plain": [
              "array([0, 1, 5, 4, 3, 2, 6])"
            ]
          },
          "metadata": {},
          "execution_count": 14
        }
      ]
    }
  ]
}