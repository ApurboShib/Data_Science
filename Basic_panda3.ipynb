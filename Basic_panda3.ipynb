{
 "cells": [
  {
   "cell_type": "code",
   "execution_count": 1,
   "id": "initial_id",
   "metadata": {
    "ExecuteTime": {
     "end_time": "2024-09-01T13:06:39.679021Z",
     "start_time": "2024-09-01T13:06:38.785266Z"
    },
    "collapsed": true
   },
   "outputs": [
    {
     "data": {
      "text/plain": [
       "'2.2.2'"
      ]
     },
     "execution_count": 1,
     "metadata": {},
     "output_type": "execute_result"
    }
   ],
   "source": [
    "\"\"\" Pandas Data Cleaning and Preprocessing \n",
    "\n",
    "Objectives:\n",
    "\n",
    "Data cleaning\n",
    "- We will learn to handle missing values\n",
    "- We will learn to remove duplicate records\n",
    "- We will learn to convert data types\n",
    "- We will learn to handle outliers\n",
    "\n",
    "Data preprocessing\n",
    "- We will learn to normalize / standardize numerical data\n",
    "- We will learn to encode categorical data\n",
    "\"\"\"\n",
    "\n",
    "import pandas as pd\n",
    "import os\n",
    "\n",
    "pd.__version__"
   ]
  },
  {
   "cell_type": "code",
   "execution_count": 169,
   "id": "78407cacbfc4e255",
   "metadata": {
    "ExecuteTime": {
     "end_time": "2024-08-27T15:06:04.665032Z",
     "start_time": "2024-08-27T15:06:04.661289Z"
    }
   },
   "outputs": [
    {
     "name": "stdout",
     "output_type": "stream",
     "text": [
      "root_dir E:\\PyCharmProjects\\pythonProject\n",
      "data_dir E:\\PyCharmProjects\\pythonProject\\data\n",
      "dataset_path E:\\PyCharmProjects\\pythonProject\\data\\health_monitor_data.csv\n"
     ]
    }
   ],
   "source": [
    "root_dir = os.path.dirname(os.getcwd())\n",
    "data_dir = os.path.join(root_dir, \"data\")\n",
    "dataset_path = os.path.join(data_dir, \"health_monitor_data.csv\")\n",
    "print(\"root_dir\", root_dir)\n",
    "print(\"data_dir\", data_dir)\n",
    "print(\"dataset_path\", dataset_path)"
   ]
  },
  {
   "cell_type": "code",
   "execution_count": 170,
   "id": "22927914e99d1842",
   "metadata": {
    "ExecuteTime": {
     "end_time": "2024-08-27T15:06:04.677807Z",
     "start_time": "2024-08-27T15:06:04.667045Z"
    }
   },
   "outputs": [
    {
     "data": {
      "text/html": [
       "<div>\n",
       "<style scoped>\n",
       "    .dataframe tbody tr th:only-of-type {\n",
       "        vertical-align: middle;\n",
       "    }\n",
       "\n",
       "    .dataframe tbody tr th {\n",
       "        vertical-align: top;\n",
       "    }\n",
       "\n",
       "    .dataframe thead th {\n",
       "        text-align: right;\n",
       "    }\n",
       "</style>\n",
       "<table border=\"1\" class=\"dataframe\">\n",
       "  <thead>\n",
       "    <tr style=\"text-align: right;\">\n",
       "      <th></th>\n",
       "      <th>Duration</th>\n",
       "      <th>Date</th>\n",
       "      <th>Pulse</th>\n",
       "      <th>Maxpulse</th>\n",
       "      <th>Calories</th>\n",
       "    </tr>\n",
       "  </thead>\n",
       "  <tbody>\n",
       "    <tr>\n",
       "      <th>0</th>\n",
       "      <td>60</td>\n",
       "      <td>'2020/12/01'</td>\n",
       "      <td>110</td>\n",
       "      <td>130</td>\n",
       "      <td>409.1</td>\n",
       "    </tr>\n",
       "    <tr>\n",
       "      <th>1</th>\n",
       "      <td>60</td>\n",
       "      <td>'2020/12/02'</td>\n",
       "      <td>117</td>\n",
       "      <td>145</td>\n",
       "      <td>479.0</td>\n",
       "    </tr>\n",
       "    <tr>\n",
       "      <th>2</th>\n",
       "      <td>60</td>\n",
       "      <td>'2020/12/03'</td>\n",
       "      <td>103</td>\n",
       "      <td>135</td>\n",
       "      <td>340.0</td>\n",
       "    </tr>\n",
       "    <tr>\n",
       "      <th>3</th>\n",
       "      <td>45</td>\n",
       "      <td>'2020/12/04'</td>\n",
       "      <td>109</td>\n",
       "      <td>175</td>\n",
       "      <td>282.4</td>\n",
       "    </tr>\n",
       "    <tr>\n",
       "      <th>4</th>\n",
       "      <td>45</td>\n",
       "      <td>'2020/12/05'</td>\n",
       "      <td>117</td>\n",
       "      <td>148</td>\n",
       "      <td>406.0</td>\n",
       "    </tr>\n",
       "  </tbody>\n",
       "</table>\n",
       "</div>"
      ],
      "text/plain": [
       "   Duration          Date  Pulse  Maxpulse  Calories\n",
       "0        60  '2020/12/01'    110       130     409.1\n",
       "1        60  '2020/12/02'    117       145     479.0\n",
       "2        60  '2020/12/03'    103       135     340.0\n",
       "3        45  '2020/12/04'    109       175     282.4\n",
       "4        45  '2020/12/05'    117       148     406.0"
      ]
     },
     "execution_count": 170,
     "metadata": {},
     "output_type": "execute_result"
    }
   ],
   "source": [
    "health_monitor_data = pd.read_csv(dataset_path)\n",
    "health_monitor_data.head()"
   ]
  },
  {
   "cell_type": "code",
   "execution_count": 171,
   "id": "f7776f9302d6ffb0",
   "metadata": {
    "ExecuteTime": {
     "end_time": "2024-08-27T15:06:04.745938Z",
     "start_time": "2024-08-27T15:06:04.739778Z"
    }
   },
   "outputs": [
    {
     "name": "stdout",
     "output_type": "stream",
     "text": [
      "<class 'pandas.core.frame.DataFrame'>\n",
      "Index: 32 entries, 0 to 31\n",
      "Data columns (total 5 columns):\n",
      " #   Column    Non-Null Count  Dtype  \n",
      "---  ------    --------------  -----  \n",
      " 0   Duration  32 non-null     int64  \n",
      " 1   Date      31 non-null     object \n",
      " 2   Pulse     32 non-null     int64  \n",
      " 3   Maxpulse  32 non-null     int64  \n",
      " 4   Calories  30 non-null     float64\n",
      "dtypes: float64(1), int64(3), object(1)\n",
      "memory usage: 1.5+ KB\n"
     ]
    }
   ],
   "source": [
    "health_monitor_data.info()"
   ]
  },
  {
   "cell_type": "code",
   "execution_count": 172,
   "id": "530ee11b833043f8",
   "metadata": {
    "ExecuteTime": {
     "end_time": "2024-08-27T15:06:04.772338Z",
     "start_time": "2024-08-27T15:06:04.765874Z"
    }
   },
   "outputs": [
    {
     "data": {
      "text/plain": [
       "Duration    0\n",
       "Date        1\n",
       "Pulse       0\n",
       "Maxpulse    0\n",
       "Calories    2\n",
       "dtype: int64"
      ]
     },
     "execution_count": 172,
     "metadata": {},
     "output_type": "execute_result"
    }
   ],
   "source": [
    "\"\"\" Handle missing values \n",
    "- Approach 1: Remove rows\n",
    "- Approach 2: Replace empty cells with a value (Imputation)\n",
    "\"\"\"\n",
    "\n",
    "health_monitor_data.isnull().sum()"
   ]
  },
  {
   "cell_type": "code",
   "execution_count": 173,
   "id": "e9a8e683a1df103d",
   "metadata": {
    "ExecuteTime": {
     "end_time": "2024-08-27T15:06:04.791459Z",
     "start_time": "2024-08-27T15:06:04.783537Z"
    }
   },
   "outputs": [
    {
     "data": {
      "text/html": [
       "<div>\n",
       "<style scoped>\n",
       "    .dataframe tbody tr th:only-of-type {\n",
       "        vertical-align: middle;\n",
       "    }\n",
       "\n",
       "    .dataframe tbody tr th {\n",
       "        vertical-align: top;\n",
       "    }\n",
       "\n",
       "    .dataframe thead th {\n",
       "        text-align: right;\n",
       "    }\n",
       "</style>\n",
       "<table border=\"1\" class=\"dataframe\">\n",
       "  <thead>\n",
       "    <tr style=\"text-align: right;\">\n",
       "      <th></th>\n",
       "      <th>Duration</th>\n",
       "      <th>Date</th>\n",
       "      <th>Pulse</th>\n",
       "      <th>Maxpulse</th>\n",
       "      <th>Calories</th>\n",
       "    </tr>\n",
       "  </thead>\n",
       "  <tbody>\n",
       "    <tr>\n",
       "      <th>18</th>\n",
       "      <td>45</td>\n",
       "      <td>'2020/12/18'</td>\n",
       "      <td>90</td>\n",
       "      <td>112</td>\n",
       "      <td>NaN</td>\n",
       "    </tr>\n",
       "    <tr>\n",
       "      <th>22</th>\n",
       "      <td>45</td>\n",
       "      <td>NaN</td>\n",
       "      <td>100</td>\n",
       "      <td>119</td>\n",
       "      <td>282.0</td>\n",
       "    </tr>\n",
       "    <tr>\n",
       "      <th>28</th>\n",
       "      <td>60</td>\n",
       "      <td>'2020/12/28'</td>\n",
       "      <td>103</td>\n",
       "      <td>132</td>\n",
       "      <td>NaN</td>\n",
       "    </tr>\n",
       "  </tbody>\n",
       "</table>\n",
       "</div>"
      ],
      "text/plain": [
       "    Duration          Date  Pulse  Maxpulse  Calories\n",
       "18        45  '2020/12/18'     90       112       NaN\n",
       "22        45           NaN    100       119     282.0\n",
       "28        60  '2020/12/28'    103       132       NaN"
      ]
     },
     "execution_count": 173,
     "metadata": {},
     "output_type": "execute_result"
    }
   ],
   "source": [
    "health_monitor_data[ health_monitor_data.isnull().any(axis=1) ]"
   ]
  },
  {
   "cell_type": "code",
   "execution_count": 174,
   "id": "bda2d7eb11c00e49",
   "metadata": {
    "ExecuteTime": {
     "end_time": "2024-08-27T15:06:04.820893Z",
     "start_time": "2024-08-27T15:06:04.816137Z"
    }
   },
   "outputs": [
    {
     "name": "stderr",
     "output_type": "stream",
     "text": [
      "C:\\Users\\ASUS\\AppData\\Local\\Temp\\ipykernel_5844\\3157583291.py:3: FutureWarning: A value is trying to be set on a copy of a DataFrame or Series through chained assignment using an inplace method.\n",
      "The behavior will change in pandas 3.0. This inplace method will never work because the intermediate object on which we are setting values always behaves as a copy.\n",
      "\n",
      "For example, when doing 'df[col].method(value, inplace=True)', try using 'df.method({col: value}, inplace=True)' or df[col] = df[col].method(value) instead, to perform the operation inplace on the original object.\n",
      "\n",
      "\n",
      "  health_monitor_data[\"Calories\"].fillna(\n"
     ]
    }
   ],
   "source": [
    "\"\"\" Replace \"\"\"\n",
    "\n",
    "health_monitor_data[\"Calories\"].fillna(\n",
    "    value=health_monitor_data[\"Calories\"].mean(),\n",
    "    inplace=True\n",
    ")"
   ]
  },
  {
   "cell_type": "code",
   "execution_count": 175,
   "id": "9049d9d4f1730092",
   "metadata": {
    "ExecuteTime": {
     "end_time": "2024-08-27T15:06:04.850398Z",
     "start_time": "2024-08-27T15:06:04.844459Z"
    }
   },
   "outputs": [
    {
     "data": {
      "text/plain": [
       "Duration    0\n",
       "Date        1\n",
       "Pulse       0\n",
       "Maxpulse    0\n",
       "Calories    0\n",
       "dtype: int64"
      ]
     },
     "execution_count": 175,
     "metadata": {},
     "output_type": "execute_result"
    }
   ],
   "source": [
    "health_monitor_data.isnull().sum()"
   ]
  },
  {
   "cell_type": "code",
   "execution_count": 176,
   "id": "a14cf677fcf8d761",
   "metadata": {
    "ExecuteTime": {
     "end_time": "2024-08-27T15:06:04.926047Z",
     "start_time": "2024-08-27T15:06:04.922855Z"
    }
   },
   "outputs": [],
   "source": [
    "\"\"\" Remove rows \"\"\"\n",
    "\n",
    "health_monitor_data.dropna(inplace=True)"
   ]
  },
  {
   "cell_type": "code",
   "execution_count": 177,
   "id": "f543c3343d84752f",
   "metadata": {
    "ExecuteTime": {
     "end_time": "2024-08-27T15:06:04.948375Z",
     "start_time": "2024-08-27T15:06:04.942676Z"
    }
   },
   "outputs": [
    {
     "data": {
      "text/plain": [
       "Duration    0\n",
       "Date        0\n",
       "Pulse       0\n",
       "Maxpulse    0\n",
       "Calories    0\n",
       "dtype: int64"
      ]
     },
     "execution_count": 177,
     "metadata": {},
     "output_type": "execute_result"
    }
   ],
   "source": [
    "health_monitor_data.isnull().sum()"
   ]
  },
  {
   "cell_type": "code",
   "execution_count": 178,
   "id": "b321cd84a1a43b8c",
   "metadata": {
    "ExecuteTime": {
     "end_time": "2024-08-27T15:06:04.983530Z",
     "start_time": "2024-08-27T15:06:04.976851Z"
    }
   },
   "outputs": [
    {
     "data": {
      "text/plain": [
       "0     False\n",
       "1     False\n",
       "2     False\n",
       "3     False\n",
       "4     False\n",
       "5     False\n",
       "6     False\n",
       "7     False\n",
       "8     False\n",
       "9     False\n",
       "10    False\n",
       "11    False\n",
       "12     True\n",
       "13    False\n",
       "14    False\n",
       "15    False\n",
       "16    False\n",
       "17    False\n",
       "18    False\n",
       "19    False\n",
       "20    False\n",
       "21    False\n",
       "23    False\n",
       "24    False\n",
       "25    False\n",
       "26    False\n",
       "27    False\n",
       "28    False\n",
       "29    False\n",
       "30    False\n",
       "31    False\n",
       "dtype: bool"
      ]
     },
     "execution_count": 178,
     "metadata": {},
     "output_type": "execute_result"
    }
   ],
   "source": [
    "\"\"\" Handle duplicate records \n",
    "    - 1 F\n",
    "    - 2 F\n",
    "    - 3 F\n",
    "    - 3 T\n",
    "    - 5 F\n",
    "    - 4 F\n",
    "    - 5 T\n",
    "    - 5 T\n",
    "\"\"\"\n",
    "\n",
    "health_monitor_data.duplicated()"
   ]
  },
  {
   "cell_type": "code",
   "execution_count": 179,
   "id": "7d0e702a8a8c3589",
   "metadata": {
    "ExecuteTime": {
     "end_time": "2024-08-27T15:06:05.060530Z",
     "start_time": "2024-08-27T15:06:05.056024Z"
    }
   },
   "outputs": [
    {
     "data": {
      "text/plain": [
       "np.int64(1)"
      ]
     },
     "execution_count": 179,
     "metadata": {},
     "output_type": "execute_result"
    }
   ],
   "source": [
    "health_monitor_data.duplicated().sum()"
   ]
  },
  {
   "cell_type": "code",
   "execution_count": 180,
   "id": "70dc4e76b0d7dc6e",
   "metadata": {
    "ExecuteTime": {
     "end_time": "2024-08-27T15:06:05.075210Z",
     "start_time": "2024-08-27T15:06:05.061539Z"
    }
   },
   "outputs": [
    {
     "data": {
      "text/html": [
       "<div>\n",
       "<style scoped>\n",
       "    .dataframe tbody tr th:only-of-type {\n",
       "        vertical-align: middle;\n",
       "    }\n",
       "\n",
       "    .dataframe tbody tr th {\n",
       "        vertical-align: top;\n",
       "    }\n",
       "\n",
       "    .dataframe thead th {\n",
       "        text-align: right;\n",
       "    }\n",
       "</style>\n",
       "<table border=\"1\" class=\"dataframe\">\n",
       "  <thead>\n",
       "    <tr style=\"text-align: right;\">\n",
       "      <th></th>\n",
       "      <th>Duration</th>\n",
       "      <th>Date</th>\n",
       "      <th>Pulse</th>\n",
       "      <th>Maxpulse</th>\n",
       "      <th>Calories</th>\n",
       "    </tr>\n",
       "  </thead>\n",
       "  <tbody>\n",
       "    <tr>\n",
       "      <th>12</th>\n",
       "      <td>60</td>\n",
       "      <td>'2020/12/12'</td>\n",
       "      <td>100</td>\n",
       "      <td>120</td>\n",
       "      <td>250.7</td>\n",
       "    </tr>\n",
       "  </tbody>\n",
       "</table>\n",
       "</div>"
      ],
      "text/plain": [
       "    Duration          Date  Pulse  Maxpulse  Calories\n",
       "12        60  '2020/12/12'    100       120     250.7"
      ]
     },
     "execution_count": 180,
     "metadata": {},
     "output_type": "execute_result"
    }
   ],
   "source": [
    "is_duplicate = health_monitor_data.duplicated()\n",
    "health_monitor_data[ is_duplicate ]"
   ]
  },
  {
   "cell_type": "code",
   "execution_count": 181,
   "id": "79629017b30dc449",
   "metadata": {
    "ExecuteTime": {
     "end_time": "2024-08-27T15:06:05.081036Z",
     "start_time": "2024-08-27T15:06:05.075716Z"
    }
   },
   "outputs": [],
   "source": [
    "health_monitor_data.drop_duplicates(inplace=True)"
   ]
  },
  {
   "cell_type": "code",
   "execution_count": 182,
   "id": "98d6cf572ceb147d",
   "metadata": {
    "ExecuteTime": {
     "end_time": "2024-08-27T15:06:05.086815Z",
     "start_time": "2024-08-27T15:06:05.081036Z"
    }
   },
   "outputs": [
    {
     "data": {
      "text/plain": [
       "np.int64(0)"
      ]
     },
     "execution_count": 182,
     "metadata": {},
     "output_type": "execute_result"
    }
   ],
   "source": [
    "health_monitor_data.duplicated().sum()"
   ]
  },
  {
   "cell_type": "code",
   "execution_count": 183,
   "id": "2f75601dcaab3c81",
   "metadata": {
    "ExecuteTime": {
     "end_time": "2024-08-27T15:06:05.093078Z",
     "start_time": "2024-08-27T15:06:05.090355Z"
    }
   },
   "outputs": [
    {
     "name": "stdout",
     "output_type": "stream",
     "text": [
      "object\n"
     ]
    }
   ],
   "source": [
    "\"\"\"\n",
    "Type conversion\n",
    "\n",
    "\"\"\"\n",
    "\n",
    "print(health_monitor_data['Date'].dtype)"
   ]
  },
  {
   "cell_type": "code",
   "execution_count": 184,
   "id": "34655378febeaa0",
   "metadata": {
    "ExecuteTime": {
     "end_time": "2024-08-27T15:06:05.125400Z",
     "start_time": "2024-08-27T15:06:05.116245Z"
    }
   },
   "outputs": [
    {
     "data": {
      "text/html": [
       "<div>\n",
       "<style scoped>\n",
       "    .dataframe tbody tr th:only-of-type {\n",
       "        vertical-align: middle;\n",
       "    }\n",
       "\n",
       "    .dataframe tbody tr th {\n",
       "        vertical-align: top;\n",
       "    }\n",
       "\n",
       "    .dataframe thead th {\n",
       "        text-align: right;\n",
       "    }\n",
       "</style>\n",
       "<table border=\"1\" class=\"dataframe\">\n",
       "  <thead>\n",
       "    <tr style=\"text-align: right;\">\n",
       "      <th></th>\n",
       "      <th>Duration</th>\n",
       "      <th>Date</th>\n",
       "      <th>Pulse</th>\n",
       "      <th>Maxpulse</th>\n",
       "      <th>Calories</th>\n",
       "    </tr>\n",
       "  </thead>\n",
       "  <tbody>\n",
       "    <tr>\n",
       "      <th>0</th>\n",
       "      <td>60</td>\n",
       "      <td>2020-12-01</td>\n",
       "      <td>110</td>\n",
       "      <td>130</td>\n",
       "      <td>409.1</td>\n",
       "    </tr>\n",
       "    <tr>\n",
       "      <th>1</th>\n",
       "      <td>60</td>\n",
       "      <td>2020-12-02</td>\n",
       "      <td>117</td>\n",
       "      <td>145</td>\n",
       "      <td>479.0</td>\n",
       "    </tr>\n",
       "    <tr>\n",
       "      <th>2</th>\n",
       "      <td>60</td>\n",
       "      <td>2020-12-03</td>\n",
       "      <td>103</td>\n",
       "      <td>135</td>\n",
       "      <td>340.0</td>\n",
       "    </tr>\n",
       "    <tr>\n",
       "      <th>3</th>\n",
       "      <td>45</td>\n",
       "      <td>2020-12-04</td>\n",
       "      <td>109</td>\n",
       "      <td>175</td>\n",
       "      <td>282.4</td>\n",
       "    </tr>\n",
       "    <tr>\n",
       "      <th>4</th>\n",
       "      <td>45</td>\n",
       "      <td>2020-12-05</td>\n",
       "      <td>117</td>\n",
       "      <td>148</td>\n",
       "      <td>406.0</td>\n",
       "    </tr>\n",
       "  </tbody>\n",
       "</table>\n",
       "</div>"
      ],
      "text/plain": [
       "   Duration       Date  Pulse  Maxpulse  Calories\n",
       "0        60 2020-12-01    110       130     409.1\n",
       "1        60 2020-12-02    117       145     479.0\n",
       "2        60 2020-12-03    103       135     340.0\n",
       "3        45 2020-12-04    109       175     282.4\n",
       "4        45 2020-12-05    117       148     406.0"
      ]
     },
     "execution_count": 184,
     "metadata": {},
     "output_type": "execute_result"
    }
   ],
   "source": [
    "health_monitor_data[\"Date\"] = health_monitor_data[\"Date\"].astype(\"datetime64[ns]\")\n",
    "\n",
    "health_monitor_data.head()"
   ]
  },
  {
   "cell_type": "code",
   "execution_count": 185,
   "id": "3ce43a3e90762c80",
   "metadata": {
    "ExecuteTime": {
     "end_time": "2024-08-27T15:06:05.148463Z",
     "start_time": "2024-08-27T15:06:05.144584Z"
    }
   },
   "outputs": [
    {
     "name": "stdout",
     "output_type": "stream",
     "text": [
      "datetime64[ns]\n"
     ]
    }
   ],
   "source": [
    "print(health_monitor_data[\"Date\"].dtype)"
   ]
  },
  {
   "cell_type": "code",
   "execution_count": 186,
   "id": "767a922966919c07",
   "metadata": {
    "ExecuteTime": {
     "end_time": "2024-08-27T15:06:05.231076Z",
     "start_time": "2024-08-27T15:06:05.226132Z"
    }
   },
   "outputs": [
    {
     "name": "stdout",
     "output_type": "stream",
     "text": [
      "88.75 118.75\n"
     ]
    }
   ],
   "source": [
    "\"\"\" Handling outliers \n",
    "\n",
    "- Remove outliers: IQR (Statistical approach)\n",
    "- We identify a lower bound and upper bound for outliers\n",
    "- Remove all values that does not fall into the range\n",
    "\"\"\"\n",
    "\n",
    "\n",
    "Q1 = health_monitor_data[\"Pulse\"].quantile(0.25)\n",
    "Q3 = health_monitor_data[\"Pulse\"].quantile(0.75)\n",
    "IQR = Q3 - Q1\n",
    "lower_bound = Q1 - 1.5 * IQR\n",
    "upper_bound = Q3 + 1.5 * IQR\n",
    "\n",
    "\n",
    "not_outliers = health_monitor_data[\"Pulse\"].between(lower_bound, upper_bound)\n",
    "print(lower_bound, upper_bound)"
   ]
  },
  {
   "cell_type": "code",
   "execution_count": 187,
   "id": "f27767d9eb948581",
   "metadata": {
    "ExecuteTime": {
     "end_time": "2024-08-27T15:06:05.253452Z",
     "start_time": "2024-08-27T15:06:05.251Z"
    }
   },
   "outputs": [],
   "source": [
    "# health_monitor_data = health_monitor_data[~not_outliers]\n",
    "# health_monitor_data.head()"
   ]
  },
  {
   "cell_type": "code",
   "execution_count": 188,
   "id": "d9cfbadb8cba932e",
   "metadata": {
    "ExecuteTime": {
     "end_time": "2024-08-27T15:06:05.350031Z",
     "start_time": "2024-08-27T15:06:05.346524Z"
    }
   },
   "outputs": [],
   "source": [
    "# health_monitor_data = health_monitor_data[not_outliers]\n",
    "# \n",
    "# health_monitor_data.head()"
   ]
  },
  {
   "cell_type": "code",
   "execution_count": 189,
   "id": "e56927f9a42d352b",
   "metadata": {
    "ExecuteTime": {
     "end_time": "2024-08-27T15:06:05.359472Z",
     "start_time": "2024-08-27T15:06:05.356441Z"
    }
   },
   "outputs": [
    {
     "data": {
      "text/plain": [
       "' Data Preprocessing \\n- Numeric => Standardize / Scaling / Normalization\\n- Categorical (Fruits: Apple, Orange, Grape)\\n'"
      ]
     },
     "execution_count": 189,
     "metadata": {},
     "output_type": "execute_result"
    }
   ],
   "source": [
    "\"\"\" Data Preprocessing \n",
    "- Numeric => Standardize / Scaling / Normalization\n",
    "- Categorical (Fruits: Apple, Orange, Grape)\n",
    "\"\"\""
   ]
  },
  {
   "cell_type": "code",
   "execution_count": 190,
   "id": "e8e4da7612db044e",
   "metadata": {
    "ExecuteTime": {
     "end_time": "2024-08-27T15:06:05.368784Z",
     "start_time": "2024-08-27T15:06:05.360010Z"
    }
   },
   "outputs": [
    {
     "data": {
      "text/html": [
       "<div>\n",
       "<style scoped>\n",
       "    .dataframe tbody tr th:only-of-type {\n",
       "        vertical-align: middle;\n",
       "    }\n",
       "\n",
       "    .dataframe tbody tr th {\n",
       "        vertical-align: top;\n",
       "    }\n",
       "\n",
       "    .dataframe thead th {\n",
       "        text-align: right;\n",
       "    }\n",
       "</style>\n",
       "<table border=\"1\" class=\"dataframe\">\n",
       "  <thead>\n",
       "    <tr style=\"text-align: right;\">\n",
       "      <th></th>\n",
       "      <th>Duration</th>\n",
       "      <th>Date</th>\n",
       "      <th>Pulse</th>\n",
       "      <th>Maxpulse</th>\n",
       "      <th>Calories</th>\n",
       "    </tr>\n",
       "  </thead>\n",
       "  <tbody>\n",
       "    <tr>\n",
       "      <th>0</th>\n",
       "      <td>60</td>\n",
       "      <td>2020-12-01</td>\n",
       "      <td>0.779174</td>\n",
       "      <td>0.068103</td>\n",
       "      <td>409.1</td>\n",
       "    </tr>\n",
       "    <tr>\n",
       "      <th>1</th>\n",
       "      <td>60</td>\n",
       "      <td>2020-12-02</td>\n",
       "      <td>1.649529</td>\n",
       "      <td>1.203149</td>\n",
       "      <td>479.0</td>\n",
       "    </tr>\n",
       "    <tr>\n",
       "      <th>2</th>\n",
       "      <td>60</td>\n",
       "      <td>2020-12-03</td>\n",
       "      <td>-0.091180</td>\n",
       "      <td>0.446451</td>\n",
       "      <td>340.0</td>\n",
       "    </tr>\n",
       "    <tr>\n",
       "      <th>3</th>\n",
       "      <td>45</td>\n",
       "      <td>2020-12-04</td>\n",
       "      <td>0.654838</td>\n",
       "      <td>3.473240</td>\n",
       "      <td>282.4</td>\n",
       "    </tr>\n",
       "    <tr>\n",
       "      <th>4</th>\n",
       "      <td>45</td>\n",
       "      <td>2020-12-05</td>\n",
       "      <td>1.649529</td>\n",
       "      <td>1.430158</td>\n",
       "      <td>406.0</td>\n",
       "    </tr>\n",
       "  </tbody>\n",
       "</table>\n",
       "</div>"
      ],
      "text/plain": [
       "   Duration       Date     Pulse  Maxpulse  Calories\n",
       "0        60 2020-12-01  0.779174  0.068103     409.1\n",
       "1        60 2020-12-02  1.649529  1.203149     479.0\n",
       "2        60 2020-12-03 -0.091180  0.446451     340.0\n",
       "3        45 2020-12-04  0.654838  3.473240     282.4\n",
       "4        45 2020-12-05  1.649529  1.430158     406.0"
      ]
     },
     "execution_count": 190,
     "metadata": {},
     "output_type": "execute_result"
    }
   ],
   "source": [
    "def standard_scaler(col):\n",
    "    \"\"\" zero mean unit variance \"\"\"\n",
    "    mean = col.mean()\n",
    "    std = col.std()\n",
    "    return (col - mean) / std\n",
    "\n",
    "\n",
    "health_monitor_data[\"Pulse\"] = health_monitor_data[\"Pulse\"].agg(standard_scaler)\n",
    "health_monitor_data[\"Maxpulse\"] = health_monitor_data[\"Maxpulse\"].agg(standard_scaler)\n",
    "health_monitor_data.head()"
   ]
  },
  {
   "cell_type": "code",
   "execution_count": 191,
   "id": "a8ebd061cf928050",
   "metadata": {
    "ExecuteTime": {
     "end_time": "2024-08-27T15:09:32.473334Z",
     "start_time": "2024-08-27T15:09:32.449690Z"
    }
   },
   "outputs": [
    {
     "data": {
      "text/html": [
       "<div>\n",
       "<style scoped>\n",
       "    .dataframe tbody tr th:only-of-type {\n",
       "        vertical-align: middle;\n",
       "    }\n",
       "\n",
       "    .dataframe tbody tr th {\n",
       "        vertical-align: top;\n",
       "    }\n",
       "\n",
       "    .dataframe thead th {\n",
       "        text-align: right;\n",
       "    }\n",
       "</style>\n",
       "<table border=\"1\" class=\"dataframe\">\n",
       "  <thead>\n",
       "    <tr style=\"text-align: right;\">\n",
       "      <th></th>\n",
       "      <th>city</th>\n",
       "      <th>country</th>\n",
       "      <th>avg_temp_c</th>\n",
       "    </tr>\n",
       "  </thead>\n",
       "  <tbody>\n",
       "    <tr>\n",
       "      <th>0</th>\n",
       "      <td>Abidjan</td>\n",
       "      <td>Côte D'Ivoire</td>\n",
       "      <td>27.293</td>\n",
       "    </tr>\n",
       "    <tr>\n",
       "      <th>1</th>\n",
       "      <td>Abidjan</td>\n",
       "      <td>Côte D'Ivoire</td>\n",
       "      <td>27.685</td>\n",
       "    </tr>\n",
       "    <tr>\n",
       "      <th>2</th>\n",
       "      <td>Abidjan</td>\n",
       "      <td>Côte D'Ivoire</td>\n",
       "      <td>29.061</td>\n",
       "    </tr>\n",
       "    <tr>\n",
       "      <th>3</th>\n",
       "      <td>Abidjan</td>\n",
       "      <td>Côte D'Ivoire</td>\n",
       "      <td>28.162</td>\n",
       "    </tr>\n",
       "    <tr>\n",
       "      <th>4</th>\n",
       "      <td>Abidjan</td>\n",
       "      <td>Côte D'Ivoire</td>\n",
       "      <td>27.547</td>\n",
       "    </tr>\n",
       "  </tbody>\n",
       "</table>\n",
       "</div>"
      ],
      "text/plain": [
       "      city        country  avg_temp_c\n",
       "0  Abidjan  Côte D'Ivoire      27.293\n",
       "1  Abidjan  Côte D'Ivoire      27.685\n",
       "2  Abidjan  Côte D'Ivoire      29.061\n",
       "3  Abidjan  Côte D'Ivoire      28.162\n",
       "4  Abidjan  Côte D'Ivoire      27.547"
      ]
     },
     "execution_count": 191,
     "metadata": {},
     "output_type": "execute_result"
    }
   ],
   "source": [
    "\"\"\" Encoding categorical data \n",
    "- One Hot Encoding (using pandas and sklearn)\n",
    "- Label Encoding \n",
    "\"\"\"\n",
    "dataset_path = os.path.join(data_dir, \"temperatures.csv\")\n",
    "\n",
    "temperatures = pd.read_csv(dataset_path)\n",
    "temperatures.drop(columns=['Unnamed: 0', 'date'], inplace=True)\n",
    "temperatures.head()"
   ]
  },
  {
   "cell_type": "code",
   "execution_count": 192,
   "id": "2c442bb0cd66e190",
   "metadata": {
    "ExecuteTime": {
     "end_time": "2024-08-27T15:10:03.676619Z",
     "start_time": "2024-08-27T15:10:03.666851Z"
    }
   },
   "outputs": [
    {
     "name": "stdout",
     "output_type": "stream",
     "text": [
      "495\n"
     ]
    },
    {
     "data": {
      "text/html": [
       "<div>\n",
       "<style scoped>\n",
       "    .dataframe tbody tr th:only-of-type {\n",
       "        vertical-align: middle;\n",
       "    }\n",
       "\n",
       "    .dataframe tbody tr th {\n",
       "        vertical-align: top;\n",
       "    }\n",
       "\n",
       "    .dataframe thead th {\n",
       "        text-align: right;\n",
       "    }\n",
       "</style>\n",
       "<table border=\"1\" class=\"dataframe\">\n",
       "  <thead>\n",
       "    <tr style=\"text-align: right;\">\n",
       "      <th></th>\n",
       "      <th>city</th>\n",
       "      <th>country</th>\n",
       "      <th>avg_temp_c</th>\n",
       "    </tr>\n",
       "  </thead>\n",
       "  <tbody>\n",
       "    <tr>\n",
       "      <th>3465</th>\n",
       "      <td>Chicago</td>\n",
       "      <td>United States</td>\n",
       "      <td>0.137</td>\n",
       "    </tr>\n",
       "    <tr>\n",
       "      <th>3466</th>\n",
       "      <td>Chicago</td>\n",
       "      <td>United States</td>\n",
       "      <td>4.083</td>\n",
       "    </tr>\n",
       "    <tr>\n",
       "      <th>3467</th>\n",
       "      <td>Chicago</td>\n",
       "      <td>United States</td>\n",
       "      <td>8.274</td>\n",
       "    </tr>\n",
       "    <tr>\n",
       "      <th>3468</th>\n",
       "      <td>Chicago</td>\n",
       "      <td>United States</td>\n",
       "      <td>7.615</td>\n",
       "    </tr>\n",
       "    <tr>\n",
       "      <th>3469</th>\n",
       "      <td>Chicago</td>\n",
       "      <td>United States</td>\n",
       "      <td>13.867</td>\n",
       "    </tr>\n",
       "  </tbody>\n",
       "</table>\n",
       "</div>"
      ],
      "text/plain": [
       "         city        country  avg_temp_c\n",
       "3465  Chicago  United States       0.137\n",
       "3466  Chicago  United States       4.083\n",
       "3467  Chicago  United States       8.274\n",
       "3468  Chicago  United States       7.615\n",
       "3469  Chicago  United States      13.867"
      ]
     },
     "execution_count": 192,
     "metadata": {},
     "output_type": "execute_result"
    }
   ],
   "source": [
    "cities = [\"Moscow\", \"Dhaka\", \"Chicago\"]\n",
    "\n",
    "temperatures = temperatures.query(\n",
    "    \"city in @cities\" \n",
    ")\n",
    "\n",
    "print(len(temperatures))\n",
    "\n",
    "temperatures.head()"
   ]
  },
  {
   "cell_type": "code",
   "execution_count": 193,
   "id": "9e728f93d5fc2746",
   "metadata": {
    "ExecuteTime": {
     "end_time": "2024-08-27T15:10:31.984584Z",
     "start_time": "2024-08-27T15:10:31.977663Z"
    }
   },
   "outputs": [
    {
     "data": {
      "text/plain": [
       "city\n",
       "Chicago    165\n",
       "Dhaka      165\n",
       "Moscow     165\n",
       "Name: count, dtype: int64"
      ]
     },
     "execution_count": 193,
     "metadata": {},
     "output_type": "execute_result"
    }
   ],
   "source": [
    "temperatures[\"city\"].value_counts()"
   ]
  },
  {
   "cell_type": "code",
   "execution_count": 194,
   "id": "9061f978994b41f2",
   "metadata": {
    "ExecuteTime": {
     "end_time": "2024-08-27T15:11:03.431783Z",
     "start_time": "2024-08-27T15:11:03.426234Z"
    }
   },
   "outputs": [
    {
     "data": {
      "text/plain": [
       "country\n",
       "United States    165\n",
       "Bangladesh       165\n",
       "Russia           165\n",
       "Name: count, dtype: int64"
      ]
     },
     "execution_count": 194,
     "metadata": {},
     "output_type": "execute_result"
    }
   ],
   "source": [
    "temperatures[\"country\"].value_counts()"
   ]
  },
  {
   "cell_type": "code",
   "execution_count": null,
   "id": "33e2e857cb8fe981",
   "metadata": {},
   "outputs": [],
   "source": [
    "\"\"\" One-Hot encoding \n",
    "Place 1: Chicago\n",
    "Place 2: Moscow\n",
    "Place 3: Dhaka\n",
    "\n",
    "For chicago: 1 0 0\n",
    "For Moscow: 0 1 0\n",
    "For Dhaka: 0 0 1\n",
    "\"\"\""
   ]
  },
  {
   "cell_type": "code",
   "execution_count": 195,
   "id": "83390bfe7d14e70e",
   "metadata": {
    "ExecuteTime": {
     "end_time": "2024-08-27T15:14:04.707644Z",
     "start_time": "2024-08-27T15:14:04.696631Z"
    }
   },
   "outputs": [
    {
     "data": {
      "text/html": [
       "<div>\n",
       "<style scoped>\n",
       "    .dataframe tbody tr th:only-of-type {\n",
       "        vertical-align: middle;\n",
       "    }\n",
       "\n",
       "    .dataframe tbody tr th {\n",
       "        vertical-align: top;\n",
       "    }\n",
       "\n",
       "    .dataframe thead th {\n",
       "        text-align: right;\n",
       "    }\n",
       "</style>\n",
       "<table border=\"1\" class=\"dataframe\">\n",
       "  <thead>\n",
       "    <tr style=\"text-align: right;\">\n",
       "      <th></th>\n",
       "      <th>country</th>\n",
       "      <th>avg_temp_c</th>\n",
       "      <th>city_Chicago</th>\n",
       "      <th>city_Dhaka</th>\n",
       "      <th>city_Moscow</th>\n",
       "    </tr>\n",
       "  </thead>\n",
       "  <tbody>\n",
       "    <tr>\n",
       "      <th>3465</th>\n",
       "      <td>United States</td>\n",
       "      <td>0.137</td>\n",
       "      <td>True</td>\n",
       "      <td>False</td>\n",
       "      <td>False</td>\n",
       "    </tr>\n",
       "    <tr>\n",
       "      <th>3466</th>\n",
       "      <td>United States</td>\n",
       "      <td>4.083</td>\n",
       "      <td>True</td>\n",
       "      <td>False</td>\n",
       "      <td>False</td>\n",
       "    </tr>\n",
       "    <tr>\n",
       "      <th>3467</th>\n",
       "      <td>United States</td>\n",
       "      <td>8.274</td>\n",
       "      <td>True</td>\n",
       "      <td>False</td>\n",
       "      <td>False</td>\n",
       "    </tr>\n",
       "    <tr>\n",
       "      <th>3468</th>\n",
       "      <td>United States</td>\n",
       "      <td>7.615</td>\n",
       "      <td>True</td>\n",
       "      <td>False</td>\n",
       "      <td>False</td>\n",
       "    </tr>\n",
       "    <tr>\n",
       "      <th>3469</th>\n",
       "      <td>United States</td>\n",
       "      <td>13.867</td>\n",
       "      <td>True</td>\n",
       "      <td>False</td>\n",
       "      <td>False</td>\n",
       "    </tr>\n",
       "  </tbody>\n",
       "</table>\n",
       "</div>"
      ],
      "text/plain": [
       "            country  avg_temp_c  city_Chicago  city_Dhaka  city_Moscow\n",
       "3465  United States       0.137          True       False        False\n",
       "3466  United States       4.083          True       False        False\n",
       "3467  United States       8.274          True       False        False\n",
       "3468  United States       7.615          True       False        False\n",
       "3469  United States      13.867          True       False        False"
      ]
     },
     "execution_count": 195,
     "metadata": {},
     "output_type": "execute_result"
    }
   ],
   "source": [
    "temperatures = pd.get_dummies(\n",
    "    temperatures, \n",
    "    columns=[\"city\"], \n",
    "    sparse=True\n",
    ")\n",
    "\n",
    "temperatures.head()"
   ]
  },
  {
   "cell_type": "code",
   "execution_count": 197,
   "id": "89e989b3be7c0ecf",
   "metadata": {
    "ExecuteTime": {
     "end_time": "2024-08-27T15:15:47.029737Z",
     "start_time": "2024-08-27T15:15:47.018397Z"
    }
   },
   "outputs": [
    {
     "data": {
      "text/html": [
       "<div>\n",
       "<style scoped>\n",
       "    .dataframe tbody tr th:only-of-type {\n",
       "        vertical-align: middle;\n",
       "    }\n",
       "\n",
       "    .dataframe tbody tr th {\n",
       "        vertical-align: top;\n",
       "    }\n",
       "\n",
       "    .dataframe thead th {\n",
       "        text-align: right;\n",
       "    }\n",
       "</style>\n",
       "<table border=\"1\" class=\"dataframe\">\n",
       "  <thead>\n",
       "    <tr style=\"text-align: right;\">\n",
       "      <th></th>\n",
       "      <th>country</th>\n",
       "      <th>avg_temp_c</th>\n",
       "      <th>city_Chicago</th>\n",
       "      <th>city_Dhaka</th>\n",
       "      <th>city_Moscow</th>\n",
       "    </tr>\n",
       "  </thead>\n",
       "  <tbody>\n",
       "    <tr>\n",
       "      <th>10885</th>\n",
       "      <td>1</td>\n",
       "      <td>16.152</td>\n",
       "      <td>False</td>\n",
       "      <td>False</td>\n",
       "      <td>True</td>\n",
       "    </tr>\n",
       "    <tr>\n",
       "      <th>10886</th>\n",
       "      <td>1</td>\n",
       "      <td>18.718</td>\n",
       "      <td>False</td>\n",
       "      <td>False</td>\n",
       "      <td>True</td>\n",
       "    </tr>\n",
       "    <tr>\n",
       "      <th>10887</th>\n",
       "      <td>1</td>\n",
       "      <td>18.136</td>\n",
       "      <td>False</td>\n",
       "      <td>False</td>\n",
       "      <td>True</td>\n",
       "    </tr>\n",
       "    <tr>\n",
       "      <th>10888</th>\n",
       "      <td>1</td>\n",
       "      <td>17.485</td>\n",
       "      <td>False</td>\n",
       "      <td>False</td>\n",
       "      <td>True</td>\n",
       "    </tr>\n",
       "    <tr>\n",
       "      <th>10889</th>\n",
       "      <td>1</td>\n",
       "      <td>NaN</td>\n",
       "      <td>False</td>\n",
       "      <td>False</td>\n",
       "      <td>True</td>\n",
       "    </tr>\n",
       "  </tbody>\n",
       "</table>\n",
       "</div>"
      ],
      "text/plain": [
       "       country  avg_temp_c  city_Chicago  city_Dhaka  city_Moscow\n",
       "10885        1      16.152         False       False         True\n",
       "10886        1      18.718         False       False         True\n",
       "10887        1      18.136         False       False         True\n",
       "10888        1      17.485         False       False         True\n",
       "10889        1         NaN         False       False         True"
      ]
     },
     "execution_count": 197,
     "metadata": {},
     "output_type": "execute_result"
    }
   ],
   "source": [
    "\"\"\" Label Encoding \"\"\"\n",
    "\n",
    "temperatures['country'] = pd.Categorical(\n",
    "    temperatures['country'],\n",
    ").codes\n",
    "\n",
    "temperatures.tail()"
   ]
  },
  {
   "cell_type": "code",
   "execution_count": 198,
   "id": "5be11da46cfd37e8",
   "metadata": {
    "ExecuteTime": {
     "end_time": "2024-08-27T15:16:04.864447Z",
     "start_time": "2024-08-27T15:16:04.857153Z"
    }
   },
   "outputs": [
    {
     "data": {
      "text/plain": [
       "[2, 2, 2, 2, 2, ..., 1, 1, 1, 1, 1]\n",
       "Length: 495\n",
       "Categories (3, int8): [0, 1, 2]"
      ]
     },
     "execution_count": 198,
     "metadata": {},
     "output_type": "execute_result"
    }
   ],
   "source": [
    "pd.Categorical(\n",
    "    temperatures['country'],\n",
    ")"
   ]
  },
  {
   "cell_type": "code",
   "execution_count": null,
   "id": "a684a2f89505b366",
   "metadata": {},
   "outputs": [],
   "source": [
    "\"\"\" Which one should I choose? \n",
    "One hot encoding issues:\n",
    "    - What if the categories are large? (Memory issue)\n",
    "    - What if order / Rank matters for example small, medium, large? What then?\n",
    "    \n",
    "    Answer is label encoding. \n",
    "\"\"\""
   ]
  },
  {
   "cell_type": "code",
   "execution_count": null,
   "id": "757073a7baaa5ede",
   "metadata": {},
   "outputs": [],
   "source": []
  },
  {
   "cell_type": "code",
   "execution_count": null,
   "id": "b207487f7b543b95",
   "metadata": {},
   "outputs": [],
   "source": [
    "\"\"\" Image processing \n",
    "\n",
    "- Fixed shape\n",
    "- Gray scale conversion\n",
    "- Brightness normalization / standardization (zero means unit variance)\n",
    "- Augmentation (Rotation, Flip)\n",
    "\"\"\""
   ]
  },
  {
   "cell_type": "code",
   "execution_count": null,
   "id": "c6cab508177c2e92",
   "metadata": {},
   "outputs": [],
   "source": []
  }
 ],
 "metadata": {
  "kernelspec": {
   "display_name": "Python 3",
   "language": "python",
   "name": "python3"
  },
  "language_info": {
   "codemirror_mode": {
    "name": "ipython",
    "version": 2
   },
   "file_extension": ".py",
   "mimetype": "text/x-python",
   "name": "python",
   "nbconvert_exporter": "python",
   "pygments_lexer": "ipython2",
   "version": "2.7.6"
  }
 },
 "nbformat": 4,
 "nbformat_minor": 5
}
