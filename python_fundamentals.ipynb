{
  "cells": [
    {
      "cell_type": "markdown",
      "metadata": {
        "id": "qSYz_9XBFA9e"
      },
      "source": [
        "# Python Fundamentals.\n",
        "### Joy Shib."
      ]
    },
    {
      "cell_type": "markdown",
      "metadata": {
        "id": "TRUxHzNFFZu2"
      },
      "source": [
        "## Printing in Python."
      ]
    },
    {
      "cell_type": "code",
      "execution_count": null,
      "metadata": {
        "colab": {
          "base_uri": "https://localhost:8080/"
        },
        "id": "0C03SyVv7rZb",
        "outputId": "c2224578-1e6e-4fad-f46a-67c5cb778759"
      },
      "outputs": [
        {
          "name": "stdout",
          "output_type": "stream",
          "text": [
            "Hello world.\n",
            "My name is Joe.\n",
            "I am very excited about this course!"
          ]
        }
      ],
      "source": [
        "print(\"Hello world.\")\n",
        "print(\"My name is Joy.\")\n",
        "print(\"I am very excited\", end=\" \")\n",
        "print(\"about this course\", end=\"!\")"
      ]
    },
    {
      "cell_type": "markdown",
      "metadata": {
        "id": "vh0sGLKb78C-"
      },
      "source": [
        "## variables.."
      ]
    },
    {
      "cell_type": "code",
      "execution_count": null,
      "metadata": {
        "colab": {
          "base_uri": "https://localhost:8080/"
        },
        "id": "WemRylFL8Ai0",
        "outputId": "ce9a92d8-0910-4c0e-ecf7-aa000dc39907"
      },
      "outputs": [
        {
          "name": "stdout",
          "output_type": "stream",
          "text": [
            "the valuse is :  100\n"
          ]
        }
      ],
      "source": [
        "# declare a variable\n",
        "my_var = 100;\n",
        "print(\"the valuse is : \" , my_var);"
      ]
    },
    {
      "cell_type": "code",
      "execution_count": null,
      "metadata": {
        "colab": {
          "base_uri": "https://localhost:8080/"
        },
        "id": "T7SR8H3q8MA7",
        "outputId": "dc7ddffd-8ec4-440e-9ed1-60adf4c4c7d5"
      },
      "outputs": [
        {
          "name": "stdout",
          "output_type": "stream",
          "text": [
            "<class 'int'>\n"
          ]
        }
      ],
      "source": [
        "# we can print the variable type by using type() function..\n",
        "\n",
        "print(type(my_var))"
      ]
    },
    {
      "cell_type": "code",
      "execution_count": null,
      "metadata": {
        "colab": {
          "base_uri": "https://localhost:8080/"
        },
        "id": "jxr_AX1E8car",
        "outputId": "ab6f7926-fa88-4322-bb71-53e137a2bfa3"
      },
      "outputs": [
        {
          "name": "stdout",
          "output_type": "stream",
          "text": [
            "My Name Is Joy Shib\n",
            "<class 'str'>\n"
          ]
        }
      ],
      "source": [
        "# amra caile eki variable different data time er jonno use korte parbo.\n",
        "\n",
        "my_var = \"My Name Is Joy Shib\";\n",
        "\n",
        "print(my_var);\n",
        "print(type(my_var));"
      ]
    },
    {
      "cell_type": "markdown",
      "metadata": {
        "id": "bNd5hb329Ov-"
      },
      "source": [
        "## amra caile python eh onk vabe print korte pari\n"
      ]
    },
    {
      "cell_type": "code",
      "execution_count": null,
      "metadata": {
        "colab": {
          "base_uri": "https://localhost:8080/"
        },
        "id": "iOuX_a849Ug-",
        "outputId": "cfbc2b34-8523-4023-f6b3-3bac0a8f14e2"
      },
      "outputs": [
        {
          "name": "stdout",
          "output_type": "stream",
          "text": [
            "my_var is 1\n",
            "type(my_var) = <class 'int'>\n",
            "\n",
            "my_float_var=3.323614527\n",
            "type(my_float_var) = <class 'float'>\n",
            "\n",
            "my_string_var=Tiger\n",
            "type(my_string_var) = <class 'str'>\n",
            "\n"
          ]
        }
      ],
      "source": [
        "my_var = 1\n",
        "print(f\"my_var is {my_var}\")\n",
        "print(f\"type(my_var) = {type(my_var)}\\n\")\n",
        "\n",
        "my_float_var = 3.323614527\n",
        "print(f\"my_float_var={my_float_var}\")\n",
        "print(f\"type(my_float_var) = {type(my_float_var)}\\n\")\n",
        "\n",
        "my_string_var = \"Tiger\"\n",
        "print(f\"my_string_var={my_string_var}\")\n",
        "print(f\"type(my_string_var) = {type(my_string_var)}\\n\")"
      ]
    },
    {
      "cell_type": "markdown",
      "metadata": {
        "id": "B0J18xdt9mmp"
      },
      "source": [
        "## Print the certian num of decimal points."
      ]
    },
    {
      "cell_type": "code",
      "execution_count": null,
      "metadata": {
        "colab": {
          "base_uri": "https://localhost:8080/"
        },
        "id": "0x-goen89ptO",
        "outputId": "0a6c4bda-6b85-4cc2-8fcc-167117d94d65"
      },
      "outputs": [
        {
          "name": "stdout",
          "output_type": "stream",
          "text": [
            "Printing the variable upto 3 decimal points, my_float_var = 3.324\n"
          ]
        }
      ],
      "source": [
        "print(f\"Printing the variable upto 3 decimal points, my_float_var = {my_float_var:0.3f}\")"
      ]
    },
    {
      "cell_type": "markdown",
      "metadata": {
        "id": "lhakZ4-B-ipu"
      },
      "source": [
        "## Some escape character."
      ]
    },
    {
      "cell_type": "code",
      "execution_count": null,
      "metadata": {
        "colab": {
          "base_uri": "https://localhost:8080/"
        },
        "id": "5rZxo9zr-nud",
        "outputId": "c634e223-e603-4c54-f912-1e2c6c2df3e1"
      },
      "outputs": [
        {
          "name": "stdout",
          "output_type": "stream",
          "text": [
            "Name:\tJoy Shib\n",
            "Favorite Quote:\t 'Life is full of mara'\n"
          ]
        }
      ],
      "source": [
        "print(\"Name:\\tJoy Shib\")\n",
        "print(\"Favorite Quote:\\t \\'Life is full of mara\\'\")"
      ]
    },
    {
      "cell_type": "markdown",
      "metadata": {
        "id": "T7dM67ufBCSM"
      },
      "source": [
        "## Tuples in Python.."
      ]
    },
    {
      "cell_type": "code",
      "execution_count": null,
      "metadata": {
        "colab": {
          "base_uri": "https://localhost:8080/"
        },
        "id": "76HhfkWKBF_t",
        "outputId": "04ece002-6ebb-4b1b-8305-1700c048c9c8"
      },
      "outputs": [
        {
          "data": {
            "text/plain": [
              "('joy shib',\n",
              " 'BAN',\n",
              " 'Softwere Engineer',\n",
              " 12000000,\n",
              " ['c/c++', 'JAVA', 'Python', 'JAVASCRIPT'])"
            ]
          },
          "execution_count": 16,
          "metadata": {},
          "output_type": "execute_result"
        }
      ],
      "source": [
        "# declear a tuple\n",
        "\n",
        "my_tuple  = (\n",
        "    \"joy shib\",\n",
        "    \"BAN\",\n",
        "    \"Softwere Engineer\",\n",
        "    12000000,\n",
        "    [\"c/c++\", \"JAVA\", \"Python\", \"JAVASCRIPT\"]\n",
        ")\n",
        "my_tuple"
      ]
    },
    {
      "cell_type": "markdown",
      "metadata": {
        "id": "pO_UWgQhBw9W"
      },
      "source": [
        "## Amra caile array er moto kore indexing er maddhome access korte parbo tuple.."
      ]
    },
    {
      "cell_type": "code",
      "execution_count": null,
      "metadata": {
        "colab": {
          "base_uri": "https://localhost:8080/",
          "height": 35
        },
        "id": "KlhV3DMbB3z5",
        "outputId": "b1eabf1e-3da6-4cd7-9b9b-a37b608d102c"
      },
      "outputs": [
        {
          "data": {
            "application/vnd.google.colaboratory.intrinsic+json": {
              "type": "string"
            },
            "text/plain": [
              "'joy shib'"
            ]
          },
          "execution_count": 19,
          "metadata": {},
          "output_type": "execute_result"
        }
      ],
      "source": [
        "my_tuple[0]\n"
      ]
    },
    {
      "cell_type": "markdown",
      "metadata": {
        "id": "-WExcBdmCL3m"
      },
      "source": [
        "## Slicing a tuple ( ekta range er value gula print korte parbo)."
      ]
    },
    {
      "cell_type": "code",
      "execution_count": null,
      "metadata": {
        "colab": {
          "base_uri": "https://localhost:8080/"
        },
        "id": "gzojiltuCR2l",
        "outputId": "a0c6dce4-85fa-4152-d2b6-f576de304d6f"
      },
      "outputs": [
        {
          "data": {
            "text/plain": [
              "('joy shib', 'BAN', 'Softwere Engineer')"
            ]
          },
          "execution_count": 22,
          "metadata": {},
          "output_type": "execute_result"
        }
      ],
      "source": [
        "my_tuple[0:3]\n",
        "# 0 - 3 er range eh ja ache seta print korbe."
      ]
    },
    {
      "cell_type": "markdown",
      "metadata": {
        "id": "jblMC9DoCoHJ"
      },
      "source": [
        "## Tuple Unpacking.."
      ]
    },
    {
      "cell_type": "code",
      "execution_count": null,
      "metadata": {
        "colab": {
          "base_uri": "https://localhost:8080/",
          "height": 35
        },
        "id": "zuqtQqOzCp-E",
        "outputId": "b531c873-9a19-4d1e-a603-0b07d85cb737"
      },
      "outputs": [
        {
          "data": {
            "application/vnd.google.colaboratory.intrinsic+json": {
              "type": "string"
            },
            "text/plain": [
              "'BAN'"
            ]
          },
          "execution_count": 25,
          "metadata": {},
          "output_type": "execute_result"
        }
      ],
      "source": [
        "name, country, profession, salary, favourite_languages = my_tuple\n",
        "name\n"
      ]
    },
    {
      "cell_type": "code",
      "execution_count": null,
      "metadata": {
        "colab": {
          "base_uri": "https://localhost:8080/",
          "height": 35
        },
        "id": "CxIbxqkRC2bL",
        "outputId": "0d06218a-ce31-484d-eb29-781aa15fbb9e"
      },
      "outputs": [
        {
          "data": {
            "application/vnd.google.colaboratory.intrinsic+json": {
              "type": "string"
            },
            "text/plain": [
              "'BAN'"
            ]
          },
          "execution_count": 26,
          "metadata": {},
          "output_type": "execute_result"
        }
      ],
      "source": [
        "country"
      ]
    },
    {
      "cell_type": "code",
      "execution_count": null,
      "metadata": {
        "colab": {
          "base_uri": "https://localhost:8080/"
        },
        "id": "AZUEkqSJC4ca",
        "outputId": "7bac946d-dbbb-4f0b-e802-02e794826c5a"
      },
      "outputs": [
        {
          "data": {
            "text/plain": [
              "12000000"
            ]
          },
          "execution_count": 27,
          "metadata": {},
          "output_type": "execute_result"
        }
      ],
      "source": [
        "salary"
      ]
    },
    {
      "cell_type": "markdown",
      "metadata": {
        "id": "ey-bIDwhDWD7"
      },
      "source": [
        "# Dictionary."
      ]
    },
    {
      "cell_type": "code",
      "execution_count": null,
      "metadata": {
        "colab": {
          "base_uri": "https://localhost:8080/"
        },
        "id": "4RD57IiuDYUe",
        "outputId": "5d7a2626-9706-430e-e7c2-ffcc0f0f3c33"
      },
      "outputs": [
        {
          "data": {
            "text/plain": [
              "{'name': 'Joy Shib',\n",
              " 'Country': 'BANGLADESH',\n",
              " 'Age': 22,\n",
              " 'Academic Year': 'third-Year',\n",
              " 'Department ': 'CSE',\n",
              " 'Favourite-langauge': 'C/C++'}"
            ]
          },
          "execution_count": 28,
          "metadata": {},
          "output_type": "execute_result"
        }
      ],
      "source": [
        "# lets create a dictionary..\n",
        "\n",
        "student = {\n",
        "     \"name\" : \"Joy Shib\",\n",
        "     \"Country\" : \"BANGLADESH\",\n",
        "     \"Age\" : 22,\n",
        "     \"Academic Year\" : \"third-Year\",\n",
        "     \"Department \" : \"CSE\",\n",
        "     \"Favourite-langauge\" : \"C/C++\"\n",
        "}\n",
        "student"
      ]
    },
    {
      "cell_type": "markdown",
      "metadata": {
        "id": "-EZqzN8FEDPH"
      },
      "source": [
        "## Access korrar jonno dictionary nam likhe then jeta cai seta likhte hbe.\n",
        "## for example : student['country']."
      ]
    },
    {
      "cell_type": "code",
      "execution_count": null,
      "metadata": {
        "colab": {
          "base_uri": "https://localhost:8080/",
          "height": 35
        },
        "id": "T3g25D9AEPVQ",
        "outputId": "862a1c43-064c-4ee0-d6a5-56fef4b96a4d"
      },
      "outputs": [
        {
          "data": {
            "application/vnd.google.colaboratory.intrinsic+json": {
              "type": "string"
            },
            "text/plain": [
              "'BANGLADESH'"
            ]
          },
          "execution_count": 31,
          "metadata": {},
          "output_type": "execute_result"
        }
      ],
      "source": [
        "# access the dictionary\n",
        "\n",
        "student['Country']"
      ]
    },
    {
      "cell_type": "code",
      "execution_count": null,
      "metadata": {
        "colab": {
          "base_uri": "https://localhost:8080/"
        },
        "id": "37aZlUJvEmyK",
        "outputId": "e7318865-7f4e-4914-acf8-56c2a43624b8"
      },
      "outputs": [
        {
          "data": {
            "text/plain": [
              "22"
            ]
          },
          "execution_count": 34,
          "metadata": {},
          "output_type": "execute_result"
        }
      ],
      "source": [
        "student['Age']"
      ]
    },
    {
      "cell_type": "markdown",
      "metadata": {
        "id": "Ok6Ya90gE8EH"
      },
      "source": [
        "## Add a new item in  the dictionary."
      ]
    },
    {
      "cell_type": "code",
      "execution_count": null,
      "metadata": {
        "colab": {
          "base_uri": "https://localhost:8080/"
        },
        "id": "OAiRcWKaE_l9",
        "outputId": "6f802a0b-7589-4235-976b-3e3b838e5f94"
      },
      "outputs": [
        {
          "data": {
            "text/plain": [
              "{'name': 'Joy Shib',\n",
              " 'Country': 'BANGLADESH',\n",
              " 'Age': 22,\n",
              " 'Academic Year': 'third-Year',\n",
              " 'Department ': 'CSE',\n",
              " 'Favourite-langauge': 'C/C++',\n",
              " 'Quality': 'BEST',\n",
              " 'Expected-salary': 200000}"
            ]
          },
          "execution_count": 36,
          "metadata": {},
          "output_type": "execute_result"
        }
      ],
      "source": [
        "student[\"Quality\"] = \"BEST\"\n",
        "student[\"Expected-salary\"] = 200000\n",
        "student"
      ]
    },
    {
      "cell_type": "markdown",
      "metadata": {
        "id": "8wpo9yt_FZ-e"
      },
      "source": [
        "# Delete any item."
      ]
    },
    {
      "cell_type": "code",
      "execution_count": null,
      "metadata": {
        "colab": {
          "base_uri": "https://localhost:8080/"
        },
        "id": "5xvWvLlLFcfI",
        "outputId": "faeb84c0-5456-4c74-f565-e0af8aae7740"
      },
      "outputs": [
        {
          "name": "stdout",
          "output_type": "stream",
          "text": [
            "Key 'Academic Year' not found in the dictionary.\n"
          ]
        },
        {
          "data": {
            "text/plain": [
              "{'name': 'Joy Shib',\n",
              " 'Country': 'BANGLADESH',\n",
              " 'Department ': 'CSE',\n",
              " 'Favourite-langauge': 'C/C++',\n",
              " 'Expected-salary': 200000}"
            ]
          },
          "execution_count": 53,
          "metadata": {},
          "output_type": "execute_result"
        }
      ],
      "source": [
        "# Check if the key exists before deleting it\n",
        "if \"Academic Year\" in student:\n",
        "    del student[\"Academic Year\"]\n",
        "    print(\"Key 'Academic Year' deleted successfully.\")\n",
        "else:\n",
        "    print(\"Key 'Academic Year' not found in the dictionary.\")\n",
        "student # Prints the dictionary to see its current state"
      ]
    },
    {
      "cell_type": "code",
      "execution_count": null,
      "metadata": {
        "colab": {
          "base_uri": "https://localhost:8080/"
        },
        "id": "wOf5BDUNHeAo",
        "outputId": "b9372bd1-7e21-4031-e372-77aa6e5108b8"
      },
      "outputs": [
        {
          "data": {
            "text/plain": [
              "dict_items([('name', 'Joy Shib'), ('Country', 'BANGLADESH'), ('Department ', 'CSE'), ('Favourite-langauge', 'C/C++'), ('Expected-salary', 200000)])"
            ]
          },
          "execution_count": 55,
          "metadata": {},
          "output_type": "execute_result"
        }
      ],
      "source": [
        "# access the items\n",
        "\n",
        "student.items()"
      ]
    },
    {
      "cell_type": "code",
      "execution_count": null,
      "metadata": {
        "colab": {
          "base_uri": "https://localhost:8080/"
        },
        "id": "b0LOWF-FHrhu",
        "outputId": "5e158da4-e842-49dd-c1ec-658d87ab7c90"
      },
      "outputs": [
        {
          "data": {
            "text/plain": [
              "dict_keys(['name', 'Country', 'Department ', 'Favourite-langauge', 'Expected-salary'])"
            ]
          },
          "execution_count": 56,
          "metadata": {},
          "output_type": "execute_result"
        }
      ],
      "source": [
        "# access the keywords\n",
        "\n",
        "student.keys()"
      ]
    },
    {
      "cell_type": "code",
      "execution_count": null,
      "metadata": {
        "colab": {
          "base_uri": "https://localhost:8080/"
        },
        "id": "ouyuRS7EHytP",
        "outputId": "7a5255cf-0783-47b4-9be5-39f40c267e7f"
      },
      "outputs": [
        {
          "data": {
            "text/plain": [
              "dict_values(['Joy Shib', 'BANGLADESH', 'CSE', 'C/C++', 200000])"
            ]
          },
          "execution_count": 57,
          "metadata": {},
          "output_type": "execute_result"
        }
      ],
      "source": [
        "# access the values.\n",
        "\n",
        "student.values()"
      ]
    },
    {
      "cell_type": "markdown",
      "metadata": {
        "id": "z8Qaj9VZH6Yj"
      },
      "source": [
        "# Looping on the dictionary items."
      ]
    },
    {
      "cell_type": "code",
      "execution_count": 1,
      "metadata": {
        "colab": {
          "base_uri": "https://localhost:8080/"
        },
        "id": "sULJHUmGIfnH",
        "outputId": "62413695-61ac-42de-bb09-eee6ba066b65"
      },
      "outputs": [
        {
          "name": "stdout",
          "output_type": "stream",
          "text": [
            "name: Joy Shib\n",
            "country: Bangladesh\n",
            "age: 20\n",
            "grade: A\n"
          ]
        }
      ],
      "source": [
        "student = {\n",
        "    \"name\": \"Joy Shib\",\n",
        "    \"country\": \"Bangladesh\",\n",
        "    \"age\": 20,\n",
        "    \"grade\": \"A\"\n",
        "}\n",
        "\n",
        "# Loop through the dictionary items and print them as key-value pairs\n",
        "for key, value in student.items():\n",
        "    print(f\"{key}: {value}\")\n"
      ]
    },
    {
      "cell_type": "markdown",
      "metadata": {
        "id": "JvtI_QEVHLvJ"
      },
      "source": [
        "## Operators in Python.."
      ]
    },
    {
      "cell_type": "code",
      "execution_count": 50,
      "metadata": {
        "id": "V6WGeptOHQ9M"
      },
      "outputs": [],
      "source": [
        "from os.path import expanduser\n",
        "# Arithmetics Operators..\n",
        "\n",
        "x = 182\n",
        "y = 437"
      ]
    },
    {
      "cell_type": "code",
      "execution_count": 43,
      "metadata": {
        "colab": {
          "base_uri": "https://localhost:8080/"
        },
        "id": "6fC6bp-3WdqV",
        "outputId": "99acd78b-b042-43eb-f9f3-eac8981a18a3"
      },
      "outputs": [
        {
          "name": "stdout",
          "output_type": "stream",
          "text": [
            "The Sum is :  110\n"
          ]
        }
      ],
      "source": [
        "# Add\n",
        "Sum = x + y\n",
        "print(\"The Sum is : \", Sum)"
      ]
    },
    {
      "cell_type": "code",
      "execution_count": 44,
      "metadata": {
        "colab": {
          "base_uri": "https://localhost:8080/"
        },
        "id": "WjiU8nCLW4A7",
        "outputId": "127ff28d-04f2-4798-b7b8-81b215608d73"
      },
      "outputs": [
        {
          "name": "stdout",
          "output_type": "stream",
          "text": [
            "The subtract value is :  900\n"
          ]
        }
      ],
      "source": [
        "# Subtract.\n",
        "x = 1000\n",
        "y = 100\n",
        "Sub = x - y\n",
        "print(\"The subtract value is : \", Sub);"
      ]
    },
    {
      "cell_type": "code",
      "execution_count": 45,
      "metadata": {
        "colab": {
          "base_uri": "https://localhost:8080/"
        },
        "id": "tv_MwIY4W5bM",
        "outputId": "1315fa75-bb83-4214-ef7a-0ceb75e8ce55"
      },
      "outputs": [
        {
          "name": "stdout",
          "output_type": "stream",
          "text": [
            "The Multiplication value is :  27\n"
          ]
        }
      ],
      "source": [
        "# Multiply.\n",
        "\n",
        "x = 3\n",
        "y = 9\n",
        "\n",
        "Mult = x * y\n",
        "\n",
        "print(\"The Multiplication value is : \", Mult);"
      ]
    },
    {
      "cell_type": "code",
      "execution_count": 46,
      "metadata": {
        "colab": {
          "base_uri": "https://localhost:8080/"
        },
        "id": "JmhHeJswXIYi",
        "outputId": "dd332ba5-6471-4c60-9c6f-bdf1c3ed42ba"
      },
      "outputs": [
        {
          "name": "stdout",
          "output_type": "stream",
          "text": [
            "The Dividation value is :  10.0\n"
          ]
        }
      ],
      "source": [
        "# Dividation.\n",
        "\n",
        "x = 100\n",
        "y = 10\n",
        "\n",
        "Div = x / y\n",
        "\n",
        "print(\"The Dividation value is : \", Div);\n"
      ]
    },
    {
      "cell_type": "code",
      "execution_count": 47,
      "metadata": {
        "colab": {
          "base_uri": "https://localhost:8080/"
        },
        "id": "4tA6JZ2sXThj",
        "outputId": "3bb22b22-3088-4e6b-fc0e-7608ae110e50"
      },
      "outputs": [
        {
          "name": "stdout",
          "output_type": "stream",
          "text": [
            "The MOD value is :  0\n"
          ]
        }
      ],
      "source": [
        "# Mod Operator.\n",
        "\n",
        "Mod = x % y\n",
        "\n",
        "print(\"The MOD value is : \", Mod);"
      ]
    },
    {
      "cell_type": "code",
      "execution_count": 48,
      "metadata": {
        "colab": {
          "base_uri": "https://localhost:8080/"
        },
        "id": "SCH-TJEYXVVK",
        "outputId": "0ab6fc7c-3ab3-43bb-96aa-4c7ff8fb153a"
      },
      "outputs": [
        {
          "name": "stdout",
          "output_type": "stream",
          "text": [
            "The Exponent value is :  100000000000000000000\n"
          ]
        }
      ],
      "source": [
        "# Exponent Operator.\n",
        "\n",
        "exp = x ** y\n",
        "\n",
        "print(\"The Exponent value is : \", exp);"
      ]
    },
    {
      "cell_type": "code",
      "execution_count": 49,
      "metadata": {
        "colab": {
          "base_uri": "https://localhost:8080/"
        },
        "id": "7WUX3nawXh4m",
        "outputId": "ec86a326-3351-45c8-c229-24ff22323e2d"
      },
      "outputs": [
        {
          "data": {
            "text/plain": [
              "False"
            ]
          },
          "execution_count": 49,
          "metadata": {},
          "output_type": "execute_result"
        }
      ],
      "source": [
        "# Comperision operator.\n",
        "# it returns a boolien value.\n",
        "x == y\n",
        "x != y\n",
        "x > y\n",
        "x >= y\n",
        "x < y\n",
        "x <= y\n",
        "x > 10 and y < 10000\n",
        "x < 10 or y > 100\n",
        "not (x > 10)\n"
      ]
    },
    {
      "cell_type": "code",
      "execution_count": 51,
      "metadata": {
        "colab": {
          "base_uri": "https://localhost:8080/"
        },
        "id": "VRT3HAcBXqQo",
        "outputId": "d3e9f82d-a150-4e11-907f-eb9483990735"
      },
      "outputs": [
        {
          "data": {
            "text/plain": [
              "3"
            ]
          },
          "execution_count": 51,
          "metadata": {},
          "output_type": "execute_result"
        }
      ],
      "source": [
        "# Assignment Operators.\n",
        "\n",
        "a = 5\n",
        "a\n",
        "\n",
        "a *= 2\n",
        "a\n",
        "\n",
        "a //= 3\n",
        "a"
      ]
    },
    {
      "cell_type": "markdown",
      "metadata": {
        "id": "jVXFQ0EbJ_9D"
      },
      "source": [
        "# List.."
      ]
    },
    {
      "cell_type": "code",
      "execution_count": 11,
      "metadata": {
        "colab": {
          "base_uri": "https://localhost:8080/"
        },
        "id": "AHQmji5uKEiQ",
        "outputId": "579eec5c-8181-4264-a8ba-13b44ad6528f"
      },
      "outputs": [
        {
          "data": {
            "text/plain": [
              "['C/C++', 'Java', 'Python']"
            ]
          },
          "execution_count": 11,
          "metadata": {},
          "output_type": "execute_result"
        }
      ],
      "source": [
        "favourite_languages = ['C/C++', 'Java', 'Python']\n",
        "favourite_languages"
      ]
    },
    {
      "cell_type": "code",
      "execution_count": 14,
      "metadata": {
        "colab": {
          "base_uri": "https://localhost:8080/",
          "height": 35
        },
        "id": "Ex7Srh5PKly7",
        "outputId": "ab512657-d7a8-482c-d7e3-bd56adad02c6"
      },
      "outputs": [
        {
          "data": {
            "application/vnd.google.colaboratory.intrinsic+json": {
              "type": "string"
            },
            "text/plain": [
              "'Java'"
            ]
          },
          "execution_count": 14,
          "metadata": {},
          "output_type": "execute_result"
        }
      ],
      "source": [
        "# Access an elemrnts.\n",
        "favourite_languages[1]"
      ]
    },
    {
      "cell_type": "code",
      "execution_count": 15,
      "metadata": {
        "colab": {
          "base_uri": "https://localhost:8080/"
        },
        "id": "xLQ15RRtKshC",
        "outputId": "db77da6c-e2bc-4030-dcca-cda5e9e9afdb"
      },
      "outputs": [
        {
          "data": {
            "text/plain": [
              "3"
            ]
          },
          "execution_count": 15,
          "metadata": {},
          "output_type": "execute_result"
        }
      ],
      "source": [
        "# Len of List.\n",
        "len(favourite_languages)"
      ]
    },
    {
      "cell_type": "code",
      "execution_count": 16,
      "metadata": {
        "colab": {
          "base_uri": "https://localhost:8080/",
          "height": 35
        },
        "id": "WmiAQNquK1Ay",
        "outputId": "1c26f9a7-720b-46d8-91f2-b59a9b1ad46d"
      },
      "outputs": [
        {
          "data": {
            "application/vnd.google.colaboratory.intrinsic+json": {
              "type": "string"
            },
            "text/plain": [
              "'Python'"
            ]
          },
          "execution_count": 16,
          "metadata": {},
          "output_type": "execute_result"
        }
      ],
      "source": [
        "# Find the last element of List..\n",
        "favourite_languages[len(favourite_languages) - 1]"
      ]
    },
    {
      "cell_type": "code",
      "execution_count": 17,
      "metadata": {
        "colab": {
          "base_uri": "https://localhost:8080/",
          "height": 35
        },
        "id": "j-BVaSX9K-sT",
        "outputId": "0a7d8e0e-806f-437f-fc2f-a7eab07db963"
      },
      "outputs": [
        {
          "data": {
            "application/vnd.google.colaboratory.intrinsic+json": {
              "type": "string"
            },
            "text/plain": [
              "'Python'"
            ]
          },
          "execution_count": 17,
          "metadata": {},
          "output_type": "execute_result"
        }
      ],
      "source": [
        "# Use of Negative indexing.\n",
        "favourite_languages[-1]"
      ]
    },
    {
      "cell_type": "code",
      "execution_count": 18,
      "metadata": {
        "colab": {
          "base_uri": "https://localhost:8080/"
        },
        "id": "AfpZ7FIjLHrD",
        "outputId": "3779337c-c693-42ae-8df5-327245fca358"
      },
      "outputs": [
        {
          "data": {
            "text/plain": [
              "['C/C++', 'Java', 'Python']"
            ]
          },
          "execution_count": 18,
          "metadata": {},
          "output_type": "execute_result"
        }
      ],
      "source": [
        "# Sclising a List.\n",
        "favourite_languages[:]"
      ]
    },
    {
      "cell_type": "code",
      "execution_count": 19,
      "metadata": {
        "colab": {
          "base_uri": "https://localhost:8080/"
        },
        "id": "EH_3b_WALNrw",
        "outputId": "79dc6ca2-0d50-4343-dd3b-d175ad3ceb54"
      },
      "outputs": [
        {
          "data": {
            "text/plain": [
              "['C/C++', 'Java']"
            ]
          },
          "execution_count": 19,
          "metadata": {},
          "output_type": "execute_result"
        }
      ],
      "source": [
        "favourite_languages[:2]"
      ]
    },
    {
      "cell_type": "code",
      "execution_count": 20,
      "metadata": {
        "colab": {
          "base_uri": "https://localhost:8080/"
        },
        "id": "uE6xHbDoLS8N",
        "outputId": "388b8cc5-c8a7-430f-b97e-acd476b058e4"
      },
      "outputs": [
        {
          "data": {
            "text/plain": [
              "['Java', 'Python']"
            ]
          },
          "execution_count": 20,
          "metadata": {},
          "output_type": "execute_result"
        }
      ],
      "source": [
        "favourite_languages[1:]"
      ]
    },
    {
      "cell_type": "code",
      "execution_count": 22,
      "metadata": {
        "colab": {
          "base_uri": "https://localhost:8080/"
        },
        "id": "2bPMM-T8LY5t",
        "outputId": "bb408906-8711-40a5-df7a-f3dddbff5a1e"
      },
      "outputs": [
        {
          "data": {
            "text/plain": [
              "['Java', 'Python']"
            ]
          },
          "execution_count": 22,
          "metadata": {},
          "output_type": "execute_result"
        }
      ],
      "source": [
        "favourite_languages[-2:]"
      ]
    },
    {
      "cell_type": "code",
      "execution_count": 23,
      "metadata": {
        "colab": {
          "base_uri": "https://localhost:8080/"
        },
        "id": "0ef3klUHLjZ_",
        "outputId": "36782482-3799-427e-d492-2b1c7eb6ff26"
      },
      "outputs": [
        {
          "data": {
            "text/plain": [
              "['C/C++', 'Java', 'Python', 'JavaScript']"
            ]
          },
          "execution_count": 23,
          "metadata": {},
          "output_type": "execute_result"
        }
      ],
      "source": [
        "# Add an elements.\n",
        "favourite_languages.append('JavaScript')\n",
        "favourite_languages"
      ]
    },
    {
      "cell_type": "code",
      "execution_count": 24,
      "metadata": {
        "colab": {
          "base_uri": "https://localhost:8080/"
        },
        "id": "o6u1bqT2Lp1S",
        "outputId": "15a501cd-594b-4b97-bc39-d311c3c5148d"
      },
      "outputs": [
        {
          "data": {
            "text/plain": [
              "['C/C++', 'Java', 'Python 3', 'JavaScript']"
            ]
          },
          "execution_count": 24,
          "metadata": {},
          "output_type": "execute_result"
        }
      ],
      "source": [
        "# Update a Elements.\n",
        "favourite_languages[2] = 'Python 3'\n",
        "favourite_languages"
      ]
    },
    {
      "cell_type": "code",
      "execution_count": 25,
      "metadata": {
        "colab": {
          "base_uri": "https://localhost:8080/",
          "height": 35
        },
        "id": "t-SEWJZULzUk",
        "outputId": "f278b268-e843-41b9-d553-213f0e8dfd27"
      },
      "outputs": [
        {
          "data": {
            "application/vnd.google.colaboratory.intrinsic+json": {
              "type": "string"
            },
            "text/plain": [
              "'JavaScript'"
            ]
          },
          "execution_count": 25,
          "metadata": {},
          "output_type": "execute_result"
        }
      ],
      "source": [
        "# Remove the Elements.\n",
        "last_element = favourite_languages.pop()\n",
        "last_element"
      ]
    },
    {
      "cell_type": "code",
      "execution_count": 26,
      "metadata": {
        "colab": {
          "base_uri": "https://localhost:8080/"
        },
        "id": "AqaPno0oL77P",
        "outputId": "0d198cf6-3702-49b1-e23c-7f97a2922957"
      },
      "outputs": [
        {
          "data": {
            "text/plain": [
              "['C/C++', 'Java', 'Python 3']"
            ]
          },
          "execution_count": 26,
          "metadata": {},
          "output_type": "execute_result"
        }
      ],
      "source": [
        "favourite_languages"
      ]
    },
    {
      "cell_type": "code",
      "execution_count": 27,
      "metadata": {
        "colab": {
          "base_uri": "https://localhost:8080/"
        },
        "id": "R3OFrE-uMKrm",
        "outputId": "e388d6be-97b3-4078-8261-ada299c98381"
      },
      "outputs": [
        {
          "data": {
            "text/plain": [
              "['C/C++', 'Java']"
            ]
          },
          "execution_count": 27,
          "metadata": {},
          "output_type": "execute_result"
        }
      ],
      "source": [
        "# Remove Element By indexing.\n",
        "del favourite_languages[2]\n",
        "favourite_languages"
      ]
    },
    {
      "cell_type": "code",
      "execution_count": 29,
      "metadata": {
        "id": "RxmXcemZMQza"
      },
      "outputs": [],
      "source": [
        "# Clear entire list.\n",
        "favourite_languages.clear()"
      ]
    },
    {
      "cell_type": "code",
      "execution_count": 30,
      "metadata": {
        "colab": {
          "base_uri": "https://localhost:8080/"
        },
        "id": "HSMwFX5SMW8p",
        "outputId": "c3e7c276-21db-430d-da03-8b2563d3186b"
      },
      "outputs": [
        {
          "data": {
            "text/plain": [
              "[4, 2, 8, 5, 2]"
            ]
          },
          "execution_count": 30,
          "metadata": {},
          "output_type": "execute_result"
        }
      ],
      "source": [
        "# List method.\n",
        "# Create a list\n",
        "numbers = [4, 2, 8, 5, 2]\n",
        "numbers"
      ]
    },
    {
      "cell_type": "code",
      "execution_count": 31,
      "metadata": {
        "colab": {
          "base_uri": "https://localhost:8080/"
        },
        "id": "CCtkYit_Mc_3",
        "outputId": "b16ef698-1925-4885-fdff-b463ef64d463"
      },
      "outputs": [
        {
          "data": {
            "text/plain": [
              "2"
            ]
          },
          "execution_count": 31,
          "metadata": {},
          "output_type": "execute_result"
        }
      ],
      "source": [
        "# Count frequency of items.\n",
        "numbers.count(2)"
      ]
    },
    {
      "cell_type": "code",
      "execution_count": 32,
      "metadata": {
        "colab": {
          "base_uri": "https://localhost:8080/"
        },
        "id": "IEl5ASgEMj-v",
        "outputId": "f0c85905-d9e2-436d-a7e7-9bf20c714557"
      },
      "outputs": [
        {
          "data": {
            "text/plain": [
              "2"
            ]
          },
          "execution_count": 32,
          "metadata": {},
          "output_type": "execute_result"
        }
      ],
      "source": [
        "# Numbers of count.\n",
        "numbers.count(2)"
      ]
    },
    {
      "cell_type": "code",
      "execution_count": 33,
      "metadata": {
        "colab": {
          "base_uri": "https://localhost:8080/"
        },
        "id": "GzVXtiKSMnlT",
        "outputId": "fcf382af-f17c-43d6-cf60-0ea16c6fc9a0"
      },
      "outputs": [
        {
          "data": {
            "text/plain": [
              "2"
            ]
          },
          "execution_count": 33,
          "metadata": {},
          "output_type": "execute_result"
        }
      ],
      "source": [
        "# Index of an Element.\n",
        "numbers.count(2)"
      ]
    },
    {
      "cell_type": "code",
      "execution_count": 34,
      "metadata": {
        "colab": {
          "base_uri": "https://localhost:8080/"
        },
        "id": "_xWgjUXuMxEO",
        "outputId": "dd5ac2d4-f5b7-4214-fc94-7d554f690fb2"
      },
      "outputs": [
        {
          "data": {
            "text/plain": [
              "[2, 2, 4, 5, 8]"
            ]
          },
          "execution_count": 34,
          "metadata": {},
          "output_type": "execute_result"
        }
      ],
      "source": [
        "# Sort a List.\n",
        "numbers.sort()\n",
        "numbers"
      ]
    },
    {
      "cell_type": "code",
      "execution_count": 35,
      "metadata": {
        "colab": {
          "base_uri": "https://localhost:8080/"
        },
        "id": "U3wUzfYjM1UF",
        "outputId": "6aaf52ba-ee37-48ca-ca38-a811a76b2333"
      },
      "outputs": [
        {
          "data": {
            "text/plain": [
              "[8, 5, 4, 2, 2]"
            ]
          },
          "execution_count": 35,
          "metadata": {},
          "output_type": "execute_result"
        }
      ],
      "source": [
        "# Revarse a list.\n",
        "numbers.reverse()\n",
        "numbers"
      ]
    },
    {
      "cell_type": "code",
      "execution_count": 36,
      "metadata": {
        "colab": {
          "base_uri": "https://localhost:8080/"
        },
        "id": "N9crROZVM7Qd",
        "outputId": "b60f4329-383d-4408-8a48-86c64e491597"
      },
      "outputs": [
        {
          "data": {
            "text/plain": [
              "[8, 5, 4, 2, 2, 7, 1, 10]"
            ]
          },
          "execution_count": 36,
          "metadata": {},
          "output_type": "execute_result"
        }
      ],
      "source": [
        "# Extand a list.\n",
        "numbers.extend([7, 1, 10])\n",
        "numbers"
      ]
    },
    {
      "cell_type": "code",
      "execution_count": 38,
      "metadata": {
        "colab": {
          "base_uri": "https://localhost:8080/"
        },
        "id": "_HCmAxETNBfI",
        "outputId": "c6b7e750-7e7d-4b54-d9fb-131ada52db4a"
      },
      "outputs": [
        {
          "data": {
            "text/plain": [
              "[8, 5, 4, 2, 2, 7, 1, 10]"
            ]
          },
          "execution_count": 38,
          "metadata": {},
          "output_type": "execute_result"
        }
      ],
      "source": [
        "# Copy the list.\n",
        "numbers_copy = numbers.copy()\n",
        "numbers_copy"
      ]
    },
    {
      "cell_type": "markdown",
      "metadata": {
        "id": "YBp7k40SVjp3"
      },
      "source": [
        "# 2D List."
      ]
    },
    {
      "cell_type": "code",
      "execution_count": 39,
      "metadata": {
        "id": "AxcMfAAwVsbv"
      },
      "outputs": [],
      "source": [
        "# Create 2D List.\n",
        "matrix = [\n",
        "    [1, 2, 3],\n",
        "    [4, 5, 6],\n",
        "    [7, 8, 9]\n",
        "]"
      ]
    },
    {
      "cell_type": "code",
      "execution_count": 40,
      "metadata": {
        "colab": {
          "base_uri": "https://localhost:8080/"
        },
        "id": "BBckml8jV1Vh",
        "outputId": "e1dc66e9-b071-459b-c1d8-6c1c14bb138e"
      },
      "outputs": [
        {
          "name": "stdout",
          "output_type": "stream",
          "text": [
            "[1, 2, 3]\n",
            "[4, 5, 6]\n",
            "[7, 8, 9]\n"
          ]
        }
      ],
      "source": [
        "# Looping 2D List.\n",
        "for row in matrix:\n",
        "    print(row)"
      ]
    },
    {
      "cell_type": "code",
      "execution_count": 41,
      "metadata": {
        "colab": {
          "base_uri": "https://localhost:8080/"
        },
        "id": "GYtnQ7VDV8Hu",
        "outputId": "b4d51ebd-0e1b-4839-eada-25150412ff42"
      },
      "outputs": [
        {
          "data": {
            "text/plain": [
              "6"
            ]
          },
          "execution_count": 41,
          "metadata": {},
          "output_type": "execute_result"
        }
      ],
      "source": [
        "# Access 2D List.\n",
        "matrix[1][2]"
      ]
    },
    {
      "cell_type": "code",
      "execution_count": 42,
      "metadata": {
        "colab": {
          "base_uri": "https://localhost:8080/"
        },
        "id": "2PVRfDKzWC24",
        "outputId": "c878dc88-b602-4739-913b-024a8388450e"
      },
      "outputs": [
        {
          "data": {
            "text/plain": [
              "[[4, 5, 6], [7, 8, 9]]"
            ]
          },
          "execution_count": 42,
          "metadata": {},
          "output_type": "execute_result"
        }
      ],
      "source": [
        "# Slicing a 2D list(row only).\n",
        "matrix[1:3]"
      ]
    },
    {
      "cell_type": "markdown",
      "metadata": {
        "id": "dacAJTCRYGxv"
      },
      "source": [
        "## Conditionals Statement in Python."
      ]
    },
    {
      "cell_type": "code",
      "execution_count": 52,
      "metadata": {
        "colab": {
          "base_uri": "https://localhost:8080/"
        },
        "id": "mtn-ybz-YO6R",
        "outputId": "ac8261fe-d79a-44a4-be00-2b0ab906ff63"
      },
      "outputs": [
        {
          "name": "stdout",
          "output_type": "stream",
          "text": [
            "x is greater than 5\n"
          ]
        }
      ],
      "source": [
        "# Basic Structure.\n",
        "x = 10\n",
        "if x > 5:\n",
        "    print(\"x is greater than 5\")"
      ]
    },
    {
      "cell_type": "code",
      "execution_count": 53,
      "metadata": {
        "colab": {
          "base_uri": "https://localhost:8080/"
        },
        "id": "eZDNYnijYVM3",
        "outputId": "9ff25259-2bde-4e57-8f7f-d93b614c9af7"
      },
      "outputs": [
        {
          "name": "stdout",
          "output_type": "stream",
          "text": [
            "y is odd\n"
          ]
        }
      ],
      "source": [
        "# if-else statement\n",
        "y = 3\n",
        "if y % 2 == 0:\n",
        "    print(\"y is even\")\n",
        "else:\n",
        "    print(\"y is odd\")"
      ]
    },
    {
      "cell_type": "code",
      "execution_count": 54,
      "metadata": {
        "colab": {
          "base_uri": "https://localhost:8080/"
        },
        "id": "z8Rn8ONsYZzq",
        "outputId": "ee83bbea-4140-4fc4-d158-a4197643f6d8"
      },
      "outputs": [
        {
          "name": "stdout",
          "output_type": "stream",
          "text": [
            "z is negative\n"
          ]
        }
      ],
      "source": [
        "# if-elif-else statement\n",
        "z = -1\n",
        "if z > 0:\n",
        "    print(\"z is positive\")\n",
        "elif z < 0:\n",
        "    print(\"z is negative\")\n",
        "else:\n",
        "    print(\"z is zero\")"
      ]
    },
    {
      "cell_type": "code",
      "execution_count": 55,
      "metadata": {
        "colab": {
          "base_uri": "https://localhost:8080/"
        },
        "id": "yDyGMX9qYpIj",
        "outputId": "6e3475d7-d189-47e0-e4f3-4d471435a476"
      },
      "outputs": [
        {
          "name": "stdout",
          "output_type": "stream",
          "text": [
            "Both conditions are True\n"
          ]
        }
      ],
      "source": [
        "# Using Logical Operator.\n",
        "a = 7\n",
        "b = 15\n",
        "# Using 'and'\n",
        "if a > 5 and b > 10:\n",
        "    print(\"Both conditions are True\")"
      ]
    },
    {
      "cell_type": "code",
      "execution_count": 56,
      "metadata": {
        "colab": {
          "base_uri": "https://localhost:8080/"
        },
        "id": "d15Ec8ZFaQ6b",
        "outputId": "85f44d52-babd-482b-c761-3c3b45ceba79"
      },
      "outputs": [
        {
          "name": "stdout",
          "output_type": "stream",
          "text": [
            "At least one condition is True\n"
          ]
        }
      ],
      "source": [
        "# using or.\n",
        "if a < 5 or b > 10:\n",
        "    print(\"At least one condition is True\")"
      ]
    },
    {
      "cell_type": "code",
      "execution_count": 57,
      "metadata": {
        "colab": {
          "base_uri": "https://localhost:8080/"
        },
        "id": "uiY-OLzQa_Rv",
        "outputId": "83095e7a-af5a-4222-cf47-22fc6dc31623"
      },
      "outputs": [
        {
          "name": "stdout",
          "output_type": "stream",
          "text": [
            "a is not greater than 10\n"
          ]
        }
      ],
      "source": [
        "# Using 'not'\n",
        "if not (a > 10):\n",
        "    print(\"a is not greater than 10\")"
      ]
    },
    {
      "cell_type": "markdown",
      "metadata": {
        "id": "fKH1BoIObWjR"
      },
      "source": [
        "# Loop in Python."
      ]
    },
    {
      "cell_type": "code",
      "execution_count": 60,
      "metadata": {
        "colab": {
          "base_uri": "https://localhost:8080/"
        },
        "id": "gcjQND_rb5sF",
        "outputId": "79cdec54-76ef-4e7c-e604-163f6fcf38d5"
      },
      "outputs": [
        {
          "name": "stdout",
          "output_type": "stream",
          "text": [
            "Using a basic for loop:\n",
            "apple\n",
            "banana\n",
            "cherry\n",
            "date\n"
          ]
        }
      ],
      "source": [
        "fruits = ['apple', 'banana', 'cherry', 'date']\n",
        "\n",
        "print(\"Using a basic for loop:\")\n",
        "for fruit in fruits:\n",
        "    print(fruit)"
      ]
    },
    {
      "cell_type": "code",
      "execution_count": 61,
      "metadata": {
        "colab": {
          "base_uri": "https://localhost:8080/"
        },
        "id": "065_qBfjcGeu",
        "outputId": "bbde7857-c03b-40c1-ac69-b9927c1235c7"
      },
      "outputs": [
        {
          "name": "stdout",
          "output_type": "stream",
          "text": [
            "Index 0: apple\n",
            "Index 1: banana\n",
            "Index 2: cherry\n",
            "Index 3: date\n"
          ]
        }
      ],
      "source": [
        "# Looping using range.\n",
        "no_of_fruits = len(fruits)\n",
        "\n",
        "for i in range(no_of_fruits):\n",
        "    print(f\"Index {i}: {fruits[i]}\")"
      ]
    },
    {
      "cell_type": "code",
      "execution_count": 62,
      "metadata": {
        "colab": {
          "base_uri": "https://localhost:8080/"
        },
        "id": "t8HDhpgBcfH0",
        "outputId": "3ae12a90-97ba-4a7b-eb4b-2a5dcec3787a"
      },
      "outputs": [
        {
          "name": "stdout",
          "output_type": "stream",
          "text": [
            "Index 0: apple\n",
            "Index 1: banana\n",
            "Index 2: cherry\n",
            "Index 3: date\n"
          ]
        }
      ],
      "source": [
        "# Using enumerate.\n",
        "for index, fruit in enumerate(fruits):\n",
        "    print(f\"Index {index}: {fruit}\")"
      ]
    },
    {
      "cell_type": "code",
      "execution_count": 63,
      "metadata": {
        "colab": {
          "base_uri": "https://localhost:8080/"
        },
        "id": "qOesEFe4c-Qp",
        "outputId": "aba4594a-1406-4951-fce9-7fe4811a4e7c"
      },
      "outputs": [
        {
          "name": "stdout",
          "output_type": "stream",
          "text": [
            "red blue \n",
            "circle square \n",
            "cat dog \n"
          ]
        }
      ],
      "source": [
        "# Accessing 2D List.\n",
        "nested_list = [['red', 'blue'], ['circle', 'square'], ['cat', 'dog']]\n",
        "for sublist in nested_list:\n",
        "    for item in sublist:\n",
        "        print(item, end=' ')\n",
        "    print()"
      ]
    },
    {
      "cell_type": "code",
      "execution_count": 64,
      "metadata": {
        "colab": {
          "base_uri": "https://localhost:8080/"
        },
        "id": "3pwtLqiOdGay",
        "outputId": "7659c859-de84-4db8-aaa1-0d7c120ca21a"
      },
      "outputs": [
        {
          "name": "stdout",
          "output_type": "stream",
          "text": [
            "['APPLE', 'BANANA', 'CHERRY', 'DATE']\n"
          ]
        }
      ],
      "source": [
        "# List comperehesion.\n",
        "uppercase_fruits = [fruit.upper() for fruit in fruits]\n",
        "print(uppercase_fruits)"
      ]
    },
    {
      "cell_type": "code",
      "execution_count": 65,
      "metadata": {
        "colab": {
          "base_uri": "https://localhost:8080/"
        },
        "id": "4NjQVBYEdTmC",
        "outputId": "c5131150-679c-4c62-fa78-6c1d1017960c"
      },
      "outputs": [
        {
          "name": "stdout",
          "output_type": "stream",
          "text": [
            "date\n",
            "cherry\n",
            "banana\n",
            "apple\n"
          ]
        }
      ],
      "source": [
        "# Looping reverse order.\n",
        "for fruit in reversed(fruits):\n",
        "    print(fruit)"
      ]
    },
    {
      "cell_type": "code",
      "execution_count": 66,
      "metadata": {
        "colab": {
          "base_uri": "https://localhost:8080/"
        },
        "id": "PqJkfTuIddnz",
        "outputId": "dfc94e81-bca2-4088-b898-be853099b266"
      },
      "outputs": [
        {
          "name": "stdout",
          "output_type": "stream",
          "text": [
            "The color of apple is red\n",
            "The color of banana is yellow\n",
            "The color of cherry is pink\n",
            "The color of date is brown\n"
          ]
        }
      ],
      "source": [
        "# using zip to iterate two list.\n",
        "colors = ['red', 'yellow', 'pink', 'brown']\n",
        "for fruit, color in zip(fruits, colors):\n",
        "    print(f\"The color of {fruit} is {color}\")"
      ]
    },
    {
      "cell_type": "code",
      "execution_count": 67,
      "metadata": {
        "colab": {
          "base_uri": "https://localhost:8080/"
        },
        "id": "Cj0cTovxdpTN",
        "outputId": "e8e7cd36-44d7-421f-bb19-6c15e5530403"
      },
      "outputs": [
        {
          "name": "stderr",
          "output_type": "stream",
          "text": [
            "100%|██████████| 1000/1000 [00:10<00:00, 96.96it/s]\n"
          ]
        }
      ],
      "source": [
        "# use tqdm to show progress.\n",
        "from tqdm import tqdm\n",
        "import time\n",
        "\n",
        "for fruit in tqdm(range(1000)):\n",
        "    time.sleep(0.01)"
      ]
    },
    {
      "cell_type": "code",
      "execution_count": 68,
      "metadata": {
        "colab": {
          "base_uri": "https://localhost:8080/"
        },
        "id": "7ln-SNhndzSy",
        "outputId": "6f9861e1-2b7f-4dcc-b088-3a2cf63688e7"
      },
      "outputs": [
        {
          "name": "stdout",
          "output_type": "stream",
          "text": [
            "apple\n",
            "banana\n",
            "cherry\n",
            "date\n"
          ]
        }
      ],
      "source": [
        "# Use While Loop.\n",
        "index = 0\n",
        "while index < len(fruits):\n",
        "    print(fruits[index])\n",
        "    index += 1"
      ]
    },
    {
      "cell_type": "code",
      "execution_count": 69,
      "metadata": {
        "colab": {
          "base_uri": "https://localhost:8080/"
        },
        "id": "YddnA9RidzPI",
        "outputId": "12a3e854-936a-4ab4-e297-d48fed49307d"
      },
      "outputs": [
        {
          "name": "stdout",
          "output_type": "stream",
          "text": [
            "apple: red\n",
            "banana: yellow\n",
            "cherry: pink\n",
            "date: date\n"
          ]
        }
      ],
      "source": [
        "# Loop through dictionary.\n",
        "my_dict = {\n",
        "    'apple': 'red',\n",
        "    'banana': 'yellow',\n",
        "    'cherry': 'pink',\n",
        "    'date': 'date'\n",
        "}\n",
        "\n",
        "for key, value in my_dict.items():\n",
        "    print(f\"{key}: {value}\")"
      ]
    },
    {
      "cell_type": "markdown",
      "metadata": {
        "id": "dFdbxvSCgFrl"
      },
      "source": [
        "## Functions."
      ]
    },
    {
      "cell_type": "code",
      "execution_count": 70,
      "metadata": {
        "colab": {
          "base_uri": "https://localhost:8080/"
        },
        "id": "1zq1HGwpgI2t",
        "outputId": "ab0541b5-84e9-44d2-b8af-e7ed692342f9"
      },
      "outputs": [
        {
          "data": {
            "text/plain": [
              "25"
            ]
          },
          "execution_count": 70,
          "metadata": {},
          "output_type": "execute_result"
        }
      ],
      "source": [
        "# Basic Function Structure.\n",
        "def square(x):\n",
        "    return x * x\n",
        "\n",
        "def cube(x):\n",
        "    return x * x * x\n",
        "\n",
        "square(5)"
      ]
    },
    {
      "cell_type": "code",
      "execution_count": 72,
      "metadata": {
        "id": "B4lMK68kgPg2"
      },
      "outputs": [],
      "source": [
        "joy = set([1,2,3,4,5])\n",
        "\n",
        "joy.add(6)"
      ]
    },
    {
      "cell_type": "code",
      "execution_count": 73,
      "metadata": {
        "colab": {
          "base_uri": "https://localhost:8080/"
        },
        "id": "DvvZs6dkgrlC",
        "outputId": "32643513-b307-4c0a-837c-519c86482d04"
      },
      "outputs": [
        {
          "data": {
            "text/plain": [
              "6"
            ]
          },
          "execution_count": 73,
          "metadata": {},
          "output_type": "execute_result"
        }
      ],
      "source": [
        "def multiply(x, y):\n",
        "    return x * y\n",
        "\n",
        "multiply(2, 3)"
      ]
    },
    {
      "cell_type": "code",
      "execution_count": 74,
      "metadata": {
        "colab": {
          "base_uri": "https://localhost:8080/"
        },
        "id": "UXZCyU3SgyEi",
        "outputId": "ebdddd3f-acf8-4726-a70b-788bc1b1a566"
      },
      "outputs": [
        {
          "name": "stdout",
          "output_type": "stream",
          "text": [
            "Square root of 25: 5.0\n",
            "Factorial of 5: 120\n"
          ]
        }
      ],
      "source": [
        "# Modulas.\n",
        "import math\n",
        "\n",
        "num = 25\n",
        "print(f\"Square root of {num}: {math.sqrt(num)}\")\n",
        "print(f\"Factorial of 5: {math.factorial(5)}\")"
      ]
    },
    {
      "cell_type": "code",
      "execution_count": 75,
      "metadata": {
        "colab": {
          "base_uri": "https://localhost:8080/"
        },
        "id": "8ksLVp7Mg7oi",
        "outputId": "d13c4842-2bd3-44ab-e13f-7d4456d50316"
      },
      "outputs": [
        {
          "name": "stdout",
          "output_type": "stream",
          "text": [
            "\n",
            "Lambda Function Example:\n",
            "Double of 5 is: 10\n"
          ]
        }
      ],
      "source": [
        "# Lambda Functions.\n",
        "print(\"\\nLambda Function Example:\")\n",
        "\n",
        "double = lambda x: x * 2\n",
        "print(f\"Double of 5 is: {double(5)}\")"
      ]
    },
    {
      "cell_type": "code",
      "execution_count": 76,
      "metadata": {
        "colab": {
          "base_uri": "https://localhost:8080/"
        },
        "id": "dpagsgz4hHyA",
        "outputId": "58ae13ad-60b3-4d4e-d8ed-9b9d8f435832"
      },
      "outputs": [
        {
          "name": "stdout",
          "output_type": "stream",
          "text": [
            "Data has been written to sample.txt.\n"
          ]
        }
      ],
      "source": [
        "# File Handling : Write to a file.\n",
        "file_path = \"sample.txt\"\n",
        "with open(file_path, \"w\") as file:\n",
        "    file.write(\"This is a sample text written to the file.\\n\")\n",
        "    file.write(\"Python File Handling is easy!\\n\")\n",
        "\n",
        "print(f\"Data has been written to {file_path}.\")"
      ]
    },
    {
      "cell_type": "code",
      "execution_count": 77,
      "metadata": {
        "colab": {
          "base_uri": "https://localhost:8080/"
        },
        "id": "ey2UXITThSeQ",
        "outputId": "05a5210a-a6f8-405d-8c1c-5b4ee71f9b8c"
      },
      "outputs": [
        {
          "name": "stdout",
          "output_type": "stream",
          "text": [
            "File Content:\n",
            "\n",
            "This is a sample text written to the file.\n",
            "Python File Handling is easy!\n",
            "\n"
          ]
        }
      ],
      "source": [
        "# File Handling : Reading from a file.\n",
        "try:\n",
        "    with open(file_path, \"r\") as file:\n",
        "        content = file.read()\n",
        "        print(\"File Content:\\n\")\n",
        "        print(content)\n",
        "except FileNotFoundError:\n",
        "    print(f\"File {file_path} not found.\")"
      ]
    },
    {
      "cell_type": "code",
      "execution_count": 78,
      "metadata": {
        "id": "KIHe0eV8hfbs"
      },
      "outputs": [],
      "source": [
        "# Exception Handling.\n",
        "def divide_numbers(a, b):\n",
        "    try:\n",
        "        result = a / b\n",
        "    except ZeroDivisionError:\n",
        "        return \"Error: Division by zero is not allowed.\"\n",
        "    except TypeError:\n",
        "        return \"Error: Invalid input type.\"\n",
        "    return result\n"
      ]
    },
    {
      "cell_type": "code",
      "execution_count": 79,
      "metadata": {
        "colab": {
          "base_uri": "https://localhost:8080/"
        },
        "id": "VbLvr7ZChm7I",
        "outputId": "df50ac87-2a76-4d6e-a369-08c58df158c5"
      },
      "outputs": [
        {
          "data": {
            "text/plain": [
              "0.6"
            ]
          },
          "execution_count": 79,
          "metadata": {},
          "output_type": "execute_result"
        }
      ],
      "source": [
        "divide_numbers(3, 5)"
      ]
    }
  ],
  "metadata": {
    "colab": {
      "provenance": []
    },
    "kernelspec": {
      "display_name": "Python 3",
      "name": "python3"
    },
    "language_info": {
      "name": "python"
    }
  },
  "nbformat": 4,
  "nbformat_minor": 0
}
